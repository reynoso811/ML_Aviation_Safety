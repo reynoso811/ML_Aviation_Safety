{
 "cells": [
  {
   "cell_type": "code",
   "execution_count": 95,
   "metadata": {},
   "outputs": [],
   "source": [
    "## for data\n",
    "import pandas as pd\n",
    "import numpy as np\n",
    "from pandasgui import show\n",
    "import os\n",
    "import sys\n",
    "\n",
    "import datetime\n",
    "\n",
    "## for plotting\n",
    "import matplotlib.pyplot as plt\n",
    "import seaborn as sns\n",
    "\n",
    "PROJ_ROOT = os.path.join(os.pardir)"
   ]
  },
  {
   "cell_type": "markdown",
   "metadata": {},
   "source": [
    "# Step 1: Import the dataset, explore and ready the data for analysis¶\n"
   ]
  },
  {
   "cell_type": "code",
   "execution_count": 96,
   "metadata": {},
   "outputs": [],
   "source": [
    "aviation_data = r'/Users/robertreynoso/Desktop/Phase3_Project_Data/data/AviationDataEnd2016UP.csv'\n",
    "\n",
    "data = pd.read_csv(aviation_data, encoding='latin-1')"
   ]
  },
  {
   "cell_type": "code",
   "execution_count": 97,
   "metadata": {},
   "outputs": [
    {
     "data": {
      "text/html": [
       "<div>\n",
       "<style scoped>\n",
       "    .dataframe tbody tr th:only-of-type {\n",
       "        vertical-align: middle;\n",
       "    }\n",
       "\n",
       "    .dataframe tbody tr th {\n",
       "        vertical-align: top;\n",
       "    }\n",
       "\n",
       "    .dataframe thead th {\n",
       "        text-align: right;\n",
       "    }\n",
       "</style>\n",
       "<table border=\"1\" class=\"dataframe\">\n",
       "  <thead>\n",
       "    <tr style=\"text-align: right;\">\n",
       "      <th></th>\n",
       "      <th>Event.Id</th>\n",
       "      <th>Investigation.Type</th>\n",
       "      <th>Accident.Number</th>\n",
       "      <th>Event.Date</th>\n",
       "      <th>Location</th>\n",
       "      <th>Country</th>\n",
       "      <th>Latitude</th>\n",
       "      <th>Longitude</th>\n",
       "      <th>Airport.Code</th>\n",
       "      <th>Airport.Name</th>\n",
       "      <th>...</th>\n",
       "      <th>Purpose.of.Flight</th>\n",
       "      <th>Air.Carrier</th>\n",
       "      <th>Total.Fatal.Injuries</th>\n",
       "      <th>Total.Serious.Injuries</th>\n",
       "      <th>Total.Minor.Injuries</th>\n",
       "      <th>Total.Uninjured</th>\n",
       "      <th>Weather.Condition</th>\n",
       "      <th>Broad.Phase.of.Flight</th>\n",
       "      <th>Report.Status</th>\n",
       "      <th>Publication.Date</th>\n",
       "    </tr>\n",
       "  </thead>\n",
       "  <tbody>\n",
       "    <tr>\n",
       "      <th>0</th>\n",
       "      <td>20170103X43747</td>\n",
       "      <td>Accident</td>\n",
       "      <td>WPR17LA046</td>\n",
       "      <td>2017-01-03</td>\n",
       "      <td>Paradise, MT</td>\n",
       "      <td>United States</td>\n",
       "      <td>NaN</td>\n",
       "      <td>NaN</td>\n",
       "      <td>NaN</td>\n",
       "      <td>NaN</td>\n",
       "      <td>...</td>\n",
       "      <td>Personal</td>\n",
       "      <td>NaN</td>\n",
       "      <td>NaN</td>\n",
       "      <td>2.0</td>\n",
       "      <td>NaN</td>\n",
       "      <td>NaN</td>\n",
       "      <td>VMC</td>\n",
       "      <td>CRUISE</td>\n",
       "      <td>Preliminary</td>\n",
       "      <td>05/01/2017</td>\n",
       "    </tr>\n",
       "    <tr>\n",
       "      <th>1</th>\n",
       "      <td>20161230X55950</td>\n",
       "      <td>Accident</td>\n",
       "      <td>WPR17FA044</td>\n",
       "      <td>2016-12-29</td>\n",
       "      <td>Dabob, WA</td>\n",
       "      <td>United States</td>\n",
       "      <td>47.823611</td>\n",
       "      <td>-122.790000</td>\n",
       "      <td>NaN</td>\n",
       "      <td>NaN</td>\n",
       "      <td>...</td>\n",
       "      <td>Personal</td>\n",
       "      <td>NaN</td>\n",
       "      <td>4.0</td>\n",
       "      <td>NaN</td>\n",
       "      <td>NaN</td>\n",
       "      <td>NaN</td>\n",
       "      <td>VMC</td>\n",
       "      <td>NaN</td>\n",
       "      <td>Preliminary</td>\n",
       "      <td>05/01/2017</td>\n",
       "    </tr>\n",
       "    <tr>\n",
       "      <th>2</th>\n",
       "      <td>20161229X93022</td>\n",
       "      <td>Accident</td>\n",
       "      <td>CEN17LA062</td>\n",
       "      <td>2016-12-27</td>\n",
       "      <td>Piedmont, MO</td>\n",
       "      <td>United States</td>\n",
       "      <td>NaN</td>\n",
       "      <td>NaN</td>\n",
       "      <td>NaN</td>\n",
       "      <td>NaN</td>\n",
       "      <td>...</td>\n",
       "      <td>Personal</td>\n",
       "      <td>NaN</td>\n",
       "      <td>NaN</td>\n",
       "      <td>NaN</td>\n",
       "      <td>NaN</td>\n",
       "      <td>1.0</td>\n",
       "      <td>VMC</td>\n",
       "      <td>LANDING</td>\n",
       "      <td>Preliminary</td>\n",
       "      <td>03/01/2017</td>\n",
       "    </tr>\n",
       "    <tr>\n",
       "      <th>3</th>\n",
       "      <td>20161227X80237</td>\n",
       "      <td>Accident</td>\n",
       "      <td>CEN17LA061</td>\n",
       "      <td>2016-12-27</td>\n",
       "      <td>Farmington, MO</td>\n",
       "      <td>United States</td>\n",
       "      <td>37.761111</td>\n",
       "      <td>-90.428611</td>\n",
       "      <td>FAM</td>\n",
       "      <td>FARMINGTON RGNL</td>\n",
       "      <td>...</td>\n",
       "      <td>Personal</td>\n",
       "      <td>NaN</td>\n",
       "      <td>NaN</td>\n",
       "      <td>NaN</td>\n",
       "      <td>1.0</td>\n",
       "      <td>1.0</td>\n",
       "      <td>VMC</td>\n",
       "      <td>TAKEOFF</td>\n",
       "      <td>Preliminary</td>\n",
       "      <td>29/12/2016</td>\n",
       "    </tr>\n",
       "    <tr>\n",
       "      <th>4</th>\n",
       "      <td>20161226X80840</td>\n",
       "      <td>Accident</td>\n",
       "      <td>WPR17FA041</td>\n",
       "      <td>2016-12-26</td>\n",
       "      <td>Fresno, CA</td>\n",
       "      <td>United States</td>\n",
       "      <td>36.844444</td>\n",
       "      <td>-119.870834</td>\n",
       "      <td>E79</td>\n",
       "      <td>Sierra Sky Park</td>\n",
       "      <td>...</td>\n",
       "      <td>Personal</td>\n",
       "      <td>NaN</td>\n",
       "      <td>2.0</td>\n",
       "      <td>NaN</td>\n",
       "      <td>NaN</td>\n",
       "      <td>NaN</td>\n",
       "      <td>VMC</td>\n",
       "      <td>TAKEOFF</td>\n",
       "      <td>Preliminary</td>\n",
       "      <td>05/01/2017</td>\n",
       "    </tr>\n",
       "  </tbody>\n",
       "</table>\n",
       "<p>5 rows × 31 columns</p>\n",
       "</div>"
      ],
      "text/plain": [
       "          Event.Id Investigation.Type Accident.Number  Event.Date  \\\n",
       "0  20170103X43747            Accident      WPR17LA046  2017-01-03   \n",
       "1  20161230X55950            Accident      WPR17FA044  2016-12-29   \n",
       "2  20161229X93022            Accident      CEN17LA062  2016-12-27   \n",
       "3  20161227X80237            Accident      CEN17LA061  2016-12-27   \n",
       "4  20161226X80840            Accident      WPR17FA041  2016-12-26   \n",
       "\n",
       "         Location        Country   Latitude   Longitude Airport.Code  \\\n",
       "0    Paradise, MT  United States        NaN         NaN          NaN   \n",
       "1       Dabob, WA  United States  47.823611 -122.790000          NaN   \n",
       "2    Piedmont, MO  United States        NaN         NaN          NaN   \n",
       "3  Farmington, MO  United States  37.761111  -90.428611          FAM   \n",
       "4      Fresno, CA  United States  36.844444 -119.870834          E79   \n",
       "\n",
       "      Airport.Name  ... Purpose.of.Flight Air.Carrier Total.Fatal.Injuries  \\\n",
       "0              NaN  ...          Personal         NaN                  NaN   \n",
       "1              NaN  ...          Personal         NaN                  4.0   \n",
       "2              NaN  ...          Personal         NaN                  NaN   \n",
       "3  FARMINGTON RGNL  ...          Personal         NaN                  NaN   \n",
       "4  Sierra Sky Park  ...          Personal         NaN                  2.0   \n",
       "\n",
       "  Total.Serious.Injuries Total.Minor.Injuries Total.Uninjured  \\\n",
       "0                    2.0                  NaN             NaN   \n",
       "1                    NaN                  NaN             NaN   \n",
       "2                    NaN                  NaN             1.0   \n",
       "3                    NaN                  1.0             1.0   \n",
       "4                    NaN                  NaN             NaN   \n",
       "\n",
       "  Weather.Condition  Broad.Phase.of.Flight Report.Status Publication.Date  \n",
       "0               VMC                 CRUISE   Preliminary       05/01/2017  \n",
       "1               VMC                    NaN   Preliminary       05/01/2017  \n",
       "2               VMC                LANDING   Preliminary       03/01/2017  \n",
       "3               VMC                TAKEOFF   Preliminary       29/12/2016  \n",
       "4               VMC                TAKEOFF   Preliminary       05/01/2017  \n",
       "\n",
       "[5 rows x 31 columns]"
      ]
     },
     "execution_count": 97,
     "metadata": {},
     "output_type": "execute_result"
    }
   ],
   "source": [
    "data.head()"
   ]
  },
  {
   "cell_type": "code",
   "execution_count": 159,
   "metadata": {},
   "outputs": [
    {
     "data": {
      "text/plain": [
       "1.0     63082\n",
       "2.0     10057\n",
       "0.0      1275\n",
       "3.0       477\n",
       "4.0       415\n",
       "18.0        1\n",
       "Name: number_of_engines, dtype: int64"
      ]
     },
     "execution_count": 159,
     "metadata": {},
     "output_type": "execute_result"
    }
   ],
   "source": [
    "df['number_of_engines'].value_counts()"
   ]
  },
  {
   "cell_type": "code",
   "execution_count": 98,
   "metadata": {},
   "outputs": [
    {
     "data": {
      "text/plain": [
       "(79293, 31)"
      ]
     },
     "execution_count": 98,
     "metadata": {},
     "output_type": "execute_result"
    }
   ],
   "source": [
    "data.shape"
   ]
  },
  {
   "cell_type": "markdown",
   "metadata": {},
   "source": [
    "## Explore values of the columns"
   ]
  },
  {
   "cell_type": "code",
   "execution_count": 99,
   "metadata": {},
   "outputs": [
    {
     "data": {
      "text/plain": [
       "Index(['Event.Id', 'Investigation.Type', 'Accident.Number', 'Event.Date',\n",
       "       'Location', 'Country', 'Latitude', 'Longitude', 'Airport.Code',\n",
       "       'Airport.Name', 'Injury.Severity', 'Aircraft.Damage',\n",
       "       'Aircraft.Category', 'Registration.Number', 'Make', 'Model',\n",
       "       'Amateur.Built', 'Number.of.Engines', 'Engine.Type', 'FAR.Description',\n",
       "       'Schedule', 'Purpose.of.Flight', 'Air.Carrier', 'Total.Fatal.Injuries',\n",
       "       'Total.Serious.Injuries', 'Total.Minor.Injuries', 'Total.Uninjured',\n",
       "       'Weather.Condition', 'Broad.Phase.of.Flight', 'Report.Status',\n",
       "       'Publication.Date'],\n",
       "      dtype='object')"
      ]
     },
     "execution_count": 99,
     "metadata": {},
     "output_type": "execute_result"
    }
   ],
   "source": [
    "data.columns"
   ]
  },
  {
   "cell_type": "code",
   "execution_count": 100,
   "metadata": {},
   "outputs": [],
   "source": [
    "# create a sub dataframe with the selected columns needed for analysis\n",
    "\n",
    "df = data[['Event.Date', 'Location',  'Injury.Severity',  'Aircraft.Damage','Make', 'Model',\n",
    "       'Amateur.Built', 'Number.of.Engines', 'Engine.Type', 'Total.Fatal.Injuries',\n",
    "       'Total.Serious.Injuries', 'Total.Minor.Injuries', 'Total.Uninjured',\n",
    "       'Weather.Condition', 'Broad.Phase.of.Flight' ]]"
   ]
  },
  {
   "cell_type": "code",
   "execution_count": 101,
   "metadata": {},
   "outputs": [],
   "source": [
    "# rename the columns by remvoing the space and capital letters\n",
    "\n",
    "df.columns = ['event_date', 'location', 'injury_severity', \n",
    "              'aircraft_damage', 'make', 'model', \n",
    "              'amateur_build', 'number_of_engines', 'engine_type',\n",
    "              'total_fatal_injuries', 'total_serious_injuries', 'total_minor_injuries',\n",
    "              'total_uninjured', 'weather_conditions', 'phase_of_flight'\n",
    "             ]"
   ]
  },
  {
   "cell_type": "code",
   "execution_count": 102,
   "metadata": {},
   "outputs": [
    {
     "data": {
      "text/plain": [
       "(79293, 15)"
      ]
     },
     "execution_count": 102,
     "metadata": {},
     "output_type": "execute_result"
    }
   ],
   "source": [
    "df.shape"
   ]
  },
  {
   "cell_type": "code",
   "execution_count": 103,
   "metadata": {},
   "outputs": [
    {
     "name": "stdout",
     "output_type": "stream",
     "text": [
      "<class 'pandas.core.frame.DataFrame'>\n",
      "RangeIndex: 79293 entries, 0 to 79292\n",
      "Data columns (total 15 columns):\n",
      " #   Column                  Non-Null Count  Dtype  \n",
      "---  ------                  --------------  -----  \n",
      " 0   event_date              79293 non-null  object \n",
      " 1   location                79215 non-null  object \n",
      " 2   injury_severity         79293 non-null  object \n",
      " 3   aircraft_damage         76883 non-null  object \n",
      " 4   make                    79204 non-null  object \n",
      " 5   model                   79175 non-null  object \n",
      " 6   amateur_build           78721 non-null  object \n",
      " 7   number_of_engines       75175 non-null  float64\n",
      " 8   engine_type             75919 non-null  object \n",
      " 9   total_fatal_injuries    55984 non-null  float64\n",
      " 10  total_serious_injuries  53742 non-null  float64\n",
      " 11  total_minor_injuries    54833 non-null  float64\n",
      " 12  total_uninjured         66949 non-null  float64\n",
      " 13  weather_conditions      77136 non-null  object \n",
      " 14  phase_of_flight         73239 non-null  object \n",
      "dtypes: float64(5), object(10)\n",
      "memory usage: 9.1+ MB\n"
     ]
    }
   ],
   "source": [
    "df.info()"
   ]
  },
  {
   "cell_type": "code",
   "execution_count": 104,
   "metadata": {},
   "outputs": [
    {
     "data": {
      "text/html": [
       "<div>\n",
       "<style scoped>\n",
       "    .dataframe tbody tr th:only-of-type {\n",
       "        vertical-align: middle;\n",
       "    }\n",
       "\n",
       "    .dataframe tbody tr th {\n",
       "        vertical-align: top;\n",
       "    }\n",
       "\n",
       "    .dataframe thead th {\n",
       "        text-align: right;\n",
       "    }\n",
       "</style>\n",
       "<table border=\"1\" class=\"dataframe\">\n",
       "  <thead>\n",
       "    <tr style=\"text-align: right;\">\n",
       "      <th></th>\n",
       "      <th>number_of_engines</th>\n",
       "      <th>total_fatal_injuries</th>\n",
       "      <th>total_serious_injuries</th>\n",
       "      <th>total_minor_injuries</th>\n",
       "      <th>total_uninjured</th>\n",
       "    </tr>\n",
       "  </thead>\n",
       "  <tbody>\n",
       "    <tr>\n",
       "      <th>count</th>\n",
       "      <td>75175.000000</td>\n",
       "      <td>55984.000000</td>\n",
       "      <td>53742.000000</td>\n",
       "      <td>54833.000000</td>\n",
       "      <td>66949.000000</td>\n",
       "    </tr>\n",
       "    <tr>\n",
       "      <th>mean</th>\n",
       "      <td>1.148055</td>\n",
       "      <td>0.814679</td>\n",
       "      <td>0.317703</td>\n",
       "      <td>0.502581</td>\n",
       "      <td>5.790886</td>\n",
       "    </tr>\n",
       "    <tr>\n",
       "      <th>std</th>\n",
       "      <td>0.453847</td>\n",
       "      <td>6.233700</td>\n",
       "      <td>1.372924</td>\n",
       "      <td>2.781994</td>\n",
       "      <td>29.223016</td>\n",
       "    </tr>\n",
       "    <tr>\n",
       "      <th>min</th>\n",
       "      <td>0.000000</td>\n",
       "      <td>0.000000</td>\n",
       "      <td>0.000000</td>\n",
       "      <td>0.000000</td>\n",
       "      <td>0.000000</td>\n",
       "    </tr>\n",
       "    <tr>\n",
       "      <th>25%</th>\n",
       "      <td>1.000000</td>\n",
       "      <td>0.000000</td>\n",
       "      <td>0.000000</td>\n",
       "      <td>0.000000</td>\n",
       "      <td>0.000000</td>\n",
       "    </tr>\n",
       "    <tr>\n",
       "      <th>50%</th>\n",
       "      <td>1.000000</td>\n",
       "      <td>0.000000</td>\n",
       "      <td>0.000000</td>\n",
       "      <td>0.000000</td>\n",
       "      <td>1.000000</td>\n",
       "    </tr>\n",
       "    <tr>\n",
       "      <th>75%</th>\n",
       "      <td>1.000000</td>\n",
       "      <td>1.000000</td>\n",
       "      <td>0.000000</td>\n",
       "      <td>1.000000</td>\n",
       "      <td>2.000000</td>\n",
       "    </tr>\n",
       "    <tr>\n",
       "      <th>max</th>\n",
       "      <td>18.000000</td>\n",
       "      <td>349.000000</td>\n",
       "      <td>111.000000</td>\n",
       "      <td>380.000000</td>\n",
       "      <td>699.000000</td>\n",
       "    </tr>\n",
       "  </tbody>\n",
       "</table>\n",
       "</div>"
      ],
      "text/plain": [
       "       number_of_engines  total_fatal_injuries  total_serious_injuries  \\\n",
       "count       75175.000000          55984.000000            53742.000000   \n",
       "mean            1.148055              0.814679                0.317703   \n",
       "std             0.453847              6.233700                1.372924   \n",
       "min             0.000000              0.000000                0.000000   \n",
       "25%             1.000000              0.000000                0.000000   \n",
       "50%             1.000000              0.000000                0.000000   \n",
       "75%             1.000000              1.000000                0.000000   \n",
       "max            18.000000            349.000000              111.000000   \n",
       "\n",
       "       total_minor_injuries  total_uninjured  \n",
       "count          54833.000000     66949.000000  \n",
       "mean               0.502581         5.790886  \n",
       "std                2.781994        29.223016  \n",
       "min                0.000000         0.000000  \n",
       "25%                0.000000         0.000000  \n",
       "50%                0.000000         1.000000  \n",
       "75%                1.000000         2.000000  \n",
       "max              380.000000       699.000000  "
      ]
     },
     "execution_count": 104,
     "metadata": {},
     "output_type": "execute_result"
    }
   ],
   "source": [
    "#statistics on numerical data\n",
    "df.describe()"
   ]
  },
  {
   "cell_type": "code",
   "execution_count": 105,
   "metadata": {},
   "outputs": [
    {
     "data": {
      "text/plain": [
       "event_date                    0\n",
       "location                     78\n",
       "injury_severity               0\n",
       "aircraft_damage            2410\n",
       "make                         89\n",
       "model                       118\n",
       "amateur_build               572\n",
       "number_of_engines          4118\n",
       "engine_type                3374\n",
       "total_fatal_injuries      23309\n",
       "total_serious_injuries    25551\n",
       "total_minor_injuries      24460\n",
       "total_uninjured           12344\n",
       "weather_conditions         2157\n",
       "phase_of_flight            6054\n",
       "dtype: int64"
      ]
     },
     "execution_count": 105,
     "metadata": {},
     "output_type": "execute_result"
    }
   ],
   "source": [
    "df.isnull().sum()"
   ]
  },
  {
   "cell_type": "markdown",
   "metadata": {},
   "source": [
    "## Plotting and data study functions"
   ]
  },
  {
   "cell_type": "code",
   "execution_count": 106,
   "metadata": {
    "jupyter": {
     "source_hidden": true
    }
   },
   "outputs": [],
   "source": [
    "def plot_histograms( df , variables , n_rows , n_cols ):\n",
    "    fig = plt.figure( figsize = ( 16 , 12 ) )\n",
    "    for i, var_name in enumerate( variables ):\n",
    "        ax=fig.add_subplot( n_rows , n_cols , i+1 )\n",
    "        df[ var_name ].hist( bins=10 , ax=ax )\n",
    "        ax.set_title( 'Skew: ' + str( round( float( df[ var_name ].skew() ) , ) ) ) # + ' ' + var_name ) #var_name+\" Distribution\")\n",
    "        ax.set_xticklabels( [] , visible=False )\n",
    "        ax.set_yticklabels( [] , visible=False )\n",
    "    fig.tight_layout()  # Improves appearance a bit.\n",
    "    plt.show()\n",
    "\n",
    "def plot_distribution( df , var , target , **kwargs ):\n",
    "    row = kwargs.get( 'row' , None )\n",
    "    col = kwargs.get( 'col' , None )\n",
    "    facet = sns.FacetGrid( df , hue=target , aspect=4 , row = row , col = col )\n",
    "    facet.map( sns.kdeplot , var , shade= True )\n",
    "    facet.set( xlim=( df[ var ].min() , df[ var ].max() ) )\n",
    "    facet.add_legend()\n",
    "\n",
    "def plot_categories( df , cat , target , **kwargs ):\n",
    "    row = kwargs.get( 'row' , None )\n",
    "    col = kwargs.get( 'col' , None )\n",
    "    facet = sns.FacetGrid( df , row = row , col = col )\n",
    "    facet.map( sns.barplot , cat , target )\n",
    "    facet.add_legend()\n",
    "\n",
    "def plot_correlation_map( df ):\n",
    "    corr = df.corr()\n",
    "    _ , ax = plt.subplots( figsize =( 12 , 10 ) )\n",
    "    cmap = sns.diverging_palette( 220 , 10 , as_cmap = True )\n",
    "    _ = sns.heatmap(\n",
    "        corr, \n",
    "        cmap = cmap,\n",
    "        square=True, \n",
    "        cbar_kws={ 'shrink' : .9 }, \n",
    "        ax=ax, \n",
    "        annot = True, \n",
    "        annot_kws = { 'fontsize' : 12 }\n",
    "    )\n",
    "\n",
    "def describe_more( df ):\n",
    "    var = [] ; l = [] ; t = []\n",
    "    for x in df:\n",
    "        var.append( x )\n",
    "        l.append( len( pd.value_counts( df[ x ] ) ) )\n",
    "        t.append( df[ x ].dtypes )\n",
    "    levels = pd.DataFrame( { 'Variable' : var , 'Levels' : l , 'Datatype' : t } )\n",
    "    levels.sort_values( by = 'Levels' , inplace = True )\n",
    "    return levels\n",
    "\n",
    "def plot_variable_importance( X , y ):\n",
    "    tree = DecisionTreeClassifier( random_state = 99 )\n",
    "    tree.fit( X , y )\n",
    "    plot_model_var_imp( tree , X , y )\n",
    "    \n",
    "def plot_model_var_imp( model , X , y ):\n",
    "    imp = pd.DataFrame( \n",
    "        model.feature_importances_  , \n",
    "        columns = [ 'Importance' ] , \n",
    "        index = X.columns \n",
    "    )\n",
    "    imp = imp.sort_values( [ 'Importance' ] , ascending = True )\n",
    "    imp[ : 10 ].plot( kind = 'barh' )\n",
    "    print (model.score( X , y ))\n",
    "    \n",
    "def category_values(dataframe, categories):\n",
    "    for c in categories:\n",
    "        print('\\n', dataframe.groupby(by=c)[c].count().sort_values(ascending=False))\n",
    "        print('Nulls: ', dataframe[c].isnull().sum())"
   ]
  },
  {
   "cell_type": "code",
   "execution_count": 107,
   "metadata": {
    "jupyter": {
     "source_hidden": true
    }
   },
   "outputs": [],
   "source": [
    "'''\n",
    "Recognize whether a column is numerical or categorical.\n",
    ":parameter\n",
    "    :param dtf: dataframe - input data\n",
    "    :param col: str - name of the column to analyze\n",
    "    :param max_cat: num - max number of unique values to recognize a column as categorical\n",
    ":return\n",
    "    \"cat\" if the column is categorical or \"num\" otherwise\n",
    "'''\n",
    "def utils_recognize_type(df, col, max_cat=20):\n",
    "    if (df[col].dtype == \"O\") | (df[col].nunique() < max_cat):\n",
    "        return \"cat\"\n",
    "    else:\n",
    "        return \"num\""
   ]
  },
  {
   "cell_type": "code",
   "execution_count": 108,
   "metadata": {
    "jupyter": {
     "source_hidden": true
    }
   },
   "outputs": [
    {
     "data": {
      "image/png": "[encoded data removed]",
      "text/plain": [
       "<Figure size 432x288 with 1 Axes>"
      ]
     },
     "metadata": {
      "needs_background": "light"
     },
     "output_type": "display_data"
    },
    {
     "name": "stdout",
     "output_type": "stream",
     "text": [
      "\u001b[1;37;40m Categerocial  \u001b[1;30;41m Numeric  \u001b[1;30;47m NaN \n"
     ]
    }
   ],
   "source": [
    "\n",
    "dic_cols = {col:utils_recognize_type(df, col, max_cat=20) for col in df.columns}\n",
    "heatmap = df.isnull()\n",
    "for k,v in dic_cols.items():\n",
    " if v == \"num\":\n",
    "   heatmap[k] = heatmap[k].apply(lambda x: 0.5 if x is False else 1)\n",
    " else:\n",
    "   heatmap[k] = heatmap[k].apply(lambda x: 0 if x is False else 1)\n",
    "sns.heatmap(heatmap, cbar=False).set_title('Dataset Overview')\n",
    "plt.show()\n",
    "\n",
    "print(\"\\033[1;37;40m Categerocial \", \"\\033[1;30;41m Numeric \", \"\\033[1;30;47m NaN \")"
   ]
  },
  {
   "cell_type": "markdown",
   "metadata": {},
   "source": [
    "## Data cleaning"
   ]
  },
  {
   "cell_type": "code",
   "execution_count": 109,
   "metadata": {},
   "outputs": [],
   "source": [
    "#sort by ascending date\n",
    "df = df.sort_values(by='event_date', ascending=True, na_position='first')\n",
    "\n",
    "#sort make ascending\n",
    "df = df.sort_values(by='make', ascending=True, na_position='first')"
   ]
  },
  {
   "cell_type": "code",
   "execution_count": null,
   "metadata": {},
   "outputs": [],
   "source": [
    "#counts on unique values for each feature\n",
    "\n",
    "describe_more(df)"
   ]
  },
  {
   "cell_type": "code",
   "execution_count": 110,
   "metadata": {},
   "outputs": [],
   "source": [
    "#splitting date field in the components\n",
    "\n",
    "df['Year'] = df['event_date'].apply(lambda d: datetime.datetime.strptime(d, \"%Y-%m-%d\").year)\n",
    "df['Month'] = df['event_date'].apply(lambda d: datetime.datetime.strptime(d, \"%Y-%m-%d\").month)\n",
    "df['Day'] = df['event_date'].apply(lambda d: datetime.datetime.strptime(d, \"%Y-%m-%d\").day)\n"
   ]
  },
  {
   "cell_type": "code",
   "execution_count": 111,
   "metadata": {},
   "outputs": [],
   "source": [
    "#clean 'make' column to Caps\n",
    "\n",
    "df['make'] = df.make.str.upper()"
   ]
  },
  {
   "cell_type": "code",
   "execution_count": 119,
   "metadata": {},
   "outputs": [],
   "source": [
    "#add a colunm that represents the total number of injuries in the accidents\n",
    "\n",
    "#target column? split into fatl none fatal?\n",
    "\n",
    "df['injuries'] = df['total_fatal_injuries'] + df['total_serious_injuries'] + df['total_minor_injuries']\n",
    "\n",
    "df['pax_onboard'] = (df['total_uninjured']+df['injuries'])\n",
    "\n",
    "df['fatality_percentage'] = (df['total_fatal_injuries']/df['pax_onboard'])*100\n",
    "\n",
    "#target good math?\n",
    "df['survived'] = df['pax_onboard'] - df['total_fatal_injuries']\n",
    "\n",
    "#df['accident_classifier'] = logic that returns bool fatal or non-fatal\n",
    "\n",
    "#fatal vs non fatal accident\n",
    "#aircraft damage?\n",
    "\n",
    "\n",
    "#need logic to help with missing values\n",
    "\n",
    "#knnImpuiter vs mean of pax_onboard????\n"
   ]
  },
  {
   "cell_type": "code",
   "execution_count": null,
   "metadata": {},
   "outputs": [],
   "source": [
    "gui  = show(df)"
   ]
  },
  {
   "cell_type": "code",
   "execution_count": null,
   "metadata": {},
   "outputs": [],
   "source": [
    "#begin to look for unique categories\n",
    "\n",
    "categories = ['event_date', 'location', 'injury_severity', \n",
    "              'aircraft_damage', 'make', 'model', \n",
    "              'amateur_build', 'number_of_engines', 'engine_type',\n",
    "              'total_fatal_injuries', 'total_serious_injuries', 'total_minor_injuries',\n",
    "              'total_uninjured', 'weather_conditions'\n",
    "             ]\n",
    "for c in categories:\n",
    "    print(c ,df[c].unique())"
   ]
  },
  {
   "cell_type": "code",
   "execution_count": null,
   "metadata": {},
   "outputs": [],
   "source": [
    "#count the number of different values for each category feature\n",
    "\n",
    "category_values(df, categories)"
   ]
  },
  {
   "cell_type": "code",
   "execution_count": null,
   "metadata": {},
   "outputs": [],
   "source": [
    "gui  = show(df)"
   ]
  },
  {
   "cell_type": "markdown",
   "metadata": {},
   "source": [
    "## Filling Null values"
   ]
  },
  {
   "cell_type": "code",
   "execution_count": 113,
   "metadata": {},
   "outputs": [],
   "source": [
    "#filling some Null values\n",
    "\n",
    "#aircraft_damage, number_of_engines, engine_type use knn!!!\n",
    "\n",
    "#set missing Locations to unknown\n",
    "df['location'].fillna('Unknown', inplace=True)\n",
    "\n",
    "#fixing weather conditions\n",
    "df['weather_conditions'].fillna('UNK', inplace=True)\n"
   ]
  },
  {
   "cell_type": "code",
   "execution_count": 114,
   "metadata": {},
   "outputs": [],
   "source": [
    "#extracting producers and amateurs\n",
    "\n",
    "producers = [x for x in df['make'][df['amateur_build']== 'No'].unique() ]\n",
    "amateurs  = [x for x in df['make'][df['amateur_build']== 'Yes'].unique() ]\n",
    "\n",
    "# -----------------------------------------------\n",
    "#function that fixes the null in amateur.build\n",
    "\n",
    "def fix_amateur_built(ab, m):\n",
    "    if type(ab) == str:\n",
    "        return ab\n",
    "    else:\n",
    "        if m in producers:\n",
    "            return 'No'\n",
    "        else:\n",
    "            return 'Yes'\n",
    "#fix for amateur_build field\n",
    "\n",
    "am_build = df.apply(lambda x: fix_amateur_built(x['amateur_build'], x['make']), axis=1)\n",
    "\n",
    "df = df.assign(AmateurBuilt = am_build, index=df.index)\n",
    "\n",
    "#drop old amateur column before saving to new df"
   ]
  },
  {
   "cell_type": "code",
   "execution_count": 120,
   "metadata": {},
   "outputs": [
    {
     "name": "stderr",
     "output_type": "stream",
     "text": [
      "/opt/anaconda3/lib/python3.8/site-packages/pandas/core/indexing.py:670: SettingWithCopyWarning:\n",
      "\n",
      "\n",
      "A value is trying to be set on a copy of a slice from a DataFrame\n",
      "\n",
      "See the caveats in the documentation: https://pandas.pydata.org/pandas-docs/stable/user_guide/indexing.html#returning-a-view-versus-a-copy\n",
      "\n"
     ]
    }
   ],
   "source": [
    "#setting 0 engines for balloons\n",
    "#.loc\n",
    "\n",
    "df['number_of_engines'][df['number_of_engines'].isnull() & (df['make'].str.contains('balloon', case=False))] = 0.0"
   ]
  },
  {
   "cell_type": "code",
   "execution_count": 116,
   "metadata": {},
   "outputs": [
    {
     "data": {
      "text/plain": [
       "event_date                    0\n",
       "location                      0\n",
       "injury_severity               0\n",
       "aircraft_damage            2410\n",
       "make                         89\n",
       "model                       118\n",
       "amateur_build               572\n",
       "number_of_engines          3986\n",
       "engine_type                3374\n",
       "total_fatal_injuries      23309\n",
       "total_serious_injuries    25551\n",
       "total_minor_injuries      24460\n",
       "total_uninjured           12344\n",
       "weather_conditions            0\n",
       "phase_of_flight            6054\n",
       "Year                          0\n",
       "Month                         0\n",
       "Day                           0\n",
       "injuries                  29557\n",
       "pax_onboard               29671\n",
       "fatality_percentage       31071\n",
       "survived                  29671\n",
       "AmateurBuilt                  0\n",
       "index                         0\n",
       "dtype: int64"
      ]
     },
     "execution_count": 116,
     "metadata": {},
     "output_type": "execute_result"
    }
   ],
   "source": [
    "df.isnull().sum()"
   ]
  },
  {
   "cell_type": "code",
   "execution_count": 117,
   "metadata": {},
   "outputs": [
    {
     "name": "stdout",
     "output_type": "stream",
     "text": [
      "<class 'pandas.core.frame.DataFrame'>\n",
      "Int64Index: 79293 entries, 77738 to 12323\n",
      "Data columns (total 24 columns):\n",
      " #   Column                  Non-Null Count  Dtype  \n",
      "---  ------                  --------------  -----  \n",
      " 0   event_date              79293 non-null  object \n",
      " 1   location                79293 non-null  object \n",
      " 2   injury_severity         79293 non-null  object \n",
      " 3   aircraft_damage         76883 non-null  object \n",
      " 4   make                    79204 non-null  object \n",
      " 5   model                   79175 non-null  object \n",
      " 6   amateur_build           78721 non-null  object \n",
      " 7   number_of_engines       75307 non-null  float64\n",
      " 8   engine_type             75919 non-null  object \n",
      " 9   total_fatal_injuries    55984 non-null  float64\n",
      " 10  total_serious_injuries  53742 non-null  float64\n",
      " 11  total_minor_injuries    54833 non-null  float64\n",
      " 12  total_uninjured         66949 non-null  float64\n",
      " 13  weather_conditions      79293 non-null  object \n",
      " 14  phase_of_flight         73239 non-null  object \n",
      " 15  Year                    79293 non-null  int64  \n",
      " 16  Month                   79293 non-null  int64  \n",
      " 17  Day                     79293 non-null  int64  \n",
      " 18  injuries                49736 non-null  float64\n",
      " 19  pax_onboard             49622 non-null  float64\n",
      " 20  fatality_percentage     48222 non-null  float64\n",
      " 21  survived                49622 non-null  float64\n",
      " 22  AmateurBuilt            79293 non-null  object \n",
      " 23  index                   79293 non-null  int64  \n",
      "dtypes: float64(9), int64(4), object(11)\n",
      "memory usage: 15.1+ MB\n"
     ]
    }
   ],
   "source": [
    "df.info()"
   ]
  },
  {
   "cell_type": "markdown",
   "metadata": {},
   "source": [
    "## Change the non-numeric data to numeric data"
   ]
  },
  {
   "cell_type": "code",
   "execution_count": 118,
   "metadata": {},
   "outputs": [],
   "source": [
    "deepCopy = df.copy()"
   ]
  },
  {
   "cell_type": "code",
   "execution_count": 130,
   "metadata": {},
   "outputs": [],
   "source": [
    "#Encoders require their input to be uniformly strings or numbers. \n",
    "\n",
    "#deepCopy['AmateurBuilt'] = deepCopy.AmateurBuilt.map(dict(yes=1, no=0))\n",
    "\n",
    "deepCopy[['make','model','AmateurBuilt',\n",
    "    'engine_type','number_of_engines','weather_conditions']] = deepCopy[['make','model','AmateurBuilt',\n",
    "                                                'engine_type','number_of_engines','weather_conditions']].astype(str)"
   ]
  },
  {
   "cell_type": "code",
   "execution_count": 144,
   "metadata": {},
   "outputs": [],
   "source": [
    "\n",
    "#Encoding categorical data values (Transforming object data types to integers)\n",
    "from sklearn.preprocessing import LabelEncoder\n",
    "labelencoder = LabelEncoder()\n",
    "\n",
    "#label vs hot_encoder??? \n",
    "\n",
    "#Encode make column\n",
    "deepCopy.iloc[:,4]=labelencoder.fit_transform(deepCopy.iloc[:,4].values)\n",
    "\n",
    "\n",
    "#Encode model\n",
    "deepCopy.iloc[:,5]=labelencoder.fit_transform(deepCopy.iloc[:,5].values)\n",
    "\n",
    "#Encode amateur_build\n",
    "deepCopy.iloc[:,17]=labelencoder.fit_transform(deepCopy.iloc[:,17].values)\n",
    "\n",
    "#Encode engine_type\n",
    "deepCopy.iloc[:,8]=labelencoder.fit_transform(deepCopy.iloc[:,8].values)\n",
    "\n",
    "#Encode weather_conditions\n",
    "#deepCopy.iloc[:,13]=labelencoder.fit_transform(deepCopy.iloc[:,13].values)\n",
    "\n",
    "\n",
    "#Print the NEW unique values in the columns\n",
    "#print(titanic['sex'].unique())\n"
   ]
  },
  {
   "cell_type": "code",
   "execution_count": null,
   "metadata": {},
   "outputs": [],
   "source": [
    "gui  = show(df)"
   ]
  },
  {
   "cell_type": "markdown",
   "metadata": {},
   "source": [
    "## Testing imputing missing data"
   ]
  },
  {
   "cell_type": "code",
   "execution_count": 145,
   "metadata": {},
   "outputs": [],
   "source": [
    "#testing KNNImputer on number_of_engines and aircraft damage(make unique feature?)\n",
    "\n",
    "from sklearn.impute import KNNImputer\n",
    "\n",
    "imputer = KNNImputer(n_neighbors=1)\n",
    "\n",
    "\n",
    "#X = deepCopy.columns(['make','model','amateur_build','engine_type','number_of_engines'])"
   ]
  },
  {
   "cell_type": "code",
   "execution_count": 146,
   "metadata": {},
   "outputs": [],
   "source": [
    "test = deepCopy[['make','model','engine_type','number_of_engines']]"
   ]
  },
  {
   "cell_type": "code",
   "execution_count": 147,
   "metadata": {},
   "outputs": [],
   "source": [
    "from sklearn.model_selection import train_test_split\n",
    "\n",
    "train, test = train_test_split(test, test_size=0.2, random_state=5)"
   ]
  },
  {
   "cell_type": "code",
   "execution_count": 148,
   "metadata": {},
   "outputs": [
    {
     "data": {
      "text/html": [
       "<div>\n",
       "<style scoped>\n",
       "    .dataframe tbody tr th:only-of-type {\n",
       "        vertical-align: middle;\n",
       "    }\n",
       "\n",
       "    .dataframe tbody tr th {\n",
       "        vertical-align: top;\n",
       "    }\n",
       "\n",
       "    .dataframe thead th {\n",
       "        text-align: right;\n",
       "    }\n",
       "</style>\n",
       "<table border=\"1\" class=\"dataframe\">\n",
       "  <thead>\n",
       "    <tr style=\"text-align: right;\">\n",
       "      <th></th>\n",
       "      <th>make</th>\n",
       "      <th>model</th>\n",
       "      <th>engine_type</th>\n",
       "      <th>number_of_engines</th>\n",
       "    </tr>\n",
       "  </thead>\n",
       "  <tbody>\n",
       "    <tr>\n",
       "      <th>26445</th>\n",
       "      <td>3232</td>\n",
       "      <td>7835</td>\n",
       "      <td>11</td>\n",
       "      <td>1.0</td>\n",
       "    </tr>\n",
       "    <tr>\n",
       "      <th>474</th>\n",
       "      <td>3979</td>\n",
       "      <td>6108</td>\n",
       "      <td>6</td>\n",
       "      <td>0.0</td>\n",
       "    </tr>\n",
       "    <tr>\n",
       "      <th>40005</th>\n",
       "      <td>1031</td>\n",
       "      <td>5882</td>\n",
       "      <td>11</td>\n",
       "      <td>1.0</td>\n",
       "    </tr>\n",
       "    <tr>\n",
       "      <th>52972</th>\n",
       "      <td>3793</td>\n",
       "      <td>309</td>\n",
       "      <td>11</td>\n",
       "      <td>1.0</td>\n",
       "    </tr>\n",
       "    <tr>\n",
       "      <th>17212</th>\n",
       "      <td>1230</td>\n",
       "      <td>4856</td>\n",
       "      <td>11</td>\n",
       "      <td>1.0</td>\n",
       "    </tr>\n",
       "    <tr>\n",
       "      <th>...</th>\n",
       "      <td>...</td>\n",
       "      <td>...</td>\n",
       "      <td>...</td>\n",
       "      <td>...</td>\n",
       "    </tr>\n",
       "    <tr>\n",
       "      <th>41318</th>\n",
       "      <td>120</td>\n",
       "      <td>2344</td>\n",
       "      <td>11</td>\n",
       "      <td>1.0</td>\n",
       "    </tr>\n",
       "    <tr>\n",
       "      <th>27988</th>\n",
       "      <td>2211</td>\n",
       "      <td>200</td>\n",
       "      <td>11</td>\n",
       "      <td>1.0</td>\n",
       "    </tr>\n",
       "    <tr>\n",
       "      <th>17221</th>\n",
       "      <td>120</td>\n",
       "      <td>7177</td>\n",
       "      <td>11</td>\n",
       "      <td>1.0</td>\n",
       "    </tr>\n",
       "    <tr>\n",
       "      <th>62912</th>\n",
       "      <td>120</td>\n",
       "      <td>2022</td>\n",
       "      <td>11</td>\n",
       "      <td>1.0</td>\n",
       "    </tr>\n",
       "    <tr>\n",
       "      <th>22087</th>\n",
       "      <td>4082</td>\n",
       "      <td>9100</td>\n",
       "      <td>11</td>\n",
       "      <td>1.0</td>\n",
       "    </tr>\n",
       "  </tbody>\n",
       "</table>\n",
       "<p>15859 rows × 4 columns</p>\n",
       "</div>"
      ],
      "text/plain": [
       "       make  model  engine_type number_of_engines\n",
       "26445  3232   7835           11               1.0\n",
       "474    3979   6108            6               0.0\n",
       "40005  1031   5882           11               1.0\n",
       "52972  3793    309           11               1.0\n",
       "17212  1230   4856           11               1.0\n",
       "...     ...    ...          ...               ...\n",
       "41318   120   2344           11               1.0\n",
       "27988  2211    200           11               1.0\n",
       "17221   120   7177           11               1.0\n",
       "62912   120   2022           11               1.0\n",
       "22087  4082   9100           11               1.0\n",
       "\n",
       "[15859 rows x 4 columns]"
      ]
     },
     "execution_count": 148,
     "metadata": {},
     "output_type": "execute_result"
    }
   ],
   "source": [
    "test"
   ]
  },
  {
   "cell_type": "code",
   "execution_count": 149,
   "metadata": {},
   "outputs": [
    {
     "data": {
      "text/html": [
       "<div>\n",
       "<style scoped>\n",
       "    .dataframe tbody tr th:only-of-type {\n",
       "        vertical-align: middle;\n",
       "    }\n",
       "\n",
       "    .dataframe tbody tr th {\n",
       "        vertical-align: top;\n",
       "    }\n",
       "\n",
       "    .dataframe thead th {\n",
       "        text-align: right;\n",
       "    }\n",
       "</style>\n",
       "<table border=\"1\" class=\"dataframe\">\n",
       "  <thead>\n",
       "    <tr style=\"text-align: right;\">\n",
       "      <th></th>\n",
       "      <th>event_date</th>\n",
       "      <th>location</th>\n",
       "      <th>injury_severity</th>\n",
       "      <th>aircraft_damage</th>\n",
       "      <th>make</th>\n",
       "      <th>model</th>\n",
       "      <th>amateur_build</th>\n",
       "      <th>number_of_engines</th>\n",
       "      <th>engine_type</th>\n",
       "      <th>total_fatal_injuries</th>\n",
       "      <th>...</th>\n",
       "      <th>phase_of_flight</th>\n",
       "      <th>Year</th>\n",
       "      <th>Month</th>\n",
       "      <th>Day</th>\n",
       "      <th>injuries</th>\n",
       "      <th>pax_onboard</th>\n",
       "      <th>fatality_percentage</th>\n",
       "      <th>survived</th>\n",
       "      <th>AmateurBuilt</th>\n",
       "      <th>index</th>\n",
       "    </tr>\n",
       "  </thead>\n",
       "  <tbody>\n",
       "    <tr>\n",
       "      <th>77738</th>\n",
       "      <td>1982-06-13</td>\n",
       "      <td>CAMBRIA, NY</td>\n",
       "      <td>Non-Fatal</td>\n",
       "      <td>Destroyed</td>\n",
       "      <td>6343</td>\n",
       "      <td>1668</td>\n",
       "      <td>No</td>\n",
       "      <td>1.0</td>\n",
       "      <td>11</td>\n",
       "      <td>0.0</td>\n",
       "      <td>...</td>\n",
       "      <td>CLIMB</td>\n",
       "      <td>1982</td>\n",
       "      <td>6</td>\n",
       "      <td>12</td>\n",
       "      <td>1.0</td>\n",
       "      <td>1.0</td>\n",
       "      <td>0.0</td>\n",
       "      <td>1.0</td>\n",
       "      <td>nan</td>\n",
       "      <td>77738</td>\n",
       "    </tr>\n",
       "    <tr>\n",
       "      <th>77526</th>\n",
       "      <td>1982-07-01</td>\n",
       "      <td>MCWHORTER, KY</td>\n",
       "      <td>Non-Fatal</td>\n",
       "      <td>Destroyed</td>\n",
       "      <td>6343</td>\n",
       "      <td>7285</td>\n",
       "      <td>Yes</td>\n",
       "      <td>1.0</td>\n",
       "      <td>11</td>\n",
       "      <td>0.0</td>\n",
       "      <td>...</td>\n",
       "      <td>CRUISE</td>\n",
       "      <td>1982</td>\n",
       "      <td>7</td>\n",
       "      <td>0</td>\n",
       "      <td>2.0</td>\n",
       "      <td>2.0</td>\n",
       "      <td>0.0</td>\n",
       "      <td>2.0</td>\n",
       "      <td>nan</td>\n",
       "      <td>77526</td>\n",
       "    </tr>\n",
       "    <tr>\n",
       "      <th>77325</th>\n",
       "      <td>1982-07-16</td>\n",
       "      <td>FREDERICK, MD</td>\n",
       "      <td>Fatal(1)</td>\n",
       "      <td>Destroyed</td>\n",
       "      <td>6343</td>\n",
       "      <td>1196</td>\n",
       "      <td>Yes</td>\n",
       "      <td>1.0</td>\n",
       "      <td>11</td>\n",
       "      <td>1.0</td>\n",
       "      <td>...</td>\n",
       "      <td>APPROACH</td>\n",
       "      <td>1982</td>\n",
       "      <td>7</td>\n",
       "      <td>15</td>\n",
       "      <td>1.0</td>\n",
       "      <td>1.0</td>\n",
       "      <td>100.0</td>\n",
       "      <td>0.0</td>\n",
       "      <td>nan</td>\n",
       "      <td>77325</td>\n",
       "    </tr>\n",
       "    <tr>\n",
       "      <th>76825</th>\n",
       "      <td>1982-08-21</td>\n",
       "      <td>VENTURA, CA</td>\n",
       "      <td>Non-Fatal</td>\n",
       "      <td>Destroyed</td>\n",
       "      <td>6343</td>\n",
       "      <td>8064</td>\n",
       "      <td>Yes</td>\n",
       "      <td>1.0</td>\n",
       "      <td>11</td>\n",
       "      <td>0.0</td>\n",
       "      <td>...</td>\n",
       "      <td>MANEUVERING</td>\n",
       "      <td>1982</td>\n",
       "      <td>8</td>\n",
       "      <td>20</td>\n",
       "      <td>0.0</td>\n",
       "      <td>1.0</td>\n",
       "      <td>0.0</td>\n",
       "      <td>1.0</td>\n",
       "      <td>nan</td>\n",
       "      <td>76825</td>\n",
       "    </tr>\n",
       "    <tr>\n",
       "      <th>76786</th>\n",
       "      <td>1982-08-24</td>\n",
       "      <td>SIDNEY, NE</td>\n",
       "      <td>Non-Fatal</td>\n",
       "      <td>Substantial</td>\n",
       "      <td>6343</td>\n",
       "      <td>10950</td>\n",
       "      <td>Yes</td>\n",
       "      <td>1.0</td>\n",
       "      <td>11</td>\n",
       "      <td>0.0</td>\n",
       "      <td>...</td>\n",
       "      <td>LANDING</td>\n",
       "      <td>1982</td>\n",
       "      <td>8</td>\n",
       "      <td>23</td>\n",
       "      <td>0.0</td>\n",
       "      <td>1.0</td>\n",
       "      <td>0.0</td>\n",
       "      <td>1.0</td>\n",
       "      <td>nan</td>\n",
       "      <td>76786</td>\n",
       "    </tr>\n",
       "  </tbody>\n",
       "</table>\n",
       "<p>5 rows × 24 columns</p>\n",
       "</div>"
      ],
      "text/plain": [
       "       event_date       location injury_severity aircraft_damage  make  model  \\\n",
       "77738  1982-06-13    CAMBRIA, NY       Non-Fatal       Destroyed  6343   1668   \n",
       "77526  1982-07-01  MCWHORTER, KY       Non-Fatal       Destroyed  6343   7285   \n",
       "77325  1982-07-16  FREDERICK, MD        Fatal(1)       Destroyed  6343   1196   \n",
       "76825  1982-08-21    VENTURA, CA       Non-Fatal       Destroyed  6343   8064   \n",
       "76786  1982-08-24     SIDNEY, NE       Non-Fatal     Substantial  6343  10950   \n",
       "\n",
       "      amateur_build number_of_engines  engine_type  total_fatal_injuries  ...  \\\n",
       "77738            No               1.0           11                   0.0  ...   \n",
       "77526           Yes               1.0           11                   0.0  ...   \n",
       "77325           Yes               1.0           11                   1.0  ...   \n",
       "76825           Yes               1.0           11                   0.0  ...   \n",
       "76786           Yes               1.0           11                   0.0  ...   \n",
       "\n",
       "       phase_of_flight  Year  Month  Day injuries  pax_onboard  \\\n",
       "77738            CLIMB  1982      6   12      1.0          1.0   \n",
       "77526           CRUISE  1982      7    0      2.0          2.0   \n",
       "77325         APPROACH  1982      7   15      1.0          1.0   \n",
       "76825      MANEUVERING  1982      8   20      0.0          1.0   \n",
       "76786          LANDING  1982      8   23      0.0          1.0   \n",
       "\n",
       "       fatality_percentage  survived  AmateurBuilt  index  \n",
       "77738                  0.0       1.0           nan  77738  \n",
       "77526                  0.0       2.0           nan  77526  \n",
       "77325                100.0       0.0           nan  77325  \n",
       "76825                  0.0       1.0           nan  76825  \n",
       "76786                  0.0       1.0           nan  76786  \n",
       "\n",
       "[5 rows x 24 columns]"
      ]
     },
     "execution_count": 149,
     "metadata": {},
     "output_type": "execute_result"
    }
   ],
   "source": [
    "deepCopy.head()"
   ]
  },
  {
   "cell_type": "code",
   "execution_count": 150,
   "metadata": {},
   "outputs": [
    {
     "data": {
      "text/plain": [
       "KNNImputer(n_neighbors=1)"
      ]
     },
     "execution_count": 150,
     "metadata": {},
     "output_type": "execute_result"
    }
   ],
   "source": [
    "imputer.fit(train)"
   ]
  },
  {
   "cell_type": "code",
   "execution_count": 151,
   "metadata": {},
   "outputs": [
    {
     "data": {
      "text/plain": [
       "array([[1.2000e+02, 6.9550e+03, 1.1000e+01, 1.0000e+00],\n",
       "       [4.0820e+03, 8.9830e+03, 1.1000e+01, 1.0000e+00],\n",
       "       [6.6200e+03, 1.0646e+04, 4.0000e+00, 1.0000e+00],\n",
       "       ...,\n",
       "       [1.2000e+02, 2.0220e+03, 1.1000e+01, 1.0000e+00],\n",
       "       [1.2000e+02, 3.5210e+03, 1.1000e+01, 1.0000e+00],\n",
       "       [1.2000e+02, 3.6670e+03, 1.1000e+01, 1.0000e+00]])"
      ]
     },
     "execution_count": 151,
     "metadata": {},
     "output_type": "execute_result"
    }
   ],
   "source": [
    "imputer.transform(train)"
   ]
  },
  {
   "cell_type": "code",
   "execution_count": 141,
   "metadata": {},
   "outputs": [
    {
     "name": "stdout",
     "output_type": "stream",
     "text": [
      "CPU times: user 1.99 s, sys: 3.05 s, total: 5.04 s\n",
      "Wall time: 1.69 s\n"
     ]
    },
    {
     "data": {
      "text/plain": [
       "array([[3.232e+03, 7.835e+03, 1.100e+01, 1.000e+00],\n",
       "       [3.979e+03, 6.108e+03, 6.000e+00, 0.000e+00],\n",
       "       [1.031e+03, 5.882e+03, 1.100e+01, 1.000e+00],\n",
       "       ...,\n",
       "       [1.200e+02, 7.177e+03, 1.100e+01, 1.000e+00],\n",
       "       [1.200e+02, 2.022e+03, 1.100e+01, 1.000e+00],\n",
       "       [4.082e+03, 9.100e+03, 1.100e+01, 1.000e+00]])"
      ]
     },
     "execution_count": 141,
     "metadata": {},
     "output_type": "execute_result"
    }
   ],
   "source": [
    "%%time\n",
    "\n",
    "imputer.transform(test)"
   ]
  },
  {
   "cell_type": "code",
   "execution_count": null,
   "metadata": {},
   "outputs": [],
   "source": []
  },
  {
   "cell_type": "code",
   "execution_count": 152,
   "metadata": {},
   "outputs": [],
   "source": [
    "G = pd.DataFrame(imputer.transform(train))"
   ]
  },
  {
   "cell_type": "code",
   "execution_count": 155,
   "metadata": {},
   "outputs": [
    {
     "data": {
      "text/plain": [
       "0    0\n",
       "1    0\n",
       "2    0\n",
       "3    0\n",
       "dtype: int64"
      ]
     },
     "execution_count": 155,
     "metadata": {},
     "output_type": "execute_result"
    }
   ],
   "source": [
    "G.isna().sum()"
   ]
  },
  {
   "cell_type": "code",
   "execution_count": 153,
   "metadata": {},
   "outputs": [
    {
     "data": {
      "text/plain": [
       "array([11, 11,  4, ..., 11, 11, 11])"
      ]
     },
     "execution_count": 153,
     "metadata": {},
     "output_type": "execute_result"
    }
   ],
   "source": [
    "labelencoder.inverse_transform(G[2].astype(int))"
   ]
  },
  {
   "cell_type": "code",
   "execution_count": null,
   "metadata": {},
   "outputs": [],
   "source": [
    "#some visualizations\n",
    "\n",
    "plot_correlation_map(deepCopy)\n",
    "#damage type?, number of engines!?"
   ]
  },
  {
   "cell_type": "code",
   "execution_count": null,
   "metadata": {},
   "outputs": [],
   "source": [
    "#before move to visualozations and ML save/export clean DF with engine_number cleaned\n",
    "\n",
    "#pichart of make?\n",
    "\n",
    "#which make has the most accidents?\n",
    "\n",
    "#label vs hot encoder???\n",
    "\n",
    "#os path help???"
   ]
  },
  {
   "cell_type": "code",
   "execution_count": null,
   "metadata": {},
   "outputs": [],
   "source": []
  }
 ],
 "metadata": {
  "kernelspec": {
   "display_name": "Python 3.8.5 64-bit ('base': conda)",
   "language": "python",
   "name": "python385jvsc74a57bd0dca0ade3e726a953b501b15e8e990130d2b7799f14cfd9f4271676035ebe5511"
  },
  "language_info": {
   "codemirror_mode": {
    "name": "ipython",
    "version": 3
   },
   "file_extension": ".py",
   "mimetype": "text/x-python",
   "name": "python",
   "nbconvert_exporter": "python",
   "pygments_lexer": "ipython3",
   "version": "3.8.5"
  }
 },
 "nbformat": 4,
 "nbformat_minor": 4
}
