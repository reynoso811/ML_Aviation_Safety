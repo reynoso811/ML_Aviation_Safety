{
 "cells": [
  {
   "cell_type": "code",
   "execution_count": 1,
   "metadata": {},
   "outputs": [],
   "source": [
    "## for data\n",
    "import pandas as pd\n",
    "import numpy as np\n",
    "from pandasgui import show\n",
    "import os\n",
    "import sys\n",
    "\n",
    "import datetime\n",
    "\n",
    "## for plotting\n",
    "import matplotlib.pyplot as plt\n",
    "import seaborn as sns\n",
    "\n",
    "PROJ_ROOT = os.path.join(os.pardir)"
   ]
  },
  {
   "cell_type": "markdown",
   "metadata": {},
   "source": [
    "# Step 1: Import the dataset, explore and ready the data for analysis¶\n"
   ]
  },
  {
   "cell_type": "code",
   "execution_count": 2,
   "metadata": {},
   "outputs": [],
   "source": [
    "aviation_data = r'/Users/robertreynoso/Desktop/Phase3_Project_Data/data/AviationDataEnd2016UP.csv'\n",
    "\n",
    "data = pd.read_csv(aviation_data, encoding='latin-1')"
   ]
  },
  {
   "cell_type": "code",
   "execution_count": 41,
   "metadata": {},
   "outputs": [
    {
     "data": {
      "text/html": [
       "<div>\n",
       "<style scoped>\n",
       "    .dataframe tbody tr th:only-of-type {\n",
       "        vertical-align: middle;\n",
       "    }\n",
       "\n",
       "    .dataframe tbody tr th {\n",
       "        vertical-align: top;\n",
       "    }\n",
       "\n",
       "    .dataframe thead th {\n",
       "        text-align: right;\n",
       "    }\n",
       "</style>\n",
       "<table border=\"1\" class=\"dataframe\">\n",
       "  <thead>\n",
       "    <tr style=\"text-align: right;\">\n",
       "      <th></th>\n",
       "      <th>Event.Id</th>\n",
       "      <th>Investigation.Type</th>\n",
       "      <th>Accident.Number</th>\n",
       "      <th>Event.Date</th>\n",
       "      <th>Location</th>\n",
       "      <th>Country</th>\n",
       "      <th>Latitude</th>\n",
       "      <th>Longitude</th>\n",
       "      <th>Airport.Code</th>\n",
       "      <th>Airport.Name</th>\n",
       "      <th>...</th>\n",
       "      <th>Purpose.of.Flight</th>\n",
       "      <th>Air.Carrier</th>\n",
       "      <th>Total.Fatal.Injuries</th>\n",
       "      <th>Total.Serious.Injuries</th>\n",
       "      <th>Total.Minor.Injuries</th>\n",
       "      <th>Total.Uninjured</th>\n",
       "      <th>Weather.Condition</th>\n",
       "      <th>Broad.Phase.of.Flight</th>\n",
       "      <th>Report.Status</th>\n",
       "      <th>Publication.Date</th>\n",
       "    </tr>\n",
       "  </thead>\n",
       "  <tbody>\n",
       "    <tr>\n",
       "      <th>0</th>\n",
       "      <td>20170103X43747</td>\n",
       "      <td>Accident</td>\n",
       "      <td>WPR17LA046</td>\n",
       "      <td>2017-01-03</td>\n",
       "      <td>Paradise, MT</td>\n",
       "      <td>United States</td>\n",
       "      <td>NaN</td>\n",
       "      <td>NaN</td>\n",
       "      <td>NaN</td>\n",
       "      <td>NaN</td>\n",
       "      <td>...</td>\n",
       "      <td>Personal</td>\n",
       "      <td>NaN</td>\n",
       "      <td>NaN</td>\n",
       "      <td>2.0</td>\n",
       "      <td>NaN</td>\n",
       "      <td>NaN</td>\n",
       "      <td>VMC</td>\n",
       "      <td>CRUISE</td>\n",
       "      <td>Preliminary</td>\n",
       "      <td>05/01/2017</td>\n",
       "    </tr>\n",
       "    <tr>\n",
       "      <th>1</th>\n",
       "      <td>20161230X55950</td>\n",
       "      <td>Accident</td>\n",
       "      <td>WPR17FA044</td>\n",
       "      <td>2016-12-29</td>\n",
       "      <td>Dabob, WA</td>\n",
       "      <td>United States</td>\n",
       "      <td>47.823611</td>\n",
       "      <td>-122.790000</td>\n",
       "      <td>NaN</td>\n",
       "      <td>NaN</td>\n",
       "      <td>...</td>\n",
       "      <td>Personal</td>\n",
       "      <td>NaN</td>\n",
       "      <td>4.0</td>\n",
       "      <td>NaN</td>\n",
       "      <td>NaN</td>\n",
       "      <td>NaN</td>\n",
       "      <td>VMC</td>\n",
       "      <td>NaN</td>\n",
       "      <td>Preliminary</td>\n",
       "      <td>05/01/2017</td>\n",
       "    </tr>\n",
       "    <tr>\n",
       "      <th>2</th>\n",
       "      <td>20161229X93022</td>\n",
       "      <td>Accident</td>\n",
       "      <td>CEN17LA062</td>\n",
       "      <td>2016-12-27</td>\n",
       "      <td>Piedmont, MO</td>\n",
       "      <td>United States</td>\n",
       "      <td>NaN</td>\n",
       "      <td>NaN</td>\n",
       "      <td>NaN</td>\n",
       "      <td>NaN</td>\n",
       "      <td>...</td>\n",
       "      <td>Personal</td>\n",
       "      <td>NaN</td>\n",
       "      <td>NaN</td>\n",
       "      <td>NaN</td>\n",
       "      <td>NaN</td>\n",
       "      <td>1.0</td>\n",
       "      <td>VMC</td>\n",
       "      <td>LANDING</td>\n",
       "      <td>Preliminary</td>\n",
       "      <td>03/01/2017</td>\n",
       "    </tr>\n",
       "    <tr>\n",
       "      <th>3</th>\n",
       "      <td>20161227X80237</td>\n",
       "      <td>Accident</td>\n",
       "      <td>CEN17LA061</td>\n",
       "      <td>2016-12-27</td>\n",
       "      <td>Farmington, MO</td>\n",
       "      <td>United States</td>\n",
       "      <td>37.761111</td>\n",
       "      <td>-90.428611</td>\n",
       "      <td>FAM</td>\n",
       "      <td>FARMINGTON RGNL</td>\n",
       "      <td>...</td>\n",
       "      <td>Personal</td>\n",
       "      <td>NaN</td>\n",
       "      <td>NaN</td>\n",
       "      <td>NaN</td>\n",
       "      <td>1.0</td>\n",
       "      <td>1.0</td>\n",
       "      <td>VMC</td>\n",
       "      <td>TAKEOFF</td>\n",
       "      <td>Preliminary</td>\n",
       "      <td>29/12/2016</td>\n",
       "    </tr>\n",
       "    <tr>\n",
       "      <th>4</th>\n",
       "      <td>20161226X80840</td>\n",
       "      <td>Accident</td>\n",
       "      <td>WPR17FA041</td>\n",
       "      <td>2016-12-26</td>\n",
       "      <td>Fresno, CA</td>\n",
       "      <td>United States</td>\n",
       "      <td>36.844444</td>\n",
       "      <td>-119.870834</td>\n",
       "      <td>E79</td>\n",
       "      <td>Sierra Sky Park</td>\n",
       "      <td>...</td>\n",
       "      <td>Personal</td>\n",
       "      <td>NaN</td>\n",
       "      <td>2.0</td>\n",
       "      <td>NaN</td>\n",
       "      <td>NaN</td>\n",
       "      <td>NaN</td>\n",
       "      <td>VMC</td>\n",
       "      <td>TAKEOFF</td>\n",
       "      <td>Preliminary</td>\n",
       "      <td>05/01/2017</td>\n",
       "    </tr>\n",
       "  </tbody>\n",
       "</table>\n",
       "<p>5 rows × 31 columns</p>\n",
       "</div>"
      ],
      "text/plain": [
       "          Event.Id Investigation.Type Accident.Number  Event.Date  \\\n",
       "0  20170103X43747            Accident      WPR17LA046  2017-01-03   \n",
       "1  20161230X55950            Accident      WPR17FA044  2016-12-29   \n",
       "2  20161229X93022            Accident      CEN17LA062  2016-12-27   \n",
       "3  20161227X80237            Accident      CEN17LA061  2016-12-27   \n",
       "4  20161226X80840            Accident      WPR17FA041  2016-12-26   \n",
       "\n",
       "         Location        Country   Latitude   Longitude Airport.Code  \\\n",
       "0    Paradise, MT  United States        NaN         NaN          NaN   \n",
       "1       Dabob, WA  United States  47.823611 -122.790000          NaN   \n",
       "2    Piedmont, MO  United States        NaN         NaN          NaN   \n",
       "3  Farmington, MO  United States  37.761111  -90.428611          FAM   \n",
       "4      Fresno, CA  United States  36.844444 -119.870834          E79   \n",
       "\n",
       "      Airport.Name  ... Purpose.of.Flight Air.Carrier Total.Fatal.Injuries  \\\n",
       "0              NaN  ...          Personal         NaN                  NaN   \n",
       "1              NaN  ...          Personal         NaN                  4.0   \n",
       "2              NaN  ...          Personal         NaN                  NaN   \n",
       "3  FARMINGTON RGNL  ...          Personal         NaN                  NaN   \n",
       "4  Sierra Sky Park  ...          Personal         NaN                  2.0   \n",
       "\n",
       "  Total.Serious.Injuries Total.Minor.Injuries Total.Uninjured  \\\n",
       "0                    2.0                  NaN             NaN   \n",
       "1                    NaN                  NaN             NaN   \n",
       "2                    NaN                  NaN             1.0   \n",
       "3                    NaN                  1.0             1.0   \n",
       "4                    NaN                  NaN             NaN   \n",
       "\n",
       "  Weather.Condition  Broad.Phase.of.Flight Report.Status Publication.Date  \n",
       "0               VMC                 CRUISE   Preliminary       05/01/2017  \n",
       "1               VMC                    NaN   Preliminary       05/01/2017  \n",
       "2               VMC                LANDING   Preliminary       03/01/2017  \n",
       "3               VMC                TAKEOFF   Preliminary       29/12/2016  \n",
       "4               VMC                TAKEOFF   Preliminary       05/01/2017  \n",
       "\n",
       "[5 rows x 31 columns]"
      ]
     },
     "execution_count": 41,
     "metadata": {},
     "output_type": "execute_result"
    }
   ],
   "source": [
    "data.head()"
   ]
  },
  {
   "cell_type": "code",
   "execution_count": 3,
   "metadata": {},
   "outputs": [
    {
     "data": {
      "text/plain": [
       "(79293, 31)"
      ]
     },
     "execution_count": 3,
     "metadata": {},
     "output_type": "execute_result"
    }
   ],
   "source": [
    "data.shape"
   ]
  },
  {
   "cell_type": "code",
   "execution_count": 4,
   "metadata": {},
   "outputs": [
    {
     "data": {
      "text/plain": [
       "Index(['Event.Id', 'Investigation.Type', 'Accident.Number', 'Event.Date',\n",
       "       'Location', 'Country', 'Latitude', 'Longitude', 'Airport.Code',\n",
       "       'Airport.Name', 'Injury.Severity', 'Aircraft.Damage',\n",
       "       'Aircraft.Category', 'Registration.Number', 'Make', 'Model',\n",
       "       'Amateur.Built', 'Number.of.Engines', 'Engine.Type', 'FAR.Description',\n",
       "       'Schedule', 'Purpose.of.Flight', 'Air.Carrier', 'Total.Fatal.Injuries',\n",
       "       'Total.Serious.Injuries', 'Total.Minor.Injuries', 'Total.Uninjured',\n",
       "       'Weather.Condition', 'Broad.Phase.of.Flight', 'Report.Status',\n",
       "       'Publication.Date'],\n",
       "      dtype='object')"
      ]
     },
     "execution_count": 4,
     "metadata": {},
     "output_type": "execute_result"
    }
   ],
   "source": [
    "data.columns"
   ]
  },
  {
   "cell_type": "code",
   "execution_count": 5,
   "metadata": {},
   "outputs": [],
   "source": [
    "# create a sub dataframe with the selected columns needed for analysis\n",
    "\n",
    "df = data[['Event.Date', 'Location',  'Injury.Severity',  'Aircraft.Damage','Make', 'Model',\n",
    "       'Amateur.Built', 'Number.of.Engines', 'Engine.Type', 'Total.Fatal.Injuries',\n",
    "       'Total.Serious.Injuries', 'Total.Minor.Injuries', 'Total.Uninjured',\n",
    "       'Weather.Condition' ]]"
   ]
  },
  {
   "cell_type": "code",
   "execution_count": 11,
   "metadata": {},
   "outputs": [],
   "source": [
    "# rename the columns by remvoing the space and capital letters\n",
    "\n",
    "df.columns = ['event_date', 'location', 'injury_severity', \n",
    "              'aircraft_damage', 'make', 'model', \n",
    "              'amateur_build', 'number_of_engines', 'engine_type',\n",
    "              'total_fatal_injuries', 'total_serious_injuries', 'total_minor_injuries',\n",
    "              'total_uninjured', 'weather_conditions'\n",
    "             ]"
   ]
  },
  {
   "cell_type": "code",
   "execution_count": 6,
   "metadata": {},
   "outputs": [
    {
     "data": {
      "text/plain": [
       "(79293, 14)"
      ]
     },
     "execution_count": 6,
     "metadata": {},
     "output_type": "execute_result"
    }
   ],
   "source": [
    "df.shape"
   ]
  },
  {
   "cell_type": "code",
   "execution_count": 7,
   "metadata": {},
   "outputs": [
    {
     "name": "stdout",
     "output_type": "stream",
     "text": [
      "<class 'pandas.core.frame.DataFrame'>\n",
      "RangeIndex: 79293 entries, 0 to 79292\n",
      "Data columns (total 14 columns):\n",
      " #   Column                  Non-Null Count  Dtype  \n",
      "---  ------                  --------------  -----  \n",
      " 0   Event.Date              79293 non-null  object \n",
      " 1   Location                79215 non-null  object \n",
      " 2   Injury.Severity         79293 non-null  object \n",
      " 3   Aircraft.Damage         76883 non-null  object \n",
      " 4   Make                    79204 non-null  object \n",
      " 5   Model                   79175 non-null  object \n",
      " 6   Amateur.Built           78721 non-null  object \n",
      " 7   Number.of.Engines       75175 non-null  float64\n",
      " 8   Engine.Type             75919 non-null  object \n",
      " 9   Total.Fatal.Injuries    55984 non-null  float64\n",
      " 10  Total.Serious.Injuries  53742 non-null  float64\n",
      " 11  Total.Minor.Injuries    54833 non-null  float64\n",
      " 12  Total.Uninjured         66949 non-null  float64\n",
      " 13  Weather.Condition       77136 non-null  object \n",
      "dtypes: float64(5), object(9)\n",
      "memory usage: 8.5+ MB\n"
     ]
    }
   ],
   "source": [
    "df.info()"
   ]
  },
  {
   "cell_type": "code",
   "execution_count": 9,
   "metadata": {},
   "outputs": [
    {
     "data": {
      "text/html": [
       "<div>\n",
       "<style scoped>\n",
       "    .dataframe tbody tr th:only-of-type {\n",
       "        vertical-align: middle;\n",
       "    }\n",
       "\n",
       "    .dataframe tbody tr th {\n",
       "        vertical-align: top;\n",
       "    }\n",
       "\n",
       "    .dataframe thead th {\n",
       "        text-align: right;\n",
       "    }\n",
       "</style>\n",
       "<table border=\"1\" class=\"dataframe\">\n",
       "  <thead>\n",
       "    <tr style=\"text-align: right;\">\n",
       "      <th></th>\n",
       "      <th>Number.of.Engines</th>\n",
       "      <th>Total.Fatal.Injuries</th>\n",
       "      <th>Total.Serious.Injuries</th>\n",
       "      <th>Total.Minor.Injuries</th>\n",
       "      <th>Total.Uninjured</th>\n",
       "    </tr>\n",
       "  </thead>\n",
       "  <tbody>\n",
       "    <tr>\n",
       "      <th>count</th>\n",
       "      <td>75175.000000</td>\n",
       "      <td>55984.000000</td>\n",
       "      <td>53742.000000</td>\n",
       "      <td>54833.000000</td>\n",
       "      <td>66949.000000</td>\n",
       "    </tr>\n",
       "    <tr>\n",
       "      <th>mean</th>\n",
       "      <td>1.148055</td>\n",
       "      <td>0.814679</td>\n",
       "      <td>0.317703</td>\n",
       "      <td>0.502581</td>\n",
       "      <td>5.790886</td>\n",
       "    </tr>\n",
       "    <tr>\n",
       "      <th>std</th>\n",
       "      <td>0.453847</td>\n",
       "      <td>6.233700</td>\n",
       "      <td>1.372924</td>\n",
       "      <td>2.781994</td>\n",
       "      <td>29.223016</td>\n",
       "    </tr>\n",
       "    <tr>\n",
       "      <th>min</th>\n",
       "      <td>0.000000</td>\n",
       "      <td>0.000000</td>\n",
       "      <td>0.000000</td>\n",
       "      <td>0.000000</td>\n",
       "      <td>0.000000</td>\n",
       "    </tr>\n",
       "    <tr>\n",
       "      <th>25%</th>\n",
       "      <td>1.000000</td>\n",
       "      <td>0.000000</td>\n",
       "      <td>0.000000</td>\n",
       "      <td>0.000000</td>\n",
       "      <td>0.000000</td>\n",
       "    </tr>\n",
       "    <tr>\n",
       "      <th>50%</th>\n",
       "      <td>1.000000</td>\n",
       "      <td>0.000000</td>\n",
       "      <td>0.000000</td>\n",
       "      <td>0.000000</td>\n",
       "      <td>1.000000</td>\n",
       "    </tr>\n",
       "    <tr>\n",
       "      <th>75%</th>\n",
       "      <td>1.000000</td>\n",
       "      <td>1.000000</td>\n",
       "      <td>0.000000</td>\n",
       "      <td>1.000000</td>\n",
       "      <td>2.000000</td>\n",
       "    </tr>\n",
       "    <tr>\n",
       "      <th>max</th>\n",
       "      <td>18.000000</td>\n",
       "      <td>349.000000</td>\n",
       "      <td>111.000000</td>\n",
       "      <td>380.000000</td>\n",
       "      <td>699.000000</td>\n",
       "    </tr>\n",
       "  </tbody>\n",
       "</table>\n",
       "</div>"
      ],
      "text/plain": [
       "       Number.of.Engines  Total.Fatal.Injuries  Total.Serious.Injuries  \\\n",
       "count       75175.000000          55984.000000            53742.000000   \n",
       "mean            1.148055              0.814679                0.317703   \n",
       "std             0.453847              6.233700                1.372924   \n",
       "min             0.000000              0.000000                0.000000   \n",
       "25%             1.000000              0.000000                0.000000   \n",
       "50%             1.000000              0.000000                0.000000   \n",
       "75%             1.000000              1.000000                0.000000   \n",
       "max            18.000000            349.000000              111.000000   \n",
       "\n",
       "       Total.Minor.Injuries  Total.Uninjured  \n",
       "count          54833.000000     66949.000000  \n",
       "mean               0.502581         5.790886  \n",
       "std                2.781994        29.223016  \n",
       "min                0.000000         0.000000  \n",
       "25%                0.000000         0.000000  \n",
       "50%                0.000000         1.000000  \n",
       "75%                1.000000         2.000000  \n",
       "max              380.000000       699.000000  "
      ]
     },
     "execution_count": 9,
     "metadata": {},
     "output_type": "execute_result"
    }
   ],
   "source": [
    "#statistics on numerical data\n",
    "df.describe()"
   ]
  },
  {
   "cell_type": "code",
   "execution_count": 8,
   "metadata": {},
   "outputs": [
    {
     "data": {
      "text/plain": [
       "Event.Date                    0\n",
       "Location                     78\n",
       "Injury.Severity               0\n",
       "Aircraft.Damage            2410\n",
       "Make                         89\n",
       "Model                       118\n",
       "Amateur.Built               572\n",
       "Number.of.Engines          4118\n",
       "Engine.Type                3374\n",
       "Total.Fatal.Injuries      23309\n",
       "Total.Serious.Injuries    25551\n",
       "Total.Minor.Injuries      24460\n",
       "Total.Uninjured           12344\n",
       "Weather.Condition          2157\n",
       "dtype: int64"
      ]
     },
     "execution_count": 8,
     "metadata": {},
     "output_type": "execute_result"
    }
   ],
   "source": [
    "df.isnull().sum()"
   ]
  },
  {
   "cell_type": "markdown",
   "metadata": {},
   "source": [
    "## Plotting and data study functions"
   ]
  },
  {
   "cell_type": "code",
   "execution_count": 14,
   "metadata": {
    "jupyter": {
     "source_hidden": true
    }
   },
   "outputs": [],
   "source": [
    "def plot_histograms( df , variables , n_rows , n_cols ):\n",
    "    fig = plt.figure( figsize = ( 16 , 12 ) )\n",
    "    for i, var_name in enumerate( variables ):\n",
    "        ax=fig.add_subplot( n_rows , n_cols , i+1 )\n",
    "        df[ var_name ].hist( bins=10 , ax=ax )\n",
    "        ax.set_title( 'Skew: ' + str( round( float( df[ var_name ].skew() ) , ) ) ) # + ' ' + var_name ) #var_name+\" Distribution\")\n",
    "        ax.set_xticklabels( [] , visible=False )\n",
    "        ax.set_yticklabels( [] , visible=False )\n",
    "    fig.tight_layout()  # Improves appearance a bit.\n",
    "    plt.show()\n",
    "\n",
    "def plot_distribution( df , var , target , **kwargs ):\n",
    "    row = kwargs.get( 'row' , None )\n",
    "    col = kwargs.get( 'col' , None )\n",
    "    facet = sns.FacetGrid( df , hue=target , aspect=4 , row = row , col = col )\n",
    "    facet.map( sns.kdeplot , var , shade= True )\n",
    "    facet.set( xlim=( df[ var ].min() , df[ var ].max() ) )\n",
    "    facet.add_legend()\n",
    "\n",
    "def plot_categories( df , cat , target , **kwargs ):\n",
    "    row = kwargs.get( 'row' , None )\n",
    "    col = kwargs.get( 'col' , None )\n",
    "    facet = sns.FacetGrid( df , row = row , col = col )\n",
    "    facet.map( sns.barplot , cat , target )\n",
    "    facet.add_legend()\n",
    "\n",
    "def plot_correlation_map( df ):\n",
    "    corr = df.corr()\n",
    "    _ , ax = plt.subplots( figsize =( 12 , 10 ) )\n",
    "    cmap = sns.diverging_palette( 220 , 10 , as_cmap = True )\n",
    "    _ = sns.heatmap(\n",
    "        corr, \n",
    "        cmap = cmap,\n",
    "        square=True, \n",
    "        cbar_kws={ 'shrink' : .9 }, \n",
    "        ax=ax, \n",
    "        annot = True, \n",
    "        annot_kws = { 'fontsize' : 12 }\n",
    "    )\n",
    "\n",
    "def describe_more( df ):\n",
    "    var = [] ; l = [] ; t = []\n",
    "    for x in df:\n",
    "        var.append( x )\n",
    "        l.append( len( pd.value_counts( df[ x ] ) ) )\n",
    "        t.append( df[ x ].dtypes )\n",
    "    levels = pd.DataFrame( { 'Variable' : var , 'Levels' : l , 'Datatype' : t } )\n",
    "    levels.sort_values( by = 'Levels' , inplace = True )\n",
    "    return levels\n",
    "\n",
    "def plot_variable_importance( X , y ):\n",
    "    tree = DecisionTreeClassifier( random_state = 99 )\n",
    "    tree.fit( X , y )\n",
    "    plot_model_var_imp( tree , X , y )\n",
    "    \n",
    "def plot_model_var_imp( model , X , y ):\n",
    "    imp = pd.DataFrame( \n",
    "        model.feature_importances_  , \n",
    "        columns = [ 'Importance' ] , \n",
    "        index = X.columns \n",
    "    )\n",
    "    imp = imp.sort_values( [ 'Importance' ] , ascending = True )\n",
    "    imp[ : 10 ].plot( kind = 'barh' )\n",
    "    print (model.score( X , y ))\n",
    "    \n",
    "def category_values(dataframe, categories):\n",
    "    for c in categories:\n",
    "        print('\\n', dataframe.groupby(by=c)[c].count().sort_values(ascending=False))\n",
    "        print('Nulls: ', dataframe[c].isnull().sum())"
   ]
  },
  {
   "cell_type": "code",
   "execution_count": 16,
   "metadata": {},
   "outputs": [],
   "source": [
    "'''\n",
    "Recognize whether a column is numerical or categorical.\n",
    ":parameter\n",
    "    :param dtf: dataframe - input data\n",
    "    :param col: str - name of the column to analyze\n",
    "    :param max_cat: num - max number of unique values to recognize a column as categorical\n",
    ":return\n",
    "    \"cat\" if the column is categorical or \"num\" otherwise\n",
    "'''\n",
    "def utils_recognize_type(df, col, max_cat=20):\n",
    "    if (df[col].dtype == \"O\") | (df[col].nunique() < max_cat):\n",
    "        return \"cat\"\n",
    "    else:\n",
    "        return \"num\""
   ]
  },
  {
   "cell_type": "code",
   "execution_count": 18,
   "metadata": {},
   "outputs": [
    {
     "data": {
      "image/png": "[encoded data removed]",
      "text/plain": [
       "<Figure size 432x288 with 1 Axes>"
      ]
     },
     "metadata": {
      "needs_background": "light"
     },
     "output_type": "display_data"
    },
    {
     "name": "stdout",
     "output_type": "stream",
     "text": [
      "\u001b[1;37;40m Categerocial  \u001b[1;30;41m Numeric  \u001b[1;30;47m NaN \n"
     ]
    }
   ],
   "source": [
    "\n",
    "dic_cols = {col:utils_recognize_type(df, col, max_cat=20) for col in df.columns}\n",
    "heatmap = df.isnull()\n",
    "for k,v in dic_cols.items():\n",
    " if v == \"num\":\n",
    "   heatmap[k] = heatmap[k].apply(lambda x: 0.5 if x is False else 1)\n",
    " else:\n",
    "   heatmap[k] = heatmap[k].apply(lambda x: 0 if x is False else 1)\n",
    "sns.heatmap(heatmap, cbar=False).set_title('Dataset Overview')\n",
    "plt.show()\n",
    "\n",
    "print(\"\\033[1;37;40m Categerocial \", \"\\033[1;30;41m Numeric \", \"\\033[1;30;47m NaN \")"
   ]
  },
  {
   "cell_type": "code",
   "execution_count": 29,
   "metadata": {},
   "outputs": [],
   "source": [
    "#sort by ascending date\n",
    "df = df.sort_values(by='event_date', ascending=True, na_position='first')\n",
    "\n",
    "#sort make ascending\n",
    "df = df.sort_values(by='make', ascending=True, na_position='first')"
   ]
  },
  {
   "cell_type": "code",
   "execution_count": 30,
   "metadata": {},
   "outputs": [
    {
     "data": {
      "text/html": [
       "<div>\n",
       "<style scoped>\n",
       "    .dataframe tbody tr th:only-of-type {\n",
       "        vertical-align: middle;\n",
       "    }\n",
       "\n",
       "    .dataframe tbody tr th {\n",
       "        vertical-align: top;\n",
       "    }\n",
       "\n",
       "    .dataframe thead th {\n",
       "        text-align: right;\n",
       "    }\n",
       "</style>\n",
       "<table border=\"1\" class=\"dataframe\">\n",
       "  <thead>\n",
       "    <tr style=\"text-align: right;\">\n",
       "      <th></th>\n",
       "      <th>Variable</th>\n",
       "      <th>Levels</th>\n",
       "      <th>Datatype</th>\n",
       "    </tr>\n",
       "  </thead>\n",
       "  <tbody>\n",
       "    <tr>\n",
       "      <th>6</th>\n",
       "      <td>amateur_build</td>\n",
       "      <td>2</td>\n",
       "      <td>object</td>\n",
       "    </tr>\n",
       "    <tr>\n",
       "      <th>3</th>\n",
       "      <td>aircraft_damage</td>\n",
       "      <td>3</td>\n",
       "      <td>object</td>\n",
       "    </tr>\n",
       "    <tr>\n",
       "      <th>13</th>\n",
       "      <td>weather_conditions</td>\n",
       "      <td>3</td>\n",
       "      <td>object</td>\n",
       "    </tr>\n",
       "    <tr>\n",
       "      <th>7</th>\n",
       "      <td>number_of_engines</td>\n",
       "      <td>6</td>\n",
       "      <td>float64</td>\n",
       "    </tr>\n",
       "    <tr>\n",
       "      <th>15</th>\n",
       "      <td>Month</td>\n",
       "      <td>12</td>\n",
       "      <td>int64</td>\n",
       "    </tr>\n",
       "    <tr>\n",
       "      <th>8</th>\n",
       "      <td>engine_type</td>\n",
       "      <td>14</td>\n",
       "      <td>object</td>\n",
       "    </tr>\n",
       "    <tr>\n",
       "      <th>16</th>\n",
       "      <td>Day</td>\n",
       "      <td>31</td>\n",
       "      <td>int64</td>\n",
       "    </tr>\n",
       "    <tr>\n",
       "      <th>10</th>\n",
       "      <td>total_serious_injuries</td>\n",
       "      <td>40</td>\n",
       "      <td>float64</td>\n",
       "    </tr>\n",
       "    <tr>\n",
       "      <th>14</th>\n",
       "      <td>Year</td>\n",
       "      <td>42</td>\n",
       "      <td>int64</td>\n",
       "    </tr>\n",
       "    <tr>\n",
       "      <th>11</th>\n",
       "      <td>total_minor_injuries</td>\n",
       "      <td>62</td>\n",
       "      <td>float64</td>\n",
       "    </tr>\n",
       "    <tr>\n",
       "      <th>17</th>\n",
       "      <td>injuries</td>\n",
       "      <td>97</td>\n",
       "      <td>float64</td>\n",
       "    </tr>\n",
       "    <tr>\n",
       "      <th>19</th>\n",
       "      <td>fatality_percentage</td>\n",
       "      <td>118</td>\n",
       "      <td>float64</td>\n",
       "    </tr>\n",
       "    <tr>\n",
       "      <th>9</th>\n",
       "      <td>total_fatal_injuries</td>\n",
       "      <td>122</td>\n",
       "      <td>float64</td>\n",
       "    </tr>\n",
       "    <tr>\n",
       "      <th>2</th>\n",
       "      <td>injury_severity</td>\n",
       "      <td>124</td>\n",
       "      <td>object</td>\n",
       "    </tr>\n",
       "    <tr>\n",
       "      <th>18</th>\n",
       "      <td>pax_onboard</td>\n",
       "      <td>314</td>\n",
       "      <td>float64</td>\n",
       "    </tr>\n",
       "    <tr>\n",
       "      <th>12</th>\n",
       "      <td>total_uninjured</td>\n",
       "      <td>364</td>\n",
       "      <td>float64</td>\n",
       "    </tr>\n",
       "    <tr>\n",
       "      <th>4</th>\n",
       "      <td>make</td>\n",
       "      <td>6707</td>\n",
       "      <td>object</td>\n",
       "    </tr>\n",
       "    <tr>\n",
       "      <th>5</th>\n",
       "      <td>model</td>\n",
       "      <td>11330</td>\n",
       "      <td>object</td>\n",
       "    </tr>\n",
       "    <tr>\n",
       "      <th>0</th>\n",
       "      <td>event_date</td>\n",
       "      <td>12638</td>\n",
       "      <td>object</td>\n",
       "    </tr>\n",
       "    <tr>\n",
       "      <th>1</th>\n",
       "      <td>location</td>\n",
       "      <td>25264</td>\n",
       "      <td>object</td>\n",
       "    </tr>\n",
       "  </tbody>\n",
       "</table>\n",
       "</div>"
      ],
      "text/plain": [
       "                  Variable  Levels Datatype\n",
       "6            amateur_build       2   object\n",
       "3          aircraft_damage       3   object\n",
       "13      weather_conditions       3   object\n",
       "7        number_of_engines       6  float64\n",
       "15                   Month      12    int64\n",
       "8              engine_type      14   object\n",
       "16                     Day      31    int64\n",
       "10  total_serious_injuries      40  float64\n",
       "14                    Year      42    int64\n",
       "11    total_minor_injuries      62  float64\n",
       "17                injuries      97  float64\n",
       "19     fatality_percentage     118  float64\n",
       "9     total_fatal_injuries     122  float64\n",
       "2          injury_severity     124   object\n",
       "18             pax_onboard     314  float64\n",
       "12         total_uninjured     364  float64\n",
       "4                     make    6707   object\n",
       "5                    model   11330   object\n",
       "0               event_date   12638   object\n",
       "1                 location   25264   object"
      ]
     },
     "execution_count": 30,
     "metadata": {},
     "output_type": "execute_result"
    }
   ],
   "source": [
    "#counts on unique values for each feature\n",
    "\n",
    "describe_more(df)"
   ]
  },
  {
   "cell_type": "code",
   "execution_count": 31,
   "metadata": {},
   "outputs": [],
   "source": [
    "#splitting date field in the components\n",
    "\n",
    "df['Year'] = df['event_date'].apply(lambda d: datetime.datetime.strptime(d, \"%Y-%m-%d\").year)\n",
    "df['Month'] = df['event_date'].apply(lambda d: datetime.datetime.strptime(d, \"%Y-%m-%d\").month)\n",
    "df['Day'] = df['event_date'].apply(lambda d: datetime.datetime.strptime(d, \"%Y-%m-%d\").day)\n"
   ]
  },
  {
   "cell_type": "code",
   "execution_count": 32,
   "metadata": {},
   "outputs": [],
   "source": [
    "#clean 'make' column to Caps\n",
    "\n",
    "df['make'] = df.make.str.upper()"
   ]
  },
  {
   "cell_type": "code",
   "execution_count": 33,
   "metadata": {},
   "outputs": [],
   "source": [
    "#add a colunm that represents the total number of injuries in the accidents\n",
    "#target column? split into fatl none fatal?\n",
    "\n",
    "df['injuries'] = df['total_fatal_injuries'] + df['total_serious_injuries'] + df['total_minor_injuries']\n",
    "\n",
    "df['pax_onboard'] = abs(df['total_uninjured']-df['injuries'])\n",
    "\n",
    "df['fatality_percentage'] = (df['total_fatal_injuries']/df['pax_onboard'])*100\n",
    "\n"
   ]
  },
  {
   "cell_type": "code",
   "execution_count": null,
   "metadata": {},
   "outputs": [],
   "source": [
    "gui  = show(df)"
   ]
  },
  {
   "cell_type": "code",
   "execution_count": null,
   "metadata": {},
   "outputs": [],
   "source": [
    "#begin to look for unique categories\n",
    "\n",
    "categories = ['event_date', 'location', 'injury_severity', \n",
    "              'aircraft_damage', 'make', 'model', \n",
    "              'amateur_build', 'number_of_engines', 'engine_type',\n",
    "              'total_fatal_injuries', 'total_serious_injuries', 'total_minor_injuries',\n",
    "              'total_uninjured', 'weather_conditions'\n",
    "             ]\n",
    "for c in categories:\n",
    "    print(c ,df[c].unique())"
   ]
  },
  {
   "cell_type": "code",
   "execution_count": null,
   "metadata": {},
   "outputs": [],
   "source": [
    "#count the number of different values for each category feature\n",
    "\n",
    "category_values(df, categories)"
   ]
  },
  {
   "cell_type": "code",
   "execution_count": 23,
   "metadata": {},
   "outputs": [
    {
     "name": "stderr",
     "output_type": "stream",
     "text": [
      "PandasGUI WARNING — pandasgui.utility — In df, converted columns to datetime: event_date\n"
     ]
    }
   ],
   "source": [
    "gui  = show(df)"
   ]
  },
  {
   "cell_type": "markdown",
   "metadata": {},
   "source": [
    "## Filling Null values"
   ]
  },
  {
   "cell_type": "code",
   "execution_count": 35,
   "metadata": {},
   "outputs": [],
   "source": [
    "#filling some Null values\n",
    "\n",
    "#aircraft_damage, number_of_engines, engine_type use knn!!!\n",
    "\n",
    "#set missing Locations to unknown\n",
    "df['location'].fillna('Unknown', inplace=True)\n",
    "\n",
    "#fixing weather conditions\n",
    "df['weather_conditions'].fillna('UNK', inplace=True)\n"
   ]
  },
  {
   "cell_type": "code",
   "execution_count": 39,
   "metadata": {},
   "outputs": [],
   "source": [
    "#extracting producers and amateurs\n",
    "\n",
    "producers = [x for x in df['make'][df['amateur_build']== 'No'].unique() ]\n",
    "amateurs  = [x for x in df['make'][df['amateur_build']== 'Yes'].unique() ]\n",
    "\n",
    "# -----------------------------------------------\n",
    "#function that fixes the null in amateur.build\n",
    "\n",
    "def fix_amateur_built(ab, m):\n",
    "    if type(ab) == str:\n",
    "        return ab\n",
    "    else:\n",
    "        if m in producers:\n",
    "            return 'No'\n",
    "        else:\n",
    "            return 'Yes'\n",
    "#fix for amateur_build field\n",
    "\n",
    "am_build = df.apply(lambda x: fix_amateur_built(x['amateur_build'], x['make']), axis=1)\n",
    "df = df.assign(AmateurBuilt = am_build, index=df.index)\n",
    "\n",
    "#drop old amateur column before saving to new df"
   ]
  },
  {
   "cell_type": "code",
   "execution_count": 37,
   "metadata": {},
   "outputs": [
    {
     "name": "stderr",
     "output_type": "stream",
     "text": [
      "<ipython-input-37-76f23fbde45f>:3: SettingWithCopyWarning:\n",
      "\n",
      "\n",
      "A value is trying to be set on a copy of a slice from a DataFrame\n",
      "\n",
      "See the caveats in the documentation: https://pandas.pydata.org/pandas-docs/stable/user_guide/indexing.html#returning-a-view-versus-a-copy\n",
      "\n"
     ]
    }
   ],
   "source": [
    "#setting 0 engines for balloons\n",
    "\n",
    "df['number_of_engines'][df['number_of_engines'].isnull() & (df['make'].str.contains('balloon', case=False))] = 0.0"
   ]
  },
  {
   "cell_type": "code",
   "execution_count": 38,
   "metadata": {},
   "outputs": [
    {
     "data": {
      "text/plain": [
       "event_date                    0\n",
       "location                      0\n",
       "injury_severity               0\n",
       "aircraft_damage            2410\n",
       "make                         89\n",
       "model                       118\n",
       "amateur_build               572\n",
       "number_of_engines          3986\n",
       "engine_type                3374\n",
       "total_fatal_injuries      23309\n",
       "total_serious_injuries    25551\n",
       "total_minor_injuries      24460\n",
       "total_uninjured           12344\n",
       "weather_conditions            0\n",
       "Year                          0\n",
       "Month                         0\n",
       "Day                           0\n",
       "injuries                  29557\n",
       "pax_onboard               29671\n",
       "fatality_percentage       31071\n",
       "AmateurBuilt                  0\n",
       "index                         0\n",
       "dtype: int64"
      ]
     },
     "execution_count": 38,
     "metadata": {},
     "output_type": "execute_result"
    }
   ],
   "source": [
    "df.isnull().sum()"
   ]
  },
  {
   "cell_type": "code",
   "execution_count": 63,
   "metadata": {},
   "outputs": [
    {
     "name": "stdout",
     "output_type": "stream",
     "text": [
      "<class 'pandas.core.frame.DataFrame'>\n",
      "Int64Index: 79293 entries, 79292 to 0\n",
      "Data columns (total 20 columns):\n",
      " #   Column                  Non-Null Count  Dtype  \n",
      "---  ------                  --------------  -----  \n",
      " 0   event_date              79293 non-null  object \n",
      " 1   location                79293 non-null  object \n",
      " 2   injury_severity         79293 non-null  object \n",
      " 3   aircraft_damage         76883 non-null  object \n",
      " 4   make                    79204 non-null  object \n",
      " 5   model                   79175 non-null  object \n",
      " 6   amateur_build           78721 non-null  object \n",
      " 7   number_of_engines       75307 non-null  float64\n",
      " 8   engine_type             75919 non-null  object \n",
      " 9   total_fatal_injuries    55984 non-null  float64\n",
      " 10  total_serious_injuries  53742 non-null  float64\n",
      " 11  total_minor_injuries    54833 non-null  float64\n",
      " 12  total_uninjured         66949 non-null  float64\n",
      " 13  weather_conditions      79293 non-null  object \n",
      " 14  Year                    79293 non-null  int64  \n",
      " 15  Month                   79293 non-null  int64  \n",
      " 16  Day                     79293 non-null  int64  \n",
      " 17  injuries                49736 non-null  float64\n",
      " 18  AmateurBuilt            79293 non-null  object \n",
      " 19  index                   79293 non-null  int64  \n",
      "dtypes: float64(6), int64(4), object(10)\n",
      "memory usage: 12.7+ MB\n"
     ]
    }
   ],
   "source": [
    "df.info()"
   ]
  },
  {
   "cell_type": "markdown",
   "metadata": {},
   "source": [
    "## Change the non-numeric data to numeric data"
   ]
  },
  {
   "cell_type": "code",
   "execution_count": 40,
   "metadata": {},
   "outputs": [],
   "source": [
    "deepCopy = df.copy()"
   ]
  },
  {
   "cell_type": "code",
   "execution_count": 65,
   "metadata": {},
   "outputs": [],
   "source": [
    "#Encoders require their input to be uniformly strings or numbers. \n",
    "\n",
    "deepCopy['AmateurBuilt'] = deepCopy.AmateurBuilt.map(dict(yes=1, no=0))\n",
    "\n",
    "deepCopy[['make','model','AmateurBuilt',\n",
    "    'engine_type','number_of_engines','weather_conditions']] = deepCopy[['make','model','AmateurBuilt',\n",
    "                                                'engine_type','number_of_engines','weather_conditions']].astype(str)"
   ]
  },
  {
   "cell_type": "code",
   "execution_count": 66,
   "metadata": {},
   "outputs": [],
   "source": [
    "\n",
    "#Encoding categorical data values (Transforming object data types to integers)\n",
    "from sklearn.preprocessing import LabelEncoder\n",
    "labelencoder = LabelEncoder()\n",
    "\n",
    "#label vs hot_encoder??? \n",
    "\n",
    "#Encode make column\n",
    "deepCopy.iloc[:,4]=labelencoder.fit_transform(deepCopy.iloc[:,4].values)\n",
    "#print(labelencoder.fit_transform(titanic.iloc[:,2].values))\n",
    "\n",
    "#Encode model\n",
    "deepCopy.iloc[:,5]=labelencoder.fit_transform(deepCopy.iloc[:,5].values)\n",
    "#print(labelencoder.fit_transform(titanic.iloc[:,7].values))\n",
    "\n",
    "#Encode amateur_build\n",
    "deepCopy.iloc[:,17]=labelencoder.fit_transform(deepCopy.iloc[:,17].values)\n",
    "\n",
    "#Encode engine_type\n",
    "deepCopy.iloc[:,8]=labelencoder.fit_transform(deepCopy.iloc[:,8].values)\n",
    "\n",
    "#Encode weather_conditions\n",
    "deepCopy.iloc[:,13]=labelencoder.fit_transform(deepCopy.iloc[:,13].values)\n",
    "\n",
    "\n",
    "#Print the NEW unique values in the columns\n",
    "#print(titanic['sex'].unique())\n",
    "#print(titanic['embarked'].unique())"
   ]
  },
  {
   "cell_type": "code",
   "execution_count": 67,
   "metadata": {},
   "outputs": [
    {
     "name": "stderr",
     "output_type": "stream",
     "text": [
      "PandasGUI WARNING — pandasgui.utility — In df, converted columns to datetime: event_date\n"
     ]
    }
   ],
   "source": [
    "gui  = show(df)"
   ]
  },
  {
   "cell_type": "markdown",
   "metadata": {},
   "source": [
    "## Testing imputing missing data"
   ]
  },
  {
   "cell_type": "code",
   "execution_count": 68,
   "metadata": {},
   "outputs": [
    {
     "ename": "NameError",
     "evalue": "name 'X' is not defined",
     "output_type": "error",
     "traceback": [
      "\u001b[0;31m---------------------------------------------------------------------------\u001b[0m",
      "\u001b[0;31mNameError\u001b[0m                                 Traceback (most recent call last)",
      "\u001b[0;32m<ipython-input-68-f6ddea03cd83>\u001b[0m in \u001b[0;36m<module>\u001b[0;34m\u001b[0m\n\u001b[1;32m      4\u001b[0m \u001b[0;34m\u001b[0m\u001b[0m\n\u001b[1;32m      5\u001b[0m \u001b[0mimputer\u001b[0m \u001b[0;34m=\u001b[0m \u001b[0mKNNImputer\u001b[0m\u001b[0;34m(\u001b[0m\u001b[0mn_neighbors\u001b[0m\u001b[0;34m=\u001b[0m\u001b[0;36m5\u001b[0m\u001b[0;34m)\u001b[0m\u001b[0;34m\u001b[0m\u001b[0;34m\u001b[0m\u001b[0m\n\u001b[0;32m----> 6\u001b[0;31m \u001b[0mimputer\u001b[0m\u001b[0;34m.\u001b[0m\u001b[0mfit_transform\u001b[0m\u001b[0;34m(\u001b[0m\u001b[0mX\u001b[0m\u001b[0;34m)\u001b[0m\u001b[0;34m\u001b[0m\u001b[0;34m\u001b[0m\u001b[0m\n\u001b[0m\u001b[1;32m      7\u001b[0m \u001b[0;34m\u001b[0m\u001b[0m\n\u001b[1;32m      8\u001b[0m \u001b[0mX\u001b[0m \u001b[0;34m=\u001b[0m \u001b[0;34m[\u001b[0m\u001b[0mdeepCopy\u001b[0m\u001b[0;34m[\u001b[0m\u001b[0;34m'make'\u001b[0m\u001b[0;34m,\u001b[0m\u001b[0;34m'model'\u001b[0m\u001b[0;34m,\u001b[0m\u001b[0;34m'amateur_build'\u001b[0m\u001b[0;34m,\u001b[0m\u001b[0;34m'engine_type'\u001b[0m\u001b[0;34m,\u001b[0m\u001b[0;34m'number_of_engines'\u001b[0m\u001b[0;34m]\u001b[0m\u001b[0;34m]\u001b[0m\u001b[0;34m\u001b[0m\u001b[0;34m\u001b[0m\u001b[0m\n",
      "\u001b[0;31mNameError\u001b[0m: name 'X' is not defined"
     ]
    }
   ],
   "source": [
    "#testing KNNImputer on number_of_engines and aircraft damage(make unique feature?)\n",
    "\n",
    "from sklearn.impute import KNNImputer\n",
    "\n",
    "imputer = KNNImputer(n_neighbors=5)\n",
    "imputer.fit_transform(X)\n",
    "\n",
    "X = [deepCopy['make','model','amateur_build','engine_type','number_of_engines']]"
   ]
  },
  {
   "cell_type": "code",
   "execution_count": null,
   "metadata": {},
   "outputs": [],
   "source": [
    "#some visualizations\n",
    "\n",
    "plot_correlation_map(deepCopy)\n",
    "#damage type?, number of engines!?"
   ]
  },
  {
   "cell_type": "code",
   "execution_count": 70,
   "metadata": {},
   "outputs": [
    {
     "data": {
      "text/plain": [
       "Text(0.5, 1.0, 'Fatal injuries vs Year')"
      ]
     },
     "execution_count": 70,
     "metadata": {},
     "output_type": "execute_result"
    },
    {
     "data": {
      "image/png": "[encoded data removed]",
      "text/plain": [
       "<Figure size 720x576 with 1 Axes>"
      ]
     },
     "metadata": {
      "needs_background": "light"
     },
     "output_type": "display_data"
    }
   ],
   "source": [
    "#Plot yearly fatal injuries\n",
    "\n",
    "df.plot(kind='bar', x='Year', y='injuries', figsize=(10,8))\n",
    "plt.title(\"Fatal injuries vs Year\")"
   ]
  },
  {
   "cell_type": "code",
   "execution_count": 42,
   "metadata": {},
   "outputs": [],
   "source": [
    "#before move to visualozations and ML save/export clean DF with engine_number cleaned\n",
    "\n",
    "#pichart of make?\n",
    "\n",
    "#which make has the most accidents?\n",
    "\n",
    "#label vs hot encoder???\n",
    "\n",
    "#os path help???"
   ]
  },
  {
   "cell_type": "code",
   "execution_count": 72,
   "metadata": {},
   "outputs": [
    {
     "name": "stderr",
     "output_type": "stream",
     "text": [
      "PandasGUI WARNING — pandasgui.utility — In df, converted columns to datetime: event_date\n"
     ]
    }
   ],
   "source": [
    "gui  = show(df)"
   ]
  },
  {
   "cell_type": "code",
   "execution_count": null,
   "metadata": {},
   "outputs": [],
   "source": []
  }
 ],
 "metadata": {
  "kernelspec": {
   "display_name": "Python 3.8.5 64-bit ('base': conda)",
   "language": "python",
   "name": "python385jvsc74a57bd0dca0ade3e726a953b501b15e8e990130d2b7799f14cfd9f4271676035ebe5511"
  },
  "language_info": {
   "codemirror_mode": {
    "name": "ipython",
    "version": 3
   },
   "file_extension": ".py",
   "mimetype": "text/x-python",
   "name": "python",
   "nbconvert_exporter": "python",
   "pygments_lexer": "ipython3",
   "version": "3.8.5"
  }
 },
 "nbformat": 4,
 "nbformat_minor": 4
}
