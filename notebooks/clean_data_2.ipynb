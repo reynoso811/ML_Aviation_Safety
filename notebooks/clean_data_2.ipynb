{
 "cells": [
  {
   "cell_type": "code",
   "execution_count": 1,
   "metadata": {},
   "outputs": [],
   "source": [
    "## for data\n",
    "import pandas as pd\n",
    "import numpy as np\n",
    "from pandasgui import show\n",
    "import os\n",
    "import sys\n",
    "\n",
    "import datetime\n",
    "\n",
    "## for plotting\n",
    "import matplotlib.pyplot as plt\n",
    "import seaborn as sns"
   ]
  },
  {
   "cell_type": "code",
   "execution_count": 2,
   "metadata": {},
   "outputs": [],
   "source": [
    "aviation_data = r'/Users/robertreynoso/Desktop/phase_03_project/data/missing_test.csv'\n",
    "\n",
    "data = pd.read_csv(aviation_data, encoding='latin-1')"
   ]
  },
  {
   "cell_type": "code",
   "execution_count": 3,
   "metadata": {},
   "outputs": [
    {
     "data": {
      "text/plain": [
       "Unnamed: 0                    0\n",
       "event_date                    0\n",
       "location                      0\n",
       "injury_severity               0\n",
       "aircraft_damage            2410\n",
       "make                         89\n",
       "model                       118\n",
       "amateur_build               572\n",
       "number_of_engines          3986\n",
       "engine_type                3374\n",
       "total_fatal_injuries      23309\n",
       "total_serious_injuries    25551\n",
       "total_minor_injuries      24460\n",
       "total_uninjured           12344\n",
       "weather_conditions            0\n",
       "phase_of_flight            6054\n",
       "Year                          0\n",
       "Month                         0\n",
       "Day                           0\n",
       "injuries                  29557\n",
       "pax_onboard               29671\n",
       "fatality_percentage       29698\n",
       "survived                  29671\n",
       "AmateurBuilt                  0\n",
       "index                         0\n",
       "dtype: int64"
      ]
     },
     "execution_count": 3,
     "metadata": {},
     "output_type": "execute_result"
    }
   ],
   "source": [
    "data.isna().sum()"
   ]
  },
  {
   "cell_type": "code",
   "execution_count": 4,
   "metadata": {},
   "outputs": [
    {
     "name": "stderr",
     "output_type": "stream",
     "text": [
      "PandasGUI WARNING — pandasgui.utility — In data, converted columns to datetime: event_date\n"
     ]
    }
   ],
   "source": [
    "gui  = show(data)"
   ]
  },
  {
   "cell_type": "code",
   "execution_count": 28,
   "metadata": {},
   "outputs": [],
   "source": [
    "#manually fill in missing number of engines for known/common models"
   ]
  },
  {
   "cell_type": "code",
   "execution_count": 9,
   "metadata": {},
   "outputs": [],
   "source": [
    "data.loc[data.model == '747', 'number_of_engines'] = '4'"
   ]
  },
  {
   "cell_type": "code",
   "execution_count": 11,
   "metadata": {},
   "outputs": [],
   "source": [
    "data.loc[data.model == '727', 'number_of_engines'] = '3'"
   ]
  },
  {
   "cell_type": "code",
   "execution_count": 13,
   "metadata": {},
   "outputs": [],
   "source": [
    "data.loc[data.model == '737', 'number_of_engines'] = '2'"
   ]
  },
  {
   "cell_type": "code",
   "execution_count": 15,
   "metadata": {},
   "outputs": [],
   "source": [
    "data.loc[data.model == 'A320', 'number_of_engines'] = '2'"
   ]
  },
  {
   "cell_type": "code",
   "execution_count": 17,
   "metadata": {},
   "outputs": [],
   "source": [
    "data.loc[data.model == 'A330', 'number_of_engines'] = '2'"
   ]
  },
  {
   "cell_type": "code",
   "execution_count": 19,
   "metadata": {},
   "outputs": [],
   "source": [
    "data.loc[data.model == 'A300', 'number_of_engines'] = '2'"
   ]
  },
  {
   "cell_type": "code",
   "execution_count": 22,
   "metadata": {},
   "outputs": [],
   "source": [
    "data.loc[data.model == 'A319', 'number_of_engines'] = '2'"
   ]
  },
  {
   "cell_type": "code",
   "execution_count": 26,
   "metadata": {},
   "outputs": [],
   "source": [
    "data.loc[data.model == '319', 'number_of_engines'] = '2'"
   ]
  },
  {
   "cell_type": "code",
   "execution_count": 24,
   "metadata": {},
   "outputs": [],
   "source": [
    "data.loc[data.model == 'A310', 'number_of_engines'] = '2'"
   ]
  },
  {
   "cell_type": "code",
   "execution_count": 29,
   "metadata": {},
   "outputs": [],
   "source": [
    "#set missing make to unknown\n",
    "\n",
    "data['make'].fillna('Unknown', inplace=True)\n",
    "\n",
    "#set missing model to unknown\n",
    "\n",
    "data['model'].fillna('Unknown', inplace=True)\n",
    "\n",
    "#set missing engine_type to unknown\n",
    "\n",
    "data['engine_type'].fillna('Unknown', inplace=True)\n"
   ]
  },
  {
   "cell_type": "code",
   "execution_count": 31,
   "metadata": {},
   "outputs": [],
   "source": [
    "#creates a random permuation of the categorical values\n",
    "permutation = np.random.permutation(data['aircraft_damage'])\n",
    "\n",
    "#erase the empty values\n",
    "empty_is = np.where(permutation == \"\")\n",
    "permutation = np.delete(permutation, empty_is)\n",
    "\n",
    "#replace all empty values of the dataframe[field]\n",
    "end = len(permutation)\n",
    "data['aircraft_damage'] = data['aircraft_damage'].apply(lambda x: permutation[np.random.randint(end)] if pd.isnull(x) else x)"
   ]
  },
  {
   "cell_type": "code",
   "execution_count": 33,
   "metadata": {},
   "outputs": [],
   "source": [
    "#fill in number of engines to 2 if 0\n",
    "\n",
    "data['number_of_engines'].fillna('2', inplace=True)"
   ]
  },
  {
   "cell_type": "code",
   "execution_count": 35,
   "metadata": {},
   "outputs": [],
   "source": [
    "clean_data = data[['location','injury_severity','aircraft_damage',\n",
    "                  'make','model','number_of_engines','engine_type',\n",
    "                  'weather_conditions','phase_of_flight','Year',\n",
    "                 'Month','Day','injuries','pax_onboard','fatality_percentage',\n",
    "                 'survived','AmateurBuilt']]"
   ]
  },
  {
   "cell_type": "code",
   "execution_count": 41,
   "metadata": {},
   "outputs": [],
   "source": [
    "clean_data = clean_data.dropna()"
   ]
  },
  {
   "cell_type": "code",
   "execution_count": 42,
   "metadata": {},
   "outputs": [
    {
     "data": {
      "text/plain": [
       "location               0\n",
       "injury_severity        0\n",
       "aircraft_damage        0\n",
       "make                   0\n",
       "model                  0\n",
       "number_of_engines      0\n",
       "engine_type            0\n",
       "weather_conditions     0\n",
       "phase_of_flight        0\n",
       "Year                   0\n",
       "Month                  0\n",
       "Day                    0\n",
       "injuries               0\n",
       "pax_onboard            0\n",
       "fatality_percentage    0\n",
       "survived               0\n",
       "AmateurBuilt           0\n",
       "dtype: int64"
      ]
     },
     "execution_count": 42,
     "metadata": {},
     "output_type": "execute_result"
    }
   ],
   "source": [
    "clean_data.isna().sum()"
   ]
  },
  {
   "cell_type": "code",
   "execution_count": 44,
   "metadata": {},
   "outputs": [
    {
     "data": {
      "text/plain": [
       "(48671, 17)"
      ]
     },
     "execution_count": 44,
     "metadata": {},
     "output_type": "execute_result"
    }
   ],
   "source": [
    "clean_data.shape"
   ]
  },
  {
   "cell_type": "code",
   "execution_count": 43,
   "metadata": {},
   "outputs": [],
   "source": [
    "clean_data.to_csv('/Users/robertreynoso/Desktop/phase_03_project/data//clean_aviation_data_2.csv')"
   ]
  },
  {
   "cell_type": "code",
   "execution_count": null,
   "metadata": {},
   "outputs": [],
   "source": []
  }
 ],
 "metadata": {
  "kernelspec": {
   "display_name": "Python 3.8.5 64-bit ('base': conda)",
   "language": "python",
   "name": "python385jvsc74a57bd0dca0ade3e726a953b501b15e8e990130d2b7799f14cfd9f4271676035ebe5511"
  },
  "language_info": {
   "codemirror_mode": {
    "name": "ipython",
    "version": 3
   },
   "file_extension": ".py",
   "mimetype": "text/x-python",
   "name": "python",
   "nbconvert_exporter": "python",
   "pygments_lexer": "ipython3",
   "version": "3.8.5"
  }
 },
 "nbformat": 4,
 "nbformat_minor": 4
}
