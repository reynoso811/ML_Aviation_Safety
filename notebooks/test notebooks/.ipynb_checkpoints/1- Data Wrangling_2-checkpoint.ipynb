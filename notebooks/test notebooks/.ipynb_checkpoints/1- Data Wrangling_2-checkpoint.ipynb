{
 "cells": [
  {
   "cell_type": "code",
   "execution_count": 1,
   "metadata": {},
   "outputs": [],
   "source": [
    "## for data\n",
    "import pandas as pd\n",
    "import numpy as np\n",
    "## for plotting\n",
    "import matplotlib.pyplot as plt\n",
    "import seaborn as sns\n",
    "from pandasgui import show"
   ]
  },
  {
   "cell_type": "code",
   "execution_count": 2,
   "metadata": {},
   "outputs": [],
   "source": [
    "data = pd.read_csv('data/AviationDataEnd2016UP.csv', encoding='latin-1')"
   ]
  },
  {
   "cell_type": "code",
   "execution_count": 3,
   "metadata": {},
   "outputs": [
    {
     "data": {
      "text/plain": [
       "(79293, 31)"
      ]
     },
     "execution_count": 3,
     "metadata": {},
     "output_type": "execute_result"
    }
   ],
   "source": [
    "data.shape"
   ]
  },
  {
   "cell_type": "code",
   "execution_count": 4,
   "metadata": {},
   "outputs": [
    {
     "data": {
      "text/html": [
       "<div>\n",
       "<style scoped>\n",
       "    .dataframe tbody tr th:only-of-type {\n",
       "        vertical-align: middle;\n",
       "    }\n",
       "\n",
       "    .dataframe tbody tr th {\n",
       "        vertical-align: top;\n",
       "    }\n",
       "\n",
       "    .dataframe thead th {\n",
       "        text-align: right;\n",
       "    }\n",
       "</style>\n",
       "<table border=\"1\" class=\"dataframe\">\n",
       "  <thead>\n",
       "    <tr style=\"text-align: right;\">\n",
       "      <th></th>\n",
       "      <th>Event.Id</th>\n",
       "      <th>Investigation.Type</th>\n",
       "      <th>Accident.Number</th>\n",
       "      <th>Event.Date</th>\n",
       "      <th>Location</th>\n",
       "      <th>Country</th>\n",
       "      <th>Latitude</th>\n",
       "      <th>Longitude</th>\n",
       "      <th>Airport.Code</th>\n",
       "      <th>Airport.Name</th>\n",
       "      <th>...</th>\n",
       "      <th>Purpose.of.Flight</th>\n",
       "      <th>Air.Carrier</th>\n",
       "      <th>Total.Fatal.Injuries</th>\n",
       "      <th>Total.Serious.Injuries</th>\n",
       "      <th>Total.Minor.Injuries</th>\n",
       "      <th>Total.Uninjured</th>\n",
       "      <th>Weather.Condition</th>\n",
       "      <th>Broad.Phase.of.Flight</th>\n",
       "      <th>Report.Status</th>\n",
       "      <th>Publication.Date</th>\n",
       "    </tr>\n",
       "  </thead>\n",
       "  <tbody>\n",
       "    <tr>\n",
       "      <th>0</th>\n",
       "      <td>20170103X43747</td>\n",
       "      <td>Accident</td>\n",
       "      <td>WPR17LA046</td>\n",
       "      <td>2017-01-03</td>\n",
       "      <td>Paradise, MT</td>\n",
       "      <td>United States</td>\n",
       "      <td>NaN</td>\n",
       "      <td>NaN</td>\n",
       "      <td>NaN</td>\n",
       "      <td>NaN</td>\n",
       "      <td>...</td>\n",
       "      <td>Personal</td>\n",
       "      <td>NaN</td>\n",
       "      <td>NaN</td>\n",
       "      <td>2.0</td>\n",
       "      <td>NaN</td>\n",
       "      <td>NaN</td>\n",
       "      <td>VMC</td>\n",
       "      <td>CRUISE</td>\n",
       "      <td>Preliminary</td>\n",
       "      <td>05/01/2017</td>\n",
       "    </tr>\n",
       "    <tr>\n",
       "      <th>1</th>\n",
       "      <td>20161230X55950</td>\n",
       "      <td>Accident</td>\n",
       "      <td>WPR17FA044</td>\n",
       "      <td>2016-12-29</td>\n",
       "      <td>Dabob, WA</td>\n",
       "      <td>United States</td>\n",
       "      <td>47.823611</td>\n",
       "      <td>-122.790000</td>\n",
       "      <td>NaN</td>\n",
       "      <td>NaN</td>\n",
       "      <td>...</td>\n",
       "      <td>Personal</td>\n",
       "      <td>NaN</td>\n",
       "      <td>4.0</td>\n",
       "      <td>NaN</td>\n",
       "      <td>NaN</td>\n",
       "      <td>NaN</td>\n",
       "      <td>VMC</td>\n",
       "      <td>NaN</td>\n",
       "      <td>Preliminary</td>\n",
       "      <td>05/01/2017</td>\n",
       "    </tr>\n",
       "    <tr>\n",
       "      <th>2</th>\n",
       "      <td>20161229X93022</td>\n",
       "      <td>Accident</td>\n",
       "      <td>CEN17LA062</td>\n",
       "      <td>2016-12-27</td>\n",
       "      <td>Piedmont, MO</td>\n",
       "      <td>United States</td>\n",
       "      <td>NaN</td>\n",
       "      <td>NaN</td>\n",
       "      <td>NaN</td>\n",
       "      <td>NaN</td>\n",
       "      <td>...</td>\n",
       "      <td>Personal</td>\n",
       "      <td>NaN</td>\n",
       "      <td>NaN</td>\n",
       "      <td>NaN</td>\n",
       "      <td>NaN</td>\n",
       "      <td>1.0</td>\n",
       "      <td>VMC</td>\n",
       "      <td>LANDING</td>\n",
       "      <td>Preliminary</td>\n",
       "      <td>03/01/2017</td>\n",
       "    </tr>\n",
       "    <tr>\n",
       "      <th>3</th>\n",
       "      <td>20161227X80237</td>\n",
       "      <td>Accident</td>\n",
       "      <td>CEN17LA061</td>\n",
       "      <td>2016-12-27</td>\n",
       "      <td>Farmington, MO</td>\n",
       "      <td>United States</td>\n",
       "      <td>37.761111</td>\n",
       "      <td>-90.428611</td>\n",
       "      <td>FAM</td>\n",
       "      <td>FARMINGTON RGNL</td>\n",
       "      <td>...</td>\n",
       "      <td>Personal</td>\n",
       "      <td>NaN</td>\n",
       "      <td>NaN</td>\n",
       "      <td>NaN</td>\n",
       "      <td>1.0</td>\n",
       "      <td>1.0</td>\n",
       "      <td>VMC</td>\n",
       "      <td>TAKEOFF</td>\n",
       "      <td>Preliminary</td>\n",
       "      <td>29/12/2016</td>\n",
       "    </tr>\n",
       "    <tr>\n",
       "      <th>4</th>\n",
       "      <td>20161226X80840</td>\n",
       "      <td>Accident</td>\n",
       "      <td>WPR17FA041</td>\n",
       "      <td>2016-12-26</td>\n",
       "      <td>Fresno, CA</td>\n",
       "      <td>United States</td>\n",
       "      <td>36.844444</td>\n",
       "      <td>-119.870834</td>\n",
       "      <td>E79</td>\n",
       "      <td>Sierra Sky Park</td>\n",
       "      <td>...</td>\n",
       "      <td>Personal</td>\n",
       "      <td>NaN</td>\n",
       "      <td>2.0</td>\n",
       "      <td>NaN</td>\n",
       "      <td>NaN</td>\n",
       "      <td>NaN</td>\n",
       "      <td>VMC</td>\n",
       "      <td>TAKEOFF</td>\n",
       "      <td>Preliminary</td>\n",
       "      <td>05/01/2017</td>\n",
       "    </tr>\n",
       "  </tbody>\n",
       "</table>\n",
       "<p>5 rows × 31 columns</p>\n",
       "</div>"
      ],
      "text/plain": [
       "          Event.Id Investigation.Type Accident.Number  Event.Date  \\\n",
       "0  20170103X43747            Accident      WPR17LA046  2017-01-03   \n",
       "1  20161230X55950            Accident      WPR17FA044  2016-12-29   \n",
       "2  20161229X93022            Accident      CEN17LA062  2016-12-27   \n",
       "3  20161227X80237            Accident      CEN17LA061  2016-12-27   \n",
       "4  20161226X80840            Accident      WPR17FA041  2016-12-26   \n",
       "\n",
       "         Location        Country   Latitude   Longitude Airport.Code  \\\n",
       "0    Paradise, MT  United States        NaN         NaN          NaN   \n",
       "1       Dabob, WA  United States  47.823611 -122.790000          NaN   \n",
       "2    Piedmont, MO  United States        NaN         NaN          NaN   \n",
       "3  Farmington, MO  United States  37.761111  -90.428611          FAM   \n",
       "4      Fresno, CA  United States  36.844444 -119.870834          E79   \n",
       "\n",
       "      Airport.Name  ... Purpose.of.Flight Air.Carrier Total.Fatal.Injuries  \\\n",
       "0              NaN  ...          Personal         NaN                  NaN   \n",
       "1              NaN  ...          Personal         NaN                  4.0   \n",
       "2              NaN  ...          Personal         NaN                  NaN   \n",
       "3  FARMINGTON RGNL  ...          Personal         NaN                  NaN   \n",
       "4  Sierra Sky Park  ...          Personal         NaN                  2.0   \n",
       "\n",
       "  Total.Serious.Injuries Total.Minor.Injuries Total.Uninjured  \\\n",
       "0                    2.0                  NaN             NaN   \n",
       "1                    NaN                  NaN             NaN   \n",
       "2                    NaN                  NaN             1.0   \n",
       "3                    NaN                  1.0             1.0   \n",
       "4                    NaN                  NaN             NaN   \n",
       "\n",
       "  Weather.Condition  Broad.Phase.of.Flight Report.Status Publication.Date  \n",
       "0               VMC                 CRUISE   Preliminary       05/01/2017  \n",
       "1               VMC                    NaN   Preliminary       05/01/2017  \n",
       "2               VMC                LANDING   Preliminary       03/01/2017  \n",
       "3               VMC                TAKEOFF   Preliminary       29/12/2016  \n",
       "4               VMC                TAKEOFF   Preliminary       05/01/2017  \n",
       "\n",
       "[5 rows x 31 columns]"
      ]
     },
     "execution_count": 4,
     "metadata": {},
     "output_type": "execute_result"
    }
   ],
   "source": [
    "data.head()"
   ]
  },
  {
   "cell_type": "code",
   "execution_count": 5,
   "metadata": {},
   "outputs": [
    {
     "data": {
      "text/plain": [
       "Index(['Event.Id', 'Investigation.Type', 'Accident.Number', 'Event.Date',\n",
       "       'Location', 'Country', 'Latitude', 'Longitude', 'Airport.Code',\n",
       "       'Airport.Name', 'Injury.Severity', 'Aircraft.Damage',\n",
       "       'Aircraft.Category', 'Registration.Number', 'Make', 'Model',\n",
       "       'Amateur.Built', 'Number.of.Engines', 'Engine.Type', 'FAR.Description',\n",
       "       'Schedule', 'Purpose.of.Flight', 'Air.Carrier', 'Total.Fatal.Injuries',\n",
       "       'Total.Serious.Injuries', 'Total.Minor.Injuries', 'Total.Uninjured',\n",
       "       'Weather.Condition', 'Broad.Phase.of.Flight', 'Report.Status',\n",
       "       'Publication.Date'],\n",
       "      dtype='object')"
      ]
     },
     "execution_count": 5,
     "metadata": {},
     "output_type": "execute_result"
    }
   ],
   "source": [
    "data.columns"
   ]
  },
  {
   "cell_type": "code",
   "execution_count": 6,
   "metadata": {},
   "outputs": [
    {
     "name": "stderr",
     "output_type": "stream",
     "text": [
      "PandasGUI WARNING — pandasgui.utility — In data, converted columns to datetime: Event.Date, Publication.Date\n"
     ]
    }
   ],
   "source": [
    "gui  = show(data)"
   ]
  },
  {
   "cell_type": "code",
   "execution_count": 7,
   "metadata": {},
   "outputs": [],
   "source": [
    "# create a sub dataframe with the selected columns needed for analysis\n",
    "\n",
    "df = data[['Event.Date', 'Location',  'Injury.Severity',  'Aircraft.Damage','Make', 'Model',\n",
    "       'Amateur.Built', 'Number.of.Engines', 'Engine.Type', 'Total.Fatal.Injuries',\n",
    "       'Total.Serious.Injuries', 'Total.Minor.Injuries', 'Total.Uninjured',\n",
    "       'Weather.Condition' ]]"
   ]
  },
  {
   "cell_type": "code",
   "execution_count": 8,
   "metadata": {},
   "outputs": [],
   "source": [
    "# rename the columns by remvoing the space and capital letters\n",
    "\n",
    "df.columns = ['event_date', 'location', 'injury_severity', \n",
    "              'aircraft_damage', 'make', 'model', \n",
    "              'amateur_build', 'number_of_engines', 'engine_type',\n",
    "              'total_fatal_injuries', 'total_serious_injuries', 'total_minor_injuries',\n",
    "              'total_uninjured', 'weather_conditions'\n",
    "             ]"
   ]
  },
  {
   "cell_type": "code",
   "execution_count": 9,
   "metadata": {},
   "outputs": [
    {
     "data": {
      "text/plain": [
       "(79293, 14)"
      ]
     },
     "execution_count": 9,
     "metadata": {},
     "output_type": "execute_result"
    }
   ],
   "source": [
    "df.shape"
   ]
  },
  {
   "cell_type": "code",
   "execution_count": 10,
   "metadata": {},
   "outputs": [
    {
     "name": "stdout",
     "output_type": "stream",
     "text": [
      "<class 'pandas.core.frame.DataFrame'>\n",
      "RangeIndex: 79293 entries, 0 to 79292\n",
      "Data columns (total 14 columns):\n",
      " #   Column                  Non-Null Count  Dtype  \n",
      "---  ------                  --------------  -----  \n",
      " 0   event_date              79293 non-null  object \n",
      " 1   location                79215 non-null  object \n",
      " 2   injury_severity         79293 non-null  object \n",
      " 3   aircraft_damage         76883 non-null  object \n",
      " 4   make                    79204 non-null  object \n",
      " 5   model                   79175 non-null  object \n",
      " 6   amateur_build           78721 non-null  object \n",
      " 7   number_of_engines       75175 non-null  float64\n",
      " 8   engine_type             75919 non-null  object \n",
      " 9   total_fatal_injuries    55984 non-null  float64\n",
      " 10  total_serious_injuries  53742 non-null  float64\n",
      " 11  total_minor_injuries    54833 non-null  float64\n",
      " 12  total_uninjured         66949 non-null  float64\n",
      " 13  weather_conditions      77136 non-null  object \n",
      "dtypes: float64(5), object(9)\n",
      "memory usage: 8.5+ MB\n"
     ]
    }
   ],
   "source": [
    "df.info()"
   ]
  },
  {
   "cell_type": "code",
   "execution_count": 11,
   "metadata": {},
   "outputs": [
    {
     "data": {
      "text/html": [
       "<div>\n",
       "<style scoped>\n",
       "    .dataframe tbody tr th:only-of-type {\n",
       "        vertical-align: middle;\n",
       "    }\n",
       "\n",
       "    .dataframe tbody tr th {\n",
       "        vertical-align: top;\n",
       "    }\n",
       "\n",
       "    .dataframe thead th {\n",
       "        text-align: right;\n",
       "    }\n",
       "</style>\n",
       "<table border=\"1\" class=\"dataframe\">\n",
       "  <thead>\n",
       "    <tr style=\"text-align: right;\">\n",
       "      <th></th>\n",
       "      <th>number_of_engines</th>\n",
       "      <th>total_fatal_injuries</th>\n",
       "      <th>total_serious_injuries</th>\n",
       "      <th>total_minor_injuries</th>\n",
       "      <th>total_uninjured</th>\n",
       "    </tr>\n",
       "  </thead>\n",
       "  <tbody>\n",
       "    <tr>\n",
       "      <th>count</th>\n",
       "      <td>75175.000000</td>\n",
       "      <td>55984.000000</td>\n",
       "      <td>53742.000000</td>\n",
       "      <td>54833.000000</td>\n",
       "      <td>66949.000000</td>\n",
       "    </tr>\n",
       "    <tr>\n",
       "      <th>mean</th>\n",
       "      <td>1.148055</td>\n",
       "      <td>0.814679</td>\n",
       "      <td>0.317703</td>\n",
       "      <td>0.502581</td>\n",
       "      <td>5.790886</td>\n",
       "    </tr>\n",
       "    <tr>\n",
       "      <th>std</th>\n",
       "      <td>0.453847</td>\n",
       "      <td>6.233700</td>\n",
       "      <td>1.372924</td>\n",
       "      <td>2.781994</td>\n",
       "      <td>29.223016</td>\n",
       "    </tr>\n",
       "    <tr>\n",
       "      <th>min</th>\n",
       "      <td>0.000000</td>\n",
       "      <td>0.000000</td>\n",
       "      <td>0.000000</td>\n",
       "      <td>0.000000</td>\n",
       "      <td>0.000000</td>\n",
       "    </tr>\n",
       "    <tr>\n",
       "      <th>25%</th>\n",
       "      <td>1.000000</td>\n",
       "      <td>0.000000</td>\n",
       "      <td>0.000000</td>\n",
       "      <td>0.000000</td>\n",
       "      <td>0.000000</td>\n",
       "    </tr>\n",
       "    <tr>\n",
       "      <th>50%</th>\n",
       "      <td>1.000000</td>\n",
       "      <td>0.000000</td>\n",
       "      <td>0.000000</td>\n",
       "      <td>0.000000</td>\n",
       "      <td>1.000000</td>\n",
       "    </tr>\n",
       "    <tr>\n",
       "      <th>75%</th>\n",
       "      <td>1.000000</td>\n",
       "      <td>1.000000</td>\n",
       "      <td>0.000000</td>\n",
       "      <td>1.000000</td>\n",
       "      <td>2.000000</td>\n",
       "    </tr>\n",
       "    <tr>\n",
       "      <th>max</th>\n",
       "      <td>18.000000</td>\n",
       "      <td>349.000000</td>\n",
       "      <td>111.000000</td>\n",
       "      <td>380.000000</td>\n",
       "      <td>699.000000</td>\n",
       "    </tr>\n",
       "  </tbody>\n",
       "</table>\n",
       "</div>"
      ],
      "text/plain": [
       "       number_of_engines  total_fatal_injuries  total_serious_injuries  \\\n",
       "count       75175.000000          55984.000000            53742.000000   \n",
       "mean            1.148055              0.814679                0.317703   \n",
       "std             0.453847              6.233700                1.372924   \n",
       "min             0.000000              0.000000                0.000000   \n",
       "25%             1.000000              0.000000                0.000000   \n",
       "50%             1.000000              0.000000                0.000000   \n",
       "75%             1.000000              1.000000                0.000000   \n",
       "max            18.000000            349.000000              111.000000   \n",
       "\n",
       "       total_minor_injuries  total_uninjured  \n",
       "count          54833.000000     66949.000000  \n",
       "mean               0.502581         5.790886  \n",
       "std                2.781994        29.223016  \n",
       "min                0.000000         0.000000  \n",
       "25%                0.000000         0.000000  \n",
       "50%                0.000000         1.000000  \n",
       "75%                1.000000         2.000000  \n",
       "max              380.000000       699.000000  "
      ]
     },
     "execution_count": 11,
     "metadata": {},
     "output_type": "execute_result"
    }
   ],
   "source": [
    "#statistics on numerical data\n",
    "df.describe()"
   ]
  },
  {
   "cell_type": "code",
   "execution_count": 12,
   "metadata": {},
   "outputs": [
    {
     "data": {
      "text/plain": [
       "event_date                    0\n",
       "location                     78\n",
       "injury_severity               0\n",
       "aircraft_damage            2410\n",
       "make                         89\n",
       "model                       118\n",
       "amateur_build               572\n",
       "number_of_engines          4118\n",
       "engine_type                3374\n",
       "total_fatal_injuries      23309\n",
       "total_serious_injuries    25551\n",
       "total_minor_injuries      24460\n",
       "total_uninjured           12344\n",
       "weather_conditions         2157\n",
       "dtype: int64"
      ]
     },
     "execution_count": 12,
     "metadata": {},
     "output_type": "execute_result"
    }
   ],
   "source": [
    "df.isnull().sum()"
   ]
  },
  {
   "cell_type": "code",
   "execution_count": 13,
   "metadata": {},
   "outputs": [],
   "source": [
    "#sort by ascending date\n",
    "df = df.sort_values(by='event_date', ascending=True, na_position='first')"
   ]
  },
  {
   "cell_type": "code",
   "execution_count": 14,
   "metadata": {},
   "outputs": [
    {
     "name": "stderr",
     "output_type": "stream",
     "text": [
      "PandasGUI WARNING — pandasgui.utility — In df, converted columns to datetime: event_date\n"
     ]
    }
   ],
   "source": [
    "gui = show(df)"
   ]
  },
  {
   "cell_type": "code",
   "execution_count": 15,
   "metadata": {},
   "outputs": [
    {
     "data": {
      "text/plain": [
       "array(['Destroyed', 'Substantial', 'Minor', nan], dtype=object)"
      ]
     },
     "execution_count": 15,
     "metadata": {},
     "output_type": "execute_result"
    }
   ],
   "source": [
    "#begin to look for unique categories\n",
    "\n",
    "df.aircraft_damage.unique()"
   ]
  },
  {
   "cell_type": "code",
   "execution_count": 16,
   "metadata": {},
   "outputs": [
    {
     "data": {
      "text/plain": [
       "array(['Reciprocating', nan, 'Turbo Shaft', 'Unknown', 'Turbo Fan',\n",
       "       'Turbo Prop', 'Turbo Jet', 'REC, TJ, TJ', 'TJ, REC, REC, TJ',\n",
       "       'REC, TJ, REC, TJ', 'TF, TJ', 'None', 'Electric', 'Hybrid Rocket',\n",
       "       'REC, ELEC'], dtype=object)"
      ]
     },
     "execution_count": 16,
     "metadata": {},
     "output_type": "execute_result"
    }
   ],
   "source": [
    "df.engine_type.unique()"
   ]
  },
  {
   "cell_type": "code",
   "execution_count": 17,
   "metadata": {},
   "outputs": [
    {
     "data": {
      "text/plain": [
       "array(['STINSON', 'PIPER', 'Cessna', ..., 'PETRUS DAVID WAYNE', 'MEAD',\n",
       "       'SOFTEX INVEST LLC'], dtype=object)"
      ]
     },
     "execution_count": 17,
     "metadata": {},
     "output_type": "execute_result"
    }
   ],
   "source": [
    "df.make.unique()"
   ]
  },
  {
   "cell_type": "code",
   "execution_count": 18,
   "metadata": {},
   "outputs": [
    {
     "data": {
      "text/plain": [
       "array(['UNK', 'IMC', 'VMC', nan], dtype=object)"
      ]
     },
     "execution_count": 18,
     "metadata": {},
     "output_type": "execute_result"
    }
   ],
   "source": [
    "df.weather_conditions.unique()"
   ]
  },
  {
   "cell_type": "code",
   "execution_count": 19,
   "metadata": {},
   "outputs": [
    {
     "data": {
      "text/plain": [
       "array(['Fatal(2)', 'Fatal(4)', 'Fatal(3)', 'Fatal(1)', 'Non-Fatal',\n",
       "       'Incident', 'Fatal(8)', 'Fatal(78)', 'Fatal(7)', 'Fatal(6)',\n",
       "       'Fatal(5)', 'Fatal(153)', 'Fatal(12)', 'Fatal(14)', 'Fatal(23)',\n",
       "       'Fatal(10)', 'Fatal(11)', 'Fatal(9)', 'Fatal(17)', 'Fatal(13)',\n",
       "       'Fatal(29)', 'Fatal(70)', 'Unavailable', 'Fatal(135)', 'Fatal(31)',\n",
       "       'Fatal(256)', 'Fatal(25)', 'Fatal(82)', 'Fatal(156)', 'Fatal(28)',\n",
       "       'Fatal(18)', 'Fatal(43)', 'Fatal(15)', 'Fatal(270)', 'Fatal(144)',\n",
       "       'Fatal(174)', 'Fatal(111)', 'Fatal(131)', 'Fatal(20)', 'Fatal(73)',\n",
       "       'Fatal(27)', 'Fatal(34)', 'Fatal(87)', 'Fatal(30)', 'Fatal(16)',\n",
       "       'Fatal(47)', 'Fatal(56)', 'Fatal(37)', 'Fatal(132)', 'Fatal(68)',\n",
       "       'Fatal(54)', 'Fatal(52)', 'Fatal(65)', 'Fatal(72)', 'Fatal(160)',\n",
       "       'Fatal(189)', 'Fatal(123)', 'Fatal(33)', 'Fatal(110)',\n",
       "       'Fatal(230)', 'Fatal(97)', 'Fatal(349)', 'Fatal(125)', 'Fatal(35)',\n",
       "       'Fatal(228)', 'Fatal(75)', 'Fatal(104)', 'Fatal(229)', 'Fatal(80)',\n",
       "       'Fatal(217)', 'Fatal(169)', 'Fatal(88)', 'Fatal(19)', 'Fatal(60)',\n",
       "       'Fatal(113)', 'Fatal(143)', 'Fatal(83)', 'Fatal(24)', 'Fatal(92)',\n",
       "       'Fatal(64)', 'Fatal(44)', 'Fatal(118)', 'Fatal(265)', 'Fatal(26)',\n",
       "       'Fatal(138)', 'Fatal(206)', 'Fatal(71)', 'Fatal(21)', 'Fatal(46)',\n",
       "       'Fatal(102)', 'Fatal(115)', 'Fatal(141)', 'Fatal(55)',\n",
       "       'Fatal(121)', 'Fatal(45)', 'Fatal(145)', 'Fatal(117)',\n",
       "       'Fatal(107)', 'Fatal(124)', 'Fatal(49)', 'Fatal(154)', 'Fatal(96)',\n",
       "       'Fatal(114)', 'Fatal(199)', 'Fatal(89)', 'Fatal(57)', 'Fatal(40)',\n",
       "       'Fatal(50)', 'Fatal(152)', 'Fatal(90)', 'Fatal(103)', 'Fatal(158)',\n",
       "       'Fatal(157)', 'Fatal(42)', 'Fatal(77)', 'Fatal(127)', 'Fatal(239)',\n",
       "       'Fatal(295)', 'Fatal(58)', 'Fatal(162)', 'Fatal(150)',\n",
       "       'Fatal(224)', 'Fatal(62)', 'Fatal(66)'], dtype=object)"
      ]
     },
     "execution_count": 19,
     "metadata": {},
     "output_type": "execute_result"
    }
   ],
   "source": [
    "df.injury_severity.unique()"
   ]
  },
  {
   "cell_type": "code",
   "execution_count": 20,
   "metadata": {},
   "outputs": [
    {
     "data": {
      "text/plain": [
       "124"
      ]
     },
     "execution_count": 20,
     "metadata": {},
     "output_type": "execute_result"
    }
   ],
   "source": [
    "#124 Fatal accidents\n",
    "\n",
    "len(df.injury_severity.unique())"
   ]
  },
  {
   "cell_type": "code",
   "execution_count": 21,
   "metadata": {},
   "outputs": [
    {
     "name": "stderr",
     "output_type": "stream",
     "text": [
      "/opt/anaconda3/lib/python3.8/site-packages/seaborn/_decorators.py:36: FutureWarning:\n",
      "\n",
      "Pass the following variable as a keyword arg: x. From version 0.12, the only valid positional argument will be `data`, and passing other arguments without an explicit keyword will result in an error or misinterpretation.\n",
      "\n"
     ]
    },
    {
     "data": {
      "text/plain": [
       "<AxesSubplot:xlabel='aircraft_damage', ylabel='count'>"
      ]
     },
     "execution_count": 21,
     "metadata": {},
     "output_type": "execute_result"
    },
    {
     "data": {
      "image/png": "[encoded data removed]",
      "text/plain": [
       "<Figure size 432x288 with 1 Axes>"
      ]
     },
     "metadata": {
      "needs_background": "light"
     },
     "output_type": "display_data"
    }
   ],
   "source": [
    "#Visualize the count of types of damage\n",
    "\n",
    "sns.countplot(df['aircraft_damage'],label=\"Count\")"
   ]
  },
  {
   "cell_type": "code",
   "execution_count": 22,
   "metadata": {},
   "outputs": [
    {
     "data": {
      "text/plain": [
       "array(['1948-10-24', '1962-07-19', '1974-08-30', ..., '2016-12-27',\n",
       "       '2016-12-29', '2017-01-03'], dtype=object)"
      ]
     },
     "execution_count": 22,
     "metadata": {},
     "output_type": "execute_result"
    }
   ],
   "source": [
    "df.event_date.unique()"
   ]
  },
  {
   "cell_type": "code",
   "execution_count": 23,
   "metadata": {},
   "outputs": [
    {
     "data": {
      "text/plain": [
       "79292    1948-10-24\n",
       "79291    1962-07-19\n",
       "79290    1974-08-30\n",
       "79289    1977-06-19\n",
       "79288    1979-08-02\n",
       "            ...    \n",
       "4        2016-12-26\n",
       "3        2016-12-27\n",
       "2        2016-12-27\n",
       "1        2016-12-29\n",
       "0        2017-01-03\n",
       "Name: event_date, Length: 79293, dtype: object"
      ]
     },
     "execution_count": 23,
     "metadata": {},
     "output_type": "execute_result"
    }
   ],
   "source": [
    "df['event_date']"
   ]
  },
  {
   "cell_type": "code",
   "execution_count": 24,
   "metadata": {},
   "outputs": [],
   "source": [
    "#Convert to Pandas datetime\n",
    "\n",
    "converted_date = df['event_date'] = pd.to_datetime(df.event_date)"
   ]
  },
  {
   "cell_type": "code",
   "execution_count": 25,
   "metadata": {},
   "outputs": [
    {
     "data": {
      "text/html": [
       "<div>\n",
       "<style scoped>\n",
       "    .dataframe tbody tr th:only-of-type {\n",
       "        vertical-align: middle;\n",
       "    }\n",
       "\n",
       "    .dataframe tbody tr th {\n",
       "        vertical-align: top;\n",
       "    }\n",
       "\n",
       "    .dataframe thead th {\n",
       "        text-align: right;\n",
       "    }\n",
       "</style>\n",
       "<table border=\"1\" class=\"dataframe\">\n",
       "  <thead>\n",
       "    <tr style=\"text-align: right;\">\n",
       "      <th></th>\n",
       "      <th>event_date</th>\n",
       "      <th>location</th>\n",
       "      <th>injury_severity</th>\n",
       "      <th>aircraft_damage</th>\n",
       "      <th>make</th>\n",
       "      <th>model</th>\n",
       "      <th>amateur_build</th>\n",
       "      <th>number_of_engines</th>\n",
       "      <th>engine_type</th>\n",
       "      <th>total_fatal_injuries</th>\n",
       "      <th>total_serious_injuries</th>\n",
       "      <th>total_minor_injuries</th>\n",
       "      <th>total_uninjured</th>\n",
       "      <th>weather_conditions</th>\n",
       "      <th>year</th>\n",
       "    </tr>\n",
       "  </thead>\n",
       "  <tbody>\n",
       "    <tr>\n",
       "      <th>79292</th>\n",
       "      <td>1948-10-24</td>\n",
       "      <td>MOOSE CREEK, ID</td>\n",
       "      <td>Fatal(2)</td>\n",
       "      <td>Destroyed</td>\n",
       "      <td>STINSON</td>\n",
       "      <td>108-3</td>\n",
       "      <td>No</td>\n",
       "      <td>1.0</td>\n",
       "      <td>Reciprocating</td>\n",
       "      <td>2.0</td>\n",
       "      <td>0.0</td>\n",
       "      <td>0.0</td>\n",
       "      <td>0.0</td>\n",
       "      <td>UNK</td>\n",
       "      <td>1948</td>\n",
       "    </tr>\n",
       "    <tr>\n",
       "      <th>79291</th>\n",
       "      <td>1962-07-19</td>\n",
       "      <td>BRIDGEPORT, CA</td>\n",
       "      <td>Fatal(4)</td>\n",
       "      <td>Destroyed</td>\n",
       "      <td>PIPER</td>\n",
       "      <td>PA24-180</td>\n",
       "      <td>No</td>\n",
       "      <td>1.0</td>\n",
       "      <td>Reciprocating</td>\n",
       "      <td>4.0</td>\n",
       "      <td>0.0</td>\n",
       "      <td>0.0</td>\n",
       "      <td>0.0</td>\n",
       "      <td>UNK</td>\n",
       "      <td>1962</td>\n",
       "    </tr>\n",
       "    <tr>\n",
       "      <th>79290</th>\n",
       "      <td>1974-08-30</td>\n",
       "      <td>Saltville, VA</td>\n",
       "      <td>Fatal(3)</td>\n",
       "      <td>Destroyed</td>\n",
       "      <td>Cessna</td>\n",
       "      <td>172M</td>\n",
       "      <td>No</td>\n",
       "      <td>1.0</td>\n",
       "      <td>Reciprocating</td>\n",
       "      <td>3.0</td>\n",
       "      <td>NaN</td>\n",
       "      <td>NaN</td>\n",
       "      <td>NaN</td>\n",
       "      <td>IMC</td>\n",
       "      <td>1974</td>\n",
       "    </tr>\n",
       "    <tr>\n",
       "      <th>79289</th>\n",
       "      <td>1977-06-19</td>\n",
       "      <td>EUREKA, CA</td>\n",
       "      <td>Fatal(2)</td>\n",
       "      <td>Destroyed</td>\n",
       "      <td>Rockwell</td>\n",
       "      <td>112</td>\n",
       "      <td>No</td>\n",
       "      <td>1.0</td>\n",
       "      <td>Reciprocating</td>\n",
       "      <td>2.0</td>\n",
       "      <td>0.0</td>\n",
       "      <td>0.0</td>\n",
       "      <td>0.0</td>\n",
       "      <td>IMC</td>\n",
       "      <td>1977</td>\n",
       "    </tr>\n",
       "    <tr>\n",
       "      <th>79288</th>\n",
       "      <td>1979-08-02</td>\n",
       "      <td>Canton, OH</td>\n",
       "      <td>Fatal(1)</td>\n",
       "      <td>Destroyed</td>\n",
       "      <td>Cessna</td>\n",
       "      <td>501</td>\n",
       "      <td>No</td>\n",
       "      <td>NaN</td>\n",
       "      <td>NaN</td>\n",
       "      <td>1.0</td>\n",
       "      <td>2.0</td>\n",
       "      <td>NaN</td>\n",
       "      <td>NaN</td>\n",
       "      <td>VMC</td>\n",
       "      <td>1979</td>\n",
       "    </tr>\n",
       "  </tbody>\n",
       "</table>\n",
       "</div>"
      ],
      "text/plain": [
       "      event_date         location injury_severity aircraft_damage      make  \\\n",
       "79292 1948-10-24  MOOSE CREEK, ID        Fatal(2)       Destroyed   STINSON   \n",
       "79291 1962-07-19   BRIDGEPORT, CA        Fatal(4)       Destroyed     PIPER   \n",
       "79290 1974-08-30    Saltville, VA        Fatal(3)       Destroyed    Cessna   \n",
       "79289 1977-06-19       EUREKA, CA        Fatal(2)       Destroyed  Rockwell   \n",
       "79288 1979-08-02       Canton, OH        Fatal(1)       Destroyed    Cessna   \n",
       "\n",
       "          model amateur_build  number_of_engines    engine_type  \\\n",
       "79292     108-3            No                1.0  Reciprocating   \n",
       "79291  PA24-180            No                1.0  Reciprocating   \n",
       "79290      172M            No                1.0  Reciprocating   \n",
       "79289       112            No                1.0  Reciprocating   \n",
       "79288       501            No                NaN            NaN   \n",
       "\n",
       "       total_fatal_injuries  total_serious_injuries  total_minor_injuries  \\\n",
       "79292                   2.0                     0.0                   0.0   \n",
       "79291                   4.0                     0.0                   0.0   \n",
       "79290                   3.0                     NaN                   NaN   \n",
       "79289                   2.0                     0.0                   0.0   \n",
       "79288                   1.0                     2.0                   NaN   \n",
       "\n",
       "       total_uninjured weather_conditions  year  \n",
       "79292              0.0                UNK  1948  \n",
       "79291              0.0                UNK  1962  \n",
       "79290              NaN                IMC  1974  \n",
       "79289              0.0                IMC  1977  \n",
       "79288              NaN                VMC  1979  "
      ]
     },
     "execution_count": 25,
     "metadata": {},
     "output_type": "execute_result"
    }
   ],
   "source": [
    "#pull the year from the event date column and create a new years column\n",
    "\n",
    "df['event_date'].dt.year\n",
    "df['year'] = df['event_date'].dt.year\n",
    "df.head()"
   ]
  },
  {
   "cell_type": "code",
   "execution_count": 26,
   "metadata": {},
   "outputs": [
    {
     "data": {
      "text/plain": [
       "79293"
      ]
     },
     "execution_count": 26,
     "metadata": {},
     "output_type": "execute_result"
    }
   ],
   "source": [
    "len(df['year'])"
   ]
  },
  {
   "cell_type": "code",
   "execution_count": 27,
   "metadata": {},
   "outputs": [
    {
     "data": {
      "text/plain": [
       "Text(0.5, 1.0, 'Fatal injuries vs Year')"
      ]
     },
     "execution_count": 27,
     "metadata": {},
     "output_type": "execute_result"
    },
    {
     "data": {
      "image/png": "[encoded data removed]",
      "text/plain": [
       "<Figure size 720x576 with 1 Axes>"
      ]
     },
     "metadata": {
      "needs_background": "light"
     },
     "output_type": "display_data"
    }
   ],
   "source": [
    "#Plot yearly fatal injuries\n",
    "\n",
    "df.plot(kind='scatter', x='year', y='total_fatal_injuries', figsize=(10,8))\n",
    "plt.title(\"Fatal injuries vs Year\")\n"
   ]
  },
  {
   "cell_type": "code",
   "execution_count": null,
   "metadata": {},
   "outputs": [],
   "source": [
    "\n"
   ]
  },
  {
   "cell_type": "code",
   "execution_count": null,
   "metadata": {},
   "outputs": [],
   "source": [
    "df['make'].unique().tolist()"
   ]
  },
  {
   "cell_type": "code",
   "execution_count": 51,
   "metadata": {},
   "outputs": [
    {
     "data": {
      "text/plain": [
       "7476"
      ]
     },
     "execution_count": 51,
     "metadata": {},
     "output_type": "execute_result"
    }
   ],
   "source": [
    "len(df['make'].unique().tolist())\n"
   ]
  },
  {
   "cell_type": "code",
   "execution_count": null,
   "metadata": {},
   "outputs": [],
   "source": []
  },
  {
   "cell_type": "code",
   "execution_count": 57,
   "metadata": {},
   "outputs": [],
   "source": []
  },
  {
   "cell_type": "code",
   "execution_count": null,
   "metadata": {},
   "outputs": [],
   "source": []
  },
  {
   "cell_type": "code",
   "execution_count": null,
   "metadata": {},
   "outputs": [],
   "source": []
  },
  {
   "cell_type": "code",
   "execution_count": null,
   "metadata": {},
   "outputs": [],
   "source": [
    "df['test2'] = df['make'].unique()"
   ]
  },
  {
   "cell_type": "code",
   "execution_count": 64,
   "metadata": {},
   "outputs": [],
   "source": [
    "df['test2'] = df['make'].drop_duplicates()"
   ]
  },
  {
   "cell_type": "code",
   "execution_count": 65,
   "metadata": {},
   "outputs": [
    {
     "data": {
      "text/html": [
       "<div>\n",
       "<style scoped>\n",
       "    .dataframe tbody tr th:only-of-type {\n",
       "        vertical-align: middle;\n",
       "    }\n",
       "\n",
       "    .dataframe tbody tr th {\n",
       "        vertical-align: top;\n",
       "    }\n",
       "\n",
       "    .dataframe thead th {\n",
       "        text-align: right;\n",
       "    }\n",
       "</style>\n",
       "<table border=\"1\" class=\"dataframe\">\n",
       "  <thead>\n",
       "    <tr style=\"text-align: right;\">\n",
       "      <th></th>\n",
       "      <th>event_date</th>\n",
       "      <th>location</th>\n",
       "      <th>injury_severity</th>\n",
       "      <th>aircraft_damage</th>\n",
       "      <th>make</th>\n",
       "      <th>model</th>\n",
       "      <th>amateur_build</th>\n",
       "      <th>number_of_engines</th>\n",
       "      <th>engine_type</th>\n",
       "      <th>total_fatal_injuries</th>\n",
       "      <th>total_serious_injuries</th>\n",
       "      <th>total_minor_injuries</th>\n",
       "      <th>total_uninjured</th>\n",
       "      <th>weather_conditions</th>\n",
       "      <th>year</th>\n",
       "      <th>make_unique</th>\n",
       "      <th>test1</th>\n",
       "      <th>test2</th>\n",
       "    </tr>\n",
       "  </thead>\n",
       "  <tbody>\n",
       "    <tr>\n",
       "      <th>79292</th>\n",
       "      <td>1948-10-24</td>\n",
       "      <td>MOOSE CREEK, ID</td>\n",
       "      <td>Fatal(2)</td>\n",
       "      <td>Destroyed</td>\n",
       "      <td>STINSON</td>\n",
       "      <td>108-3</td>\n",
       "      <td>No</td>\n",
       "      <td>1.0</td>\n",
       "      <td>Reciprocating</td>\n",
       "      <td>2.0</td>\n",
       "      <td>0.0</td>\n",
       "      <td>0.0</td>\n",
       "      <td>0.0</td>\n",
       "      <td>UNK</td>\n",
       "      <td>1948</td>\n",
       "      <td>&lt;bound method Series.unique of 79292          ...</td>\n",
       "      <td>NaN</td>\n",
       "      <td>STINSON</td>\n",
       "    </tr>\n",
       "    <tr>\n",
       "      <th>79291</th>\n",
       "      <td>1962-07-19</td>\n",
       "      <td>BRIDGEPORT, CA</td>\n",
       "      <td>Fatal(4)</td>\n",
       "      <td>Destroyed</td>\n",
       "      <td>PIPER</td>\n",
       "      <td>PA24-180</td>\n",
       "      <td>No</td>\n",
       "      <td>1.0</td>\n",
       "      <td>Reciprocating</td>\n",
       "      <td>4.0</td>\n",
       "      <td>0.0</td>\n",
       "      <td>0.0</td>\n",
       "      <td>0.0</td>\n",
       "      <td>UNK</td>\n",
       "      <td>1962</td>\n",
       "      <td>&lt;bound method Series.unique of 79292          ...</td>\n",
       "      <td>NaN</td>\n",
       "      <td>PIPER</td>\n",
       "    </tr>\n",
       "    <tr>\n",
       "      <th>79290</th>\n",
       "      <td>1974-08-30</td>\n",
       "      <td>Saltville, VA</td>\n",
       "      <td>Fatal(3)</td>\n",
       "      <td>Destroyed</td>\n",
       "      <td>Cessna</td>\n",
       "      <td>172M</td>\n",
       "      <td>No</td>\n",
       "      <td>1.0</td>\n",
       "      <td>Reciprocating</td>\n",
       "      <td>3.0</td>\n",
       "      <td>NaN</td>\n",
       "      <td>NaN</td>\n",
       "      <td>NaN</td>\n",
       "      <td>IMC</td>\n",
       "      <td>1974</td>\n",
       "      <td>&lt;bound method Series.unique of 79292          ...</td>\n",
       "      <td>NaN</td>\n",
       "      <td>Cessna</td>\n",
       "    </tr>\n",
       "    <tr>\n",
       "      <th>79289</th>\n",
       "      <td>1977-06-19</td>\n",
       "      <td>EUREKA, CA</td>\n",
       "      <td>Fatal(2)</td>\n",
       "      <td>Destroyed</td>\n",
       "      <td>Rockwell</td>\n",
       "      <td>112</td>\n",
       "      <td>No</td>\n",
       "      <td>1.0</td>\n",
       "      <td>Reciprocating</td>\n",
       "      <td>2.0</td>\n",
       "      <td>0.0</td>\n",
       "      <td>0.0</td>\n",
       "      <td>0.0</td>\n",
       "      <td>IMC</td>\n",
       "      <td>1977</td>\n",
       "      <td>&lt;bound method Series.unique of 79292          ...</td>\n",
       "      <td>NaN</td>\n",
       "      <td>Rockwell</td>\n",
       "    </tr>\n",
       "    <tr>\n",
       "      <th>79288</th>\n",
       "      <td>1979-08-02</td>\n",
       "      <td>Canton, OH</td>\n",
       "      <td>Fatal(1)</td>\n",
       "      <td>Destroyed</td>\n",
       "      <td>Cessna</td>\n",
       "      <td>501</td>\n",
       "      <td>No</td>\n",
       "      <td>NaN</td>\n",
       "      <td>NaN</td>\n",
       "      <td>1.0</td>\n",
       "      <td>2.0</td>\n",
       "      <td>NaN</td>\n",
       "      <td>NaN</td>\n",
       "      <td>VMC</td>\n",
       "      <td>1979</td>\n",
       "      <td>&lt;bound method Series.unique of 79292          ...</td>\n",
       "      <td>NaN</td>\n",
       "      <td>NaN</td>\n",
       "    </tr>\n",
       "  </tbody>\n",
       "</table>\n",
       "</div>"
      ],
      "text/plain": [
       "      event_date         location injury_severity aircraft_damage      make  \\\n",
       "79292 1948-10-24  MOOSE CREEK, ID        Fatal(2)       Destroyed   STINSON   \n",
       "79291 1962-07-19   BRIDGEPORT, CA        Fatal(4)       Destroyed     PIPER   \n",
       "79290 1974-08-30    Saltville, VA        Fatal(3)       Destroyed    Cessna   \n",
       "79289 1977-06-19       EUREKA, CA        Fatal(2)       Destroyed  Rockwell   \n",
       "79288 1979-08-02       Canton, OH        Fatal(1)       Destroyed    Cessna   \n",
       "\n",
       "          model amateur_build  number_of_engines    engine_type  \\\n",
       "79292     108-3            No                1.0  Reciprocating   \n",
       "79291  PA24-180            No                1.0  Reciprocating   \n",
       "79290      172M            No                1.0  Reciprocating   \n",
       "79289       112            No                1.0  Reciprocating   \n",
       "79288       501            No                NaN            NaN   \n",
       "\n",
       "       total_fatal_injuries  total_serious_injuries  total_minor_injuries  \\\n",
       "79292                   2.0                     0.0                   0.0   \n",
       "79291                   4.0                     0.0                   0.0   \n",
       "79290                   3.0                     NaN                   NaN   \n",
       "79289                   2.0                     0.0                   0.0   \n",
       "79288                   1.0                     2.0                   NaN   \n",
       "\n",
       "       total_uninjured weather_conditions  year  \\\n",
       "79292              0.0                UNK  1948   \n",
       "79291              0.0                UNK  1962   \n",
       "79290              NaN                IMC  1974   \n",
       "79289              0.0                IMC  1977   \n",
       "79288              NaN                VMC  1979   \n",
       "\n",
       "                                             make_unique test1     test2  \n",
       "79292  <bound method Series.unique of 79292          ...   NaN   STINSON  \n",
       "79291  <bound method Series.unique of 79292          ...   NaN     PIPER  \n",
       "79290  <bound method Series.unique of 79292          ...   NaN    Cessna  \n",
       "79289  <bound method Series.unique of 79292          ...   NaN  Rockwell  \n",
       "79288  <bound method Series.unique of 79292          ...   NaN       NaN  "
      ]
     },
     "execution_count": 65,
     "metadata": {},
     "output_type": "execute_result"
    }
   ],
   "source": [
    "df.head()"
   ]
  },
  {
   "cell_type": "code",
   "execution_count": 67,
   "metadata": {},
   "outputs": [
    {
     "data": {
      "text/html": [
       "<div>\n",
       "<style scoped>\n",
       "    .dataframe tbody tr th:only-of-type {\n",
       "        vertical-align: middle;\n",
       "    }\n",
       "\n",
       "    .dataframe tbody tr th {\n",
       "        vertical-align: top;\n",
       "    }\n",
       "\n",
       "    .dataframe thead th {\n",
       "        text-align: right;\n",
       "    }\n",
       "</style>\n",
       "<table border=\"1\" class=\"dataframe\">\n",
       "  <thead>\n",
       "    <tr style=\"text-align: right;\">\n",
       "      <th></th>\n",
       "      <th>event_date</th>\n",
       "      <th>location</th>\n",
       "      <th>injury_severity</th>\n",
       "      <th>aircraft_damage</th>\n",
       "      <th>make</th>\n",
       "      <th>model</th>\n",
       "      <th>amateur_build</th>\n",
       "      <th>number_of_engines</th>\n",
       "      <th>engine_type</th>\n",
       "      <th>total_fatal_injuries</th>\n",
       "      <th>total_serious_injuries</th>\n",
       "      <th>total_minor_injuries</th>\n",
       "      <th>total_uninjured</th>\n",
       "      <th>weather_conditions</th>\n",
       "      <th>year</th>\n",
       "      <th>make_unique</th>\n",
       "      <th>test1</th>\n",
       "      <th>test2</th>\n",
       "    </tr>\n",
       "  </thead>\n",
       "  <tbody>\n",
       "    <tr>\n",
       "      <th>79292</th>\n",
       "      <td>1948-10-24</td>\n",
       "      <td>MOOSE CREEK, ID</td>\n",
       "      <td>Fatal(2)</td>\n",
       "      <td>Destroyed</td>\n",
       "      <td>STINSON</td>\n",
       "      <td>108-3</td>\n",
       "      <td>No</td>\n",
       "      <td>1.0</td>\n",
       "      <td>Reciprocating</td>\n",
       "      <td>2.0</td>\n",
       "      <td>0.0</td>\n",
       "      <td>0.0</td>\n",
       "      <td>0.0</td>\n",
       "      <td>UNK</td>\n",
       "      <td>1948</td>\n",
       "      <td>&lt;bound method Series.unique of 79292          ...</td>\n",
       "      <td>NaN</td>\n",
       "      <td>STINSON</td>\n",
       "    </tr>\n",
       "    <tr>\n",
       "      <th>79291</th>\n",
       "      <td>1962-07-19</td>\n",
       "      <td>BRIDGEPORT, CA</td>\n",
       "      <td>Fatal(4)</td>\n",
       "      <td>Destroyed</td>\n",
       "      <td>PIPER</td>\n",
       "      <td>PA24-180</td>\n",
       "      <td>No</td>\n",
       "      <td>1.0</td>\n",
       "      <td>Reciprocating</td>\n",
       "      <td>4.0</td>\n",
       "      <td>0.0</td>\n",
       "      <td>0.0</td>\n",
       "      <td>0.0</td>\n",
       "      <td>UNK</td>\n",
       "      <td>1962</td>\n",
       "      <td>&lt;bound method Series.unique of 79292          ...</td>\n",
       "      <td>NaN</td>\n",
       "      <td>PIPER</td>\n",
       "    </tr>\n",
       "    <tr>\n",
       "      <th>79290</th>\n",
       "      <td>1974-08-30</td>\n",
       "      <td>Saltville, VA</td>\n",
       "      <td>Fatal(3)</td>\n",
       "      <td>Destroyed</td>\n",
       "      <td>Cessna</td>\n",
       "      <td>172M</td>\n",
       "      <td>No</td>\n",
       "      <td>1.0</td>\n",
       "      <td>Reciprocating</td>\n",
       "      <td>3.0</td>\n",
       "      <td>NaN</td>\n",
       "      <td>NaN</td>\n",
       "      <td>NaN</td>\n",
       "      <td>IMC</td>\n",
       "      <td>1974</td>\n",
       "      <td>&lt;bound method Series.unique of 79292          ...</td>\n",
       "      <td>NaN</td>\n",
       "      <td>Cessna</td>\n",
       "    </tr>\n",
       "    <tr>\n",
       "      <th>79289</th>\n",
       "      <td>1977-06-19</td>\n",
       "      <td>EUREKA, CA</td>\n",
       "      <td>Fatal(2)</td>\n",
       "      <td>Destroyed</td>\n",
       "      <td>Rockwell</td>\n",
       "      <td>112</td>\n",
       "      <td>No</td>\n",
       "      <td>1.0</td>\n",
       "      <td>Reciprocating</td>\n",
       "      <td>2.0</td>\n",
       "      <td>0.0</td>\n",
       "      <td>0.0</td>\n",
       "      <td>0.0</td>\n",
       "      <td>IMC</td>\n",
       "      <td>1977</td>\n",
       "      <td>&lt;bound method Series.unique of 79292          ...</td>\n",
       "      <td>NaN</td>\n",
       "      <td>Rockwell</td>\n",
       "    </tr>\n",
       "    <tr>\n",
       "      <th>79288</th>\n",
       "      <td>1979-08-02</td>\n",
       "      <td>Canton, OH</td>\n",
       "      <td>Fatal(1)</td>\n",
       "      <td>Destroyed</td>\n",
       "      <td>Cessna</td>\n",
       "      <td>501</td>\n",
       "      <td>No</td>\n",
       "      <td>NaN</td>\n",
       "      <td>NaN</td>\n",
       "      <td>1.0</td>\n",
       "      <td>2.0</td>\n",
       "      <td>NaN</td>\n",
       "      <td>NaN</td>\n",
       "      <td>VMC</td>\n",
       "      <td>1979</td>\n",
       "      <td>&lt;bound method Series.unique of 79292          ...</td>\n",
       "      <td>NaN</td>\n",
       "      <td>NaN</td>\n",
       "    </tr>\n",
       "  </tbody>\n",
       "</table>\n",
       "</div>"
      ],
      "text/plain": [
       "      event_date         location injury_severity aircraft_damage      make  \\\n",
       "79292 1948-10-24  MOOSE CREEK, ID        Fatal(2)       Destroyed   STINSON   \n",
       "79291 1962-07-19   BRIDGEPORT, CA        Fatal(4)       Destroyed     PIPER   \n",
       "79290 1974-08-30    Saltville, VA        Fatal(3)       Destroyed    Cessna   \n",
       "79289 1977-06-19       EUREKA, CA        Fatal(2)       Destroyed  Rockwell   \n",
       "79288 1979-08-02       Canton, OH        Fatal(1)       Destroyed    Cessna   \n",
       "\n",
       "          model amateur_build  number_of_engines    engine_type  \\\n",
       "79292     108-3            No                1.0  Reciprocating   \n",
       "79291  PA24-180            No                1.0  Reciprocating   \n",
       "79290      172M            No                1.0  Reciprocating   \n",
       "79289       112            No                1.0  Reciprocating   \n",
       "79288       501            No                NaN            NaN   \n",
       "\n",
       "       total_fatal_injuries  total_serious_injuries  total_minor_injuries  \\\n",
       "79292                   2.0                     0.0                   0.0   \n",
       "79291                   4.0                     0.0                   0.0   \n",
       "79290                   3.0                     NaN                   NaN   \n",
       "79289                   2.0                     0.0                   0.0   \n",
       "79288                   1.0                     2.0                   NaN   \n",
       "\n",
       "       total_uninjured weather_conditions  year  \\\n",
       "79292              0.0                UNK  1948   \n",
       "79291              0.0                UNK  1962   \n",
       "79290              NaN                IMC  1974   \n",
       "79289              0.0                IMC  1977   \n",
       "79288              NaN                VMC  1979   \n",
       "\n",
       "                                             make_unique test1     test2  \n",
       "79292  <bound method Series.unique of 79292          ...   NaN   STINSON  \n",
       "79291  <bound method Series.unique of 79292          ...   NaN     PIPER  \n",
       "79290  <bound method Series.unique of 79292          ...   NaN    Cessna  \n",
       "79289  <bound method Series.unique of 79292          ...   NaN  Rockwell  \n",
       "79288  <bound method Series.unique of 79292          ...   NaN       NaN  "
      ]
     },
     "execution_count": 67,
     "metadata": {},
     "output_type": "execute_result"
    }
   ],
   "source": [
    "df.drop(columns=['make_unique', 'test1'])\n",
    "df.head()"
   ]
  },
  {
   "cell_type": "code",
   "execution_count": 69,
   "metadata": {},
   "outputs": [],
   "source": [
    "gui  = show(df)"
   ]
  },
  {
   "cell_type": "code",
   "execution_count": null,
   "metadata": {},
   "outputs": [],
   "source": [
    "df.plot(kind='bar', x='test2')"
   ]
  },
  {
   "cell_type": "code",
   "execution_count": null,
   "metadata": {},
   "outputs": [],
   "source": [
    "#make to-do: clean text first(spaces, caps, etc), new column with drop.duplicates"
   ]
  },
  {
   "cell_type": "code",
   "execution_count": null,
   "metadata": {},
   "outputs": [],
   "source": []
  }
 ],
 "metadata": {
  "kernelspec": {
   "display_name": "Python 3.8.5 64-bit ('base': conda)",
   "language": "python",
   "name": "python385jvsc74a57bd0dca0ade3e726a953b501b15e8e990130d2b7799f14cfd9f4271676035ebe5511"
  },
  "language_info": {
   "codemirror_mode": {
    "name": "ipython",
    "version": 3
   },
   "file_extension": ".py",
   "mimetype": "text/x-python",
   "name": "python",
   "nbconvert_exporter": "python",
   "pygments_lexer": "ipython3",
   "version": "3.8.5"
  }
 },
 "nbformat": 4,
 "nbformat_minor": 4
}
