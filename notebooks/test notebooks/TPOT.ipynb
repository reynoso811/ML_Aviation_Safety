{
 "cells": [
  {
   "cell_type": "code",
   "execution_count": 1,
   "metadata": {},
   "outputs": [],
   "source": [
    "## for data\n",
    "import pandas as pd\n",
    "import numpy as np\n",
    "from pandasgui import show\n",
    "import os\n",
    "import sys\n",
    "\n",
    "import datetime\n",
    "\n",
    "## for plotting\n",
    "import matplotlib.pyplot as plt\n",
    "import seaborn as sns"
   ]
  },
  {
   "cell_type": "code",
   "execution_count": 3,
   "metadata": {},
   "outputs": [
    {
     "name": "stdout",
     "output_type": "stream",
     "text": [
      "Warning: xgboost.XGBClassifier is not available and will not be used by TPOT.\n",
      "                                                                                \n",
      "Generation 1 - Current best internal CV score: 0.9753583530624554\n",
      "                                                                                \n",
      "Generation 2 - Current best internal CV score: 0.9755090150115786\n",
      "                                                                                  \n",
      "Generation 3 - Current best internal CV score: 0.9775019841675167\n",
      "                                                                                   \n",
      "Generation 4 - Current best internal CV score: 0.9778033263556143\n",
      "                                                                                \n",
      "Generation 5 - Current best internal CV score: 0.9795839784726758\n",
      "                                                             \n",
      "Best pipeline: RandomForestClassifier(SelectPercentile(SGDClassifier(input_matrix, alpha=0.01, eta0=0.01, fit_intercept=False, l1_ratio=0.75, learning_rate=constant, loss=squared_hinge, penalty=elasticnet, power_t=10.0), percentile=12), bootstrap=False, criterion=gini, max_features=0.25, min_samples_leaf=8, min_samples_split=12, n_estimators=100)\n"
     ]
    }
   ],
   "source": [
    "# example of tpot for the sonar classification dataset\n",
    "from pandas import read_csv\n",
    "from sklearn.preprocessing import LabelEncoder\n",
    "from sklearn.model_selection import RepeatedStratifiedKFold\n",
    "from tpot import TPOTClassifier\n",
    "\n",
    "# load dataset\n",
    "aviation_data = r'/Users/robertreynoso/Desktop/phase_03_project/data/encoded_aviation_data.csv'\n",
    "\n",
    "dataframe = pd.read_csv(aviation_data, encoding='latin-1')\n",
    "\n",
    "\n",
    "# split into input and output elements\n",
    "data = dataframe.values\n",
    "X, y = data[:, :-1], data[:, -1]\n",
    "\n",
    "# minimally prepare dataset\n",
    "X = X.astype('float32')\n",
    "y = LabelEncoder().fit_transform(y.astype('str'))\n",
    "\n",
    "# define model evaluation\n",
    "cv = RepeatedStratifiedKFold(n_splits=10, n_repeats=3, random_state=1)\n",
    "\n",
    "# define search\n",
    "model = TPOTClassifier(generations=5, population_size=50, cv=cv, scoring='accuracy', verbosity=2, random_state=1, n_jobs=-1)\n",
    "\n",
    "# perform the search\n",
    "model.fit(X, y)\n",
    "\n",
    "# export the best model\n",
    "model.export('tpot_sonar_best_model.py')"
   ]
  },
  {
   "cell_type": "code",
   "execution_count": null,
   "metadata": {},
   "outputs": [],
   "source": []
  }
 ],
 "metadata": {
  "kernelspec": {
   "display_name": "Python 3.8.5 64-bit ('base': conda)",
   "language": "python",
   "name": "python385jvsc74a57bd0dca0ade3e726a953b501b15e8e990130d2b7799f14cfd9f4271676035ebe5511"
  },
  "language_info": {
   "codemirror_mode": {
    "name": "ipython",
    "version": 3
   },
   "file_extension": ".py",
   "mimetype": "text/x-python",
   "name": "python",
   "nbconvert_exporter": "python",
   "pygments_lexer": "ipython3",
   "version": "3.8.5"
  }
 },
 "nbformat": 4,
 "nbformat_minor": 4
}
