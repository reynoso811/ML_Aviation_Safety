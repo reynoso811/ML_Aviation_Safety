{
 "cells": [
  {
   "cell_type": "code",
   "execution_count": 1,
   "metadata": {},
   "outputs": [],
   "source": [
    "# Importing libraries\n",
    "import pandas as pd"
   ]
  },
  {
   "cell_type": "code",
   "execution_count": 2,
   "metadata": {},
   "outputs": [],
   "source": [
    "aviation_data = r'/Users/robertreynoso/Desktop/Phase3_Project_Data/data/missing_test.csv'\n",
    "\n",
    "data = pd.read_csv(aviation_data, encoding='latin-1')"
   ]
  },
  {
   "cell_type": "code",
   "execution_count": 3,
   "metadata": {},
   "outputs": [
    {
     "name": "stdout",
     "output_type": "stream",
     "text": [
      "<class 'pandas.core.frame.DataFrame'>\n",
      "RangeIndex: 79293 entries, 0 to 79292\n",
      "Data columns (total 25 columns):\n",
      " #   Column                  Non-Null Count  Dtype  \n",
      "---  ------                  --------------  -----  \n",
      " 0   Unnamed: 0              79293 non-null  int64  \n",
      " 1   event_date              79293 non-null  object \n",
      " 2   location                79293 non-null  object \n",
      " 3   injury_severity         79293 non-null  object \n",
      " 4   aircraft_damage         76883 non-null  object \n",
      " 5   make                    79204 non-null  object \n",
      " 6   model                   79175 non-null  object \n",
      " 7   amateur_build           78721 non-null  object \n",
      " 8   number_of_engines       75307 non-null  float64\n",
      " 9   engine_type             75919 non-null  object \n",
      " 10  total_fatal_injuries    55984 non-null  float64\n",
      " 11  total_serious_injuries  53742 non-null  float64\n",
      " 12  total_minor_injuries    54833 non-null  float64\n",
      " 13  total_uninjured         66949 non-null  float64\n",
      " 14  weather_conditions      79293 non-null  object \n",
      " 15  phase_of_flight         73239 non-null  object \n",
      " 16  Year                    79293 non-null  int64  \n",
      " 17  Month                   79293 non-null  int64  \n",
      " 18  Day                     79293 non-null  int64  \n",
      " 19  injuries                49736 non-null  float64\n",
      " 20  pax_onboard             49622 non-null  float64\n",
      " 21  fatality_percentage     49595 non-null  float64\n",
      " 22  survived                49622 non-null  float64\n",
      " 23  AmateurBuilt            79293 non-null  object \n",
      " 24  index                   79293 non-null  int64  \n",
      "dtypes: float64(9), int64(5), object(11)\n",
      "memory usage: 15.1+ MB\n"
     ]
    }
   ],
   "source": [
    "data.info()"
   ]
  },
  {
   "cell_type": "code",
   "execution_count": 11,
   "metadata": {},
   "outputs": [],
   "source": [
    "# select the wanted columns\n",
    "\n",
    "df = data[['aircraft_damage', 'make', 'model', 'engine_type', 'number_of_engines']]"
   ]
  },
  {
   "cell_type": "code",
   "execution_count": 13,
   "metadata": {},
   "outputs": [],
   "source": [
    "ac = pd.get_dummies(df['aircraft_damage'],drop_first=True)\n"
   ]
  },
  {
   "cell_type": "code",
   "execution_count": null,
   "metadata": {},
   "outputs": [],
   "source": [
    "from pandasgui import show\n",
    "\n",
    "gui  = show(train)"
   ]
  },
  {
   "cell_type": "code",
   "execution_count": 14,
   "metadata": {},
   "outputs": [],
   "source": [
    "ma = pd.get_dummies(df['make'],drop_first=True)\n"
   ]
  },
  {
   "cell_type": "code",
   "execution_count": 15,
   "metadata": {},
   "outputs": [],
   "source": [
    "mo = pd.get_dummies(df['model'],drop_first=True)\n"
   ]
  },
  {
   "cell_type": "code",
   "execution_count": 16,
   "metadata": {},
   "outputs": [],
   "source": [
    "en = pd.get_dummies(df['engine_type'],drop_first=True)\n"
   ]
  },
  {
   "cell_type": "code",
   "execution_count": 17,
   "metadata": {},
   "outputs": [],
   "source": [
    "num = pd.get_dummies(df['number_of_engines'],drop_first=True)\n"
   ]
  },
  {
   "cell_type": "code",
   "execution_count": 18,
   "metadata": {},
   "outputs": [],
   "source": [
    "train = pd.concat([ac,ma,mo,en,num],axis=1)\n"
   ]
  },
  {
   "cell_type": "code",
   "execution_count": null,
   "metadata": {},
   "outputs": [],
   "source": []
  },
  {
   "cell_type": "code",
   "execution_count": null,
   "metadata": {},
   "outputs": [],
   "source": []
  }
 ],
 "metadata": {
  "kernelspec": {
   "display_name": "Python 3.8.5 64-bit ('base': conda)",
   "language": "python",
   "name": "python385jvsc74a57bd0dca0ade3e726a953b501b15e8e990130d2b7799f14cfd9f4271676035ebe5511"
  },
  "language_info": {
   "codemirror_mode": {
    "name": "ipython",
    "version": 3
   },
   "file_extension": ".py",
   "mimetype": "text/x-python",
   "name": "python",
   "nbconvert_exporter": "python",
   "pygments_lexer": "ipython3",
   "version": "3.8.5"
  }
 },
 "nbformat": 4,
 "nbformat_minor": 4
}
