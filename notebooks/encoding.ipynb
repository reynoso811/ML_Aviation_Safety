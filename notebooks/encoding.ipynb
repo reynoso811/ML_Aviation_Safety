{
 "cells": [
  {
   "cell_type": "code",
   "execution_count": null,
   "metadata": {},
   "outputs": [],
   "source": [
    "## for data\n",
    "import pandas as pd\n",
    "import numpy as np\n",
    "from pandasgui import show\n",
    "import os\n",
    "import sys\n",
    "\n",
    "import datetime\n",
    "\n",
    "## for plotting\n",
    "import matplotlib.pyplot as plt\n",
    "import seaborn as sns"
   ]
  },
  {
   "cell_type": "code",
   "execution_count": null,
   "metadata": {},
   "outputs": [],
   "source": [
    "aviation_data = r'/Users/robertreynoso/Desktop/phase_03_project/data/clean_aviation_data_2.csv'\n",
    "\n",
    "df = pd.read_csv(aviation_data, encoding='latin-1')"
   ]
  },
  {
   "cell_type": "code",
   "execution_count": 10,
   "metadata": {},
   "outputs": [],
   "source": [
    "gui  = show(df)"
   ]
  },
  {
   "cell_type": "code",
   "execution_count": null,
   "metadata": {},
   "outputs": [],
   "source": [
    "df.dtypes"
   ]
  },
  {
   "cell_type": "code",
   "execution_count": 45,
   "metadata": {},
   "outputs": [],
   "source": [
    "df['injury_severity'] = df['injury_severity'].str.replace('\\d+', '')"
   ]
  },
  {
   "cell_type": "code",
   "execution_count": 53,
   "metadata": {},
   "outputs": [],
   "source": [
    "cols = ['injury_severity']\n",
    "for col in cols:\n",
    "    df[col] = df[col].map(lambda x: str(x).lstrip(' ()').rstrip(' ()'))"
   ]
  },
  {
   "cell_type": "code",
   "execution_count": 55,
   "metadata": {},
   "outputs": [],
   "source": [
    "df = df.rename(columns={'injury_severity': 'target', 'AmateurBuilt': 'amateur_built'})"
   ]
  },
  {
   "cell_type": "code",
   "execution_count": 58,
   "metadata": {},
   "outputs": [],
   "source": [
    "gui  = show(df)"
   ]
  },
  {
   "cell_type": "code",
   "execution_count": 57,
   "metadata": {},
   "outputs": [],
   "source": [
    "df.replace({'target' : {'Incident':'Non-Fatal'}}, inplace = True)"
   ]
  },
  {
   "cell_type": "code",
   "execution_count": 59,
   "metadata": {},
   "outputs": [
    {
     "data": {
      "text/plain": [
       "Non-Fatal    39521\n",
       "Fatal         9150\n",
       "Name: target, dtype: int64"
      ]
     },
     "execution_count": 59,
     "metadata": {},
     "output_type": "execute_result"
    }
   ],
   "source": [
    "df.target.value_counts(ascending=False)"
   ]
  },
  {
   "cell_type": "code",
   "execution_count": 38,
   "metadata": {},
   "outputs": [
    {
     "data": {
      "text/plain": [
       "target                   int64\n",
       "location                 int64\n",
       "aircraft_damage          int64\n",
       "make                     int64\n",
       "model                   object\n",
       "number_of_engines        int64\n",
       "engine_type              int64\n",
       "weather_conditions       int64\n",
       "phase_of_flight         object\n",
       "Year                     int64\n",
       "Month                    int64\n",
       "Day                      int64\n",
       "injuries               float64\n",
       "pax_onboard            float64\n",
       "fatality_percentage    float64\n",
       "survived                 int64\n",
       "amateur_built           object\n",
       "dtype: object"
      ]
     },
     "execution_count": 38,
     "metadata": {},
     "output_type": "execute_result"
    }
   ],
   "source": [
    "df.dtypes"
   ]
  },
  {
   "cell_type": "code",
   "execution_count": 67,
   "metadata": {},
   "outputs": [],
   "source": [
    "\n",
    "#Encoding categorical data values (Transforming object data types to integers)\n",
    "from sklearn.preprocessing import LabelEncoder\n",
    "labelencoder = LabelEncoder()\n",
    "\n",
    "#label vs hot_encoder??? \n",
    "\n",
    "#Encode location column\n",
    "df.iloc[:,1]=labelencoder.fit_transform(df.iloc[:,1].values)\n",
    "\n",
    "#Encode target column\n",
    "df.iloc[:,0]=labelencoder.fit_transform(df.iloc[:,0].values)\n",
    "\n",
    "\n",
    "#Encode aircraft_damage\n",
    "df.iloc[:,2]=labelencoder.fit_transform(df.iloc[:,2].values)\n",
    "\n",
    "#Encode make\n",
    "df.iloc[:,3]=labelencoder.fit_transform(df.iloc[:,3].values)\n",
    "\n",
    "#Encode model\n",
    "df.iloc[:,4]=labelencoder.fit_transform(df.iloc[:,4].values)\n",
    "\n",
    "#Encode engine_type\n",
    "df.iloc[:,6]=labelencoder.fit_transform(df.iloc[:,6].values)\n",
    "\n",
    "#Encode weather_conditions\n",
    "df.iloc[:,7]=labelencoder.fit_transform(df.iloc[:,7].values)\n",
    "\n",
    "#Encode phase_of_flight\n",
    "df.iloc[:,8]=labelencoder.fit_transform(df.iloc[:,8].values)\n",
    "\n",
    "#Encode amateur_built\n",
    "df.iloc[:,16]=labelencoder.fit_transform(df.iloc[:,16].values)\n",
    "\n",
    "\n"
   ]
  },
  {
   "cell_type": "code",
   "execution_count": 71,
   "metadata": {},
   "outputs": [
    {
     "data": {
      "text/html": [
       "<div>\n",
       "<style scoped>\n",
       "    .dataframe tbody tr th:only-of-type {\n",
       "        vertical-align: middle;\n",
       "    }\n",
       "\n",
       "    .dataframe tbody tr th {\n",
       "        vertical-align: top;\n",
       "    }\n",
       "\n",
       "    .dataframe thead th {\n",
       "        text-align: right;\n",
       "    }\n",
       "</style>\n",
       "<table border=\"1\" class=\"dataframe\">\n",
       "  <thead>\n",
       "    <tr style=\"text-align: right;\">\n",
       "      <th></th>\n",
       "      <th>Unnamed: 0</th>\n",
       "      <th>location</th>\n",
       "      <th>target</th>\n",
       "      <th>aircraft_damage</th>\n",
       "      <th>make</th>\n",
       "      <th>model</th>\n",
       "      <th>number_of_engines</th>\n",
       "      <th>engine_type</th>\n",
       "      <th>weather_conditions</th>\n",
       "      <th>phase_of_flight</th>\n",
       "      <th>Year</th>\n",
       "      <th>Month</th>\n",
       "      <th>Day</th>\n",
       "      <th>injuries</th>\n",
       "      <th>pax_onboard</th>\n",
       "      <th>fatality_percentage</th>\n",
       "      <th>survived</th>\n",
       "      <th>amateur_built</th>\n",
       "    </tr>\n",
       "  </thead>\n",
       "  <tbody>\n",
       "    <tr>\n",
       "      <th>0</th>\n",
       "      <td>0</td>\n",
       "      <td>1725</td>\n",
       "      <td>1</td>\n",
       "      <td>0</td>\n",
       "      <td>2963</td>\n",
       "      <td>64</td>\n",
       "      <td>1</td>\n",
       "      <td>0</td>\n",
       "      <td>2</td>\n",
       "      <td>CLIMB</td>\n",
       "      <td>1982</td>\n",
       "      <td>6</td>\n",
       "      <td>13</td>\n",
       "      <td>1.0</td>\n",
       "      <td>1.0</td>\n",
       "      <td>0.0</td>\n",
       "      <td>1</td>\n",
       "      <td>No</td>\n",
       "    </tr>\n",
       "    <tr>\n",
       "      <th>1</th>\n",
       "      <td>1</td>\n",
       "      <td>7692</td>\n",
       "      <td>1</td>\n",
       "      <td>0</td>\n",
       "      <td>2963</td>\n",
       "      <td>KR-2</td>\n",
       "      <td>1</td>\n",
       "      <td>0</td>\n",
       "      <td>2</td>\n",
       "      <td>CRUISE</td>\n",
       "      <td>1982</td>\n",
       "      <td>7</td>\n",
       "      <td>1</td>\n",
       "      <td>2.0</td>\n",
       "      <td>2.0</td>\n",
       "      <td>0.0</td>\n",
       "      <td>2</td>\n",
       "      <td>Yes</td>\n",
       "    </tr>\n",
       "    <tr>\n",
       "      <th>2</th>\n",
       "      <td>2</td>\n",
       "      <td>4221</td>\n",
       "      <td>0</td>\n",
       "      <td>0</td>\n",
       "      <td>2963</td>\n",
       "      <td>WINDWAGON</td>\n",
       "      <td>1</td>\n",
       "      <td>0</td>\n",
       "      <td>2</td>\n",
       "      <td>APPROACH</td>\n",
       "      <td>1982</td>\n",
       "      <td>7</td>\n",
       "      <td>16</td>\n",
       "      <td>1.0</td>\n",
       "      <td>1.0</td>\n",
       "      <td>100.0</td>\n",
       "      <td>0</td>\n",
       "      <td>Yes</td>\n",
       "    </tr>\n",
       "    <tr>\n",
       "      <th>3</th>\n",
       "      <td>3</td>\n",
       "      <td>12735</td>\n",
       "      <td>1</td>\n",
       "      <td>0</td>\n",
       "      <td>2963</td>\n",
       "      <td>MIDGET MUSTANG</td>\n",
       "      <td>1</td>\n",
       "      <td>0</td>\n",
       "      <td>2</td>\n",
       "      <td>MANEUVERING</td>\n",
       "      <td>1982</td>\n",
       "      <td>8</td>\n",
       "      <td>21</td>\n",
       "      <td>0.0</td>\n",
       "      <td>1.0</td>\n",
       "      <td>0.0</td>\n",
       "      <td>1</td>\n",
       "      <td>Yes</td>\n",
       "    </tr>\n",
       "    <tr>\n",
       "      <th>4</th>\n",
       "      <td>4</td>\n",
       "      <td>11332</td>\n",
       "      <td>1</td>\n",
       "      <td>2</td>\n",
       "      <td>2963</td>\n",
       "      <td>SKYBOLT</td>\n",
       "      <td>1</td>\n",
       "      <td>0</td>\n",
       "      <td>2</td>\n",
       "      <td>LANDING</td>\n",
       "      <td>1982</td>\n",
       "      <td>8</td>\n",
       "      <td>24</td>\n",
       "      <td>0.0</td>\n",
       "      <td>1.0</td>\n",
       "      <td>0.0</td>\n",
       "      <td>1</td>\n",
       "      <td>Yes</td>\n",
       "    </tr>\n",
       "  </tbody>\n",
       "</table>\n",
       "</div>"
      ],
      "text/plain": [
       "   Unnamed: 0  location  target  aircraft_damage  make           model  \\\n",
       "0           0      1725       1                0  2963              64   \n",
       "1           1      7692       1                0  2963            KR-2   \n",
       "2           2      4221       0                0  2963       WINDWAGON   \n",
       "3           3     12735       1                0  2963  MIDGET MUSTANG   \n",
       "4           4     11332       1                2  2963         SKYBOLT   \n",
       "\n",
       "   number_of_engines  engine_type  weather_conditions phase_of_flight  Year  \\\n",
       "0                  1            0                   2           CLIMB  1982   \n",
       "1                  1            0                   2          CRUISE  1982   \n",
       "2                  1            0                   2        APPROACH  1982   \n",
       "3                  1            0                   2     MANEUVERING  1982   \n",
       "4                  1            0                   2         LANDING  1982   \n",
       "\n",
       "   Month  Day  injuries  pax_onboard  fatality_percentage  survived  \\\n",
       "0      6   13       1.0          1.0                  0.0         1   \n",
       "1      7    1       2.0          2.0                  0.0         2   \n",
       "2      7   16       1.0          1.0                100.0         0   \n",
       "3      8   21       0.0          1.0                  0.0         1   \n",
       "4      8   24       0.0          1.0                  0.0         1   \n",
       "\n",
       "  amateur_built  \n",
       "0            No  \n",
       "1           Yes  \n",
       "2           Yes  \n",
       "3           Yes  \n",
       "4           Yes  "
      ]
     },
     "execution_count": 71,
     "metadata": {},
     "output_type": "execute_result"
    }
   ],
   "source": [
    "df.head()"
   ]
  },
  {
   "cell_type": "code",
   "execution_count": 70,
   "metadata": {},
   "outputs": [],
   "source": [
    "#Encode model\n",
    "df.iloc[:,4]=labelencoder.fit_transform(df.iloc[:,4].values)"
   ]
  },
  {
   "cell_type": "code",
   "execution_count": 41,
   "metadata": {},
   "outputs": [],
   "source": [
    "df = df[['target','location','aircraft_damage',\n",
    "                  'make','model','number_of_engines','engine_type',\n",
    "                  'weather_conditions','phase_of_flight','Year',\n",
    "                 'Month','Day','injuries','pax_onboard','fatality_percentage',\n",
    "                 'survived','amateur_built']]"
   ]
  },
  {
   "cell_type": "code",
   "execution_count": 42,
   "metadata": {},
   "outputs": [],
   "source": [
    "df.to_csv('/Users/robertreynoso/Desktop/phase_03_project/data//encoded_aviation_data_3.csv')"
   ]
  },
  {
   "cell_type": "code",
   "execution_count": null,
   "metadata": {},
   "outputs": [],
   "source": []
  }
 ],
 "metadata": {
  "kernelspec": {
   "display_name": "Python 3.8.5 64-bit ('base': conda)",
   "language": "python",
   "name": "python385jvsc74a57bd0dca0ade3e726a953b501b15e8e990130d2b7799f14cfd9f4271676035ebe5511"
  },
  "language_info": {
   "codemirror_mode": {
    "name": "ipython",
    "version": 3
   },
   "file_extension": ".py",
   "mimetype": "text/x-python",
   "name": "python",
   "nbconvert_exporter": "python",
   "pygments_lexer": "ipython3",
   "version": "3.8.5"
  }
 },
 "nbformat": 4,
 "nbformat_minor": 4
}
