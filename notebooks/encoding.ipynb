{
 "cells": [
  {
   "cell_type": "code",
   "execution_count": 1,
   "metadata": {},
   "outputs": [],
   "source": [
    "## for data\n",
    "import pandas as pd\n",
    "import numpy as np\n",
    "from pandasgui import show\n",
    "import os\n",
    "import sys\n",
    "\n",
    "import datetime\n",
    "\n",
    "## for plotting\n",
    "import matplotlib.pyplot as plt\n",
    "import seaborn as sns"
   ]
  },
  {
   "cell_type": "code",
   "execution_count": 3,
   "metadata": {},
   "outputs": [],
   "source": [
    "aviation_data = r'/Users/robertreynoso/Desktop/phase_03_project/data/clean_aviation_data_2.csv'\n",
    "\n",
    "df = pd.read_csv(aviation_data, encoding='latin-1')"
   ]
  },
  {
   "cell_type": "code",
   "execution_count": 33,
   "metadata": {},
   "outputs": [],
   "source": [
    "gui  = show(df)"
   ]
  },
  {
   "cell_type": "code",
   "execution_count": 4,
   "metadata": {},
   "outputs": [
    {
     "data": {
      "text/plain": [
       "Unnamed: 0               int64\n",
       "location                object\n",
       "injury_severity         object\n",
       "aircraft_damage         object\n",
       "make                    object\n",
       "model                   object\n",
       "number_of_engines      float64\n",
       "engine_type             object\n",
       "weather_conditions      object\n",
       "phase_of_flight         object\n",
       "Year                     int64\n",
       "Month                    int64\n",
       "Day                      int64\n",
       "injuries               float64\n",
       "pax_onboard            float64\n",
       "fatality_percentage    float64\n",
       "survived               float64\n",
       "AmateurBuilt            object\n",
       "dtype: object"
      ]
     },
     "execution_count": 4,
     "metadata": {},
     "output_type": "execute_result"
    }
   ],
   "source": [
    "df.dtypes"
   ]
  },
  {
   "cell_type": "code",
   "execution_count": 24,
   "metadata": {},
   "outputs": [],
   "source": [
    "spec_chars = [\"()\",\"(\"]\n",
    "\n",
    "for char in spec_chars:\n",
    "    df['injury_severity'] = df['injury_severity'].str.replace(char, ' ')\n"
   ]
  },
  {
   "cell_type": "code",
   "execution_count": 25,
   "metadata": {},
   "outputs": [],
   "source": [
    "df['injury_severity'] = df['injury_severity'].str.replace('\\d+', '')"
   ]
  },
  {
   "cell_type": "code",
   "execution_count": 28,
   "metadata": {},
   "outputs": [],
   "source": [
    "df = df.rename(columns={'injury_severity': 'target', 'AmateurBuilt': 'amateur_built'})"
   ]
  },
  {
   "cell_type": "code",
   "execution_count": 30,
   "metadata": {},
   "outputs": [
    {
     "data": {
      "text/plain": [
       "target                  object\n",
       "location                object\n",
       "aircraft_damage         object\n",
       "make                    object\n",
       "model                   object\n",
       "number_of_engines      float64\n",
       "engine_type             object\n",
       "weather_conditions      object\n",
       "phase_of_flight         object\n",
       "Year                     int64\n",
       "Month                    int64\n",
       "Day                      int64\n",
       "injuries               float64\n",
       "pax_onboard            float64\n",
       "fatality_percentage    float64\n",
       "survived               float64\n",
       "amateur_built           object\n",
       "dtype: object"
      ]
     },
     "execution_count": 30,
     "metadata": {},
     "output_type": "execute_result"
    }
   ],
   "source": [
    "df.dtypes"
   ]
  },
  {
   "cell_type": "code",
   "execution_count": 35,
   "metadata": {},
   "outputs": [],
   "source": [
    "\n",
    "#Encoding categorical data values (Transforming object data types to integers)\n",
    "from sklearn.preprocessing import LabelEncoder\n",
    "labelencoder = LabelEncoder()\n",
    "\n",
    "#label vs hot_encoder??? \n",
    "\n",
    "#Encode location column\n",
    "df.iloc[:,1]=labelencoder.fit_transform(df.iloc[:,1].values)\n",
    "\n",
    "#Encode target column\n",
    "df.iloc[:,0]=labelencoder.fit_transform(df.iloc[:,0].values)\n",
    "\n",
    "\n",
    "#Encode aircraft_damage\n",
    "df.iloc[:,2]=labelencoder.fit_transform(df.iloc[:,2].values)\n",
    "\n",
    "#Encode make\n",
    "df.iloc[:,3]=labelencoder.fit_transform(df.iloc[:,3].values)\n",
    "\n",
    "#Encode model\n",
    "df.iloc[:,4]=labelencoder.fit_transform(df.iloc[:,4].values)\n",
    "\n",
    "#Encode engine_type\n",
    "df.iloc[:,6]=labelencoder.fit_transform(df.iloc[:,6].values)\n",
    "\n",
    "#Encode weather_conditions\n",
    "df.iloc[:,7]=labelencoder.fit_transform(df.iloc[:,7].values)\n",
    "\n",
    "#Encode phase_of_flight\n",
    "df.iloc[:,8]=labelencoder.fit_transform(df.iloc[:,8].values)\n",
    "\n",
    "#Encode amateur_built\n",
    "df.iloc[:,16]=labelencoder.fit_transform(df.iloc[:,16].values)\n",
    "\n",
    "\n"
   ]
  },
  {
   "cell_type": "code",
   "execution_count": 36,
   "metadata": {},
   "outputs": [],
   "source": [
    "df = df[['target','location','aircraft_damage',\n",
    "                  'make','model','number_of_engines','engine_type',\n",
    "                  'weather_conditions','phase_of_flight','Year',\n",
    "                 'Month','Day','injuries','pax_onboard','fatality_percentage',\n",
    "                 'survived','amateur_built']]"
   ]
  },
  {
   "cell_type": "code",
   "execution_count": 37,
   "metadata": {},
   "outputs": [],
   "source": [
    "df.to_csv('/Users/robertreynoso/Desktop/phase_03_project/data//encoded_aviation_data.csv')"
   ]
  },
  {
   "cell_type": "code",
   "execution_count": null,
   "metadata": {},
   "outputs": [],
   "source": []
  }
 ],
 "metadata": {
  "kernelspec": {
   "display_name": "Python 3.8.5 64-bit ('base': conda)",
   "language": "python",
   "name": "python385jvsc74a57bd0dca0ade3e726a953b501b15e8e990130d2b7799f14cfd9f4271676035ebe5511"
  },
  "language_info": {
   "codemirror_mode": {
    "name": "ipython",
    "version": 3
   },
   "file_extension": ".py",
   "mimetype": "text/x-python",
   "name": "python",
   "nbconvert_exporter": "python",
   "pygments_lexer": "ipython3",
   "version": "3.8.5"
  }
 },
 "nbformat": 4,
 "nbformat_minor": 4
}
